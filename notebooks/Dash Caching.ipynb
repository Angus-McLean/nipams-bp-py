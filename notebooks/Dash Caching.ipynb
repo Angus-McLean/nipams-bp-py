{
 "cells": [
  {
   "cell_type": "markdown",
   "id": "ca9fb0c7-9138-4761-9817-ae9cf3d75950",
   "metadata": {},
   "source": [
    "# Dash Caching"
   ]
  },
  {
   "cell_type": "code",
   "execution_count": 4,
   "id": "d31d6bea-332d-4f92-a1bd-6976c923e2b8",
   "metadata": {},
   "outputs": [
    {
     "name": "stdout",
     "output_type": "stream",
     "text": [
      "/app\n"
     ]
    }
   ],
   "source": [
    "import os, sys; from importlib import reload;\n",
    "from utils.constants import *\n",
    "%cd {os.environ['PROJECT_PATH']}\n",
    "\n",
    "import plotly.express as px\n",
    "import jupyter_dash"
   ]
  },
  {
   "cell_type": "markdown",
   "id": "1b1cf881-32a4-4fc2-b7ef-354304defd09",
   "metadata": {},
   "source": [
    "- Load Data \n",
    "    - Input -> ButtonClick\n",
    "    - Saves dataframe to Cache\n",
    "- Plotting Functions\n",
    "    - Input -> dataframe changes & fields\n",
    "    - Fetch from cache\n",
    "    - Output to Chart\n",
    "- Modeling\n",
    "    - Input -> ButtonClick\n",
    "    - Fetch Data\n",
    "    - Train Model\n",
    "    - Save model to cache\n",
    "- "
   ]
  },
  {
   "cell_type": "code",
   "execution_count": 5,
   "id": "1371eee5-412b-4bac-bf60-b5929889ae21",
   "metadata": {},
   "outputs": [
    {
     "name": "stderr",
     "output_type": "stream",
     "text": [
      "/usr/local/lib/python3.8/site-packages/jupyter_dash/jupyter_app.py:139: UserWarning:\n",
      "\n",
      "The 'environ['werkzeug.server.shutdown']' function is deprecated and will be removed in Werkzeug 2.1.\n",
      "\n"
     ]
    },
    {
     "data": {
      "text/html": [
       "\n",
       "        <iframe\n",
       "            width=\"100%\"\n",
       "            height=\"650\"\n",
       "            src=\"http://0.0.0.0:8501/\"\n",
       "            frameborder=\"0\"\n",
       "            allowfullscreen\n",
       "            \n",
       "        ></iframe>\n",
       "        "
      ],
      "text/plain": [
       "<IPython.lib.display.IFrame at 0x7fc22adba340>"
      ]
     },
     "metadata": {},
     "output_type": "display_data"
    },
    {
     "name": "stderr",
     "output_type": "stream",
     "text": [
      "button_clicked 0\n",
      "trigger_train_model 0 None\n",
      "trigger_train_model skipping..\n",
      "trigger_viz 150 None\n",
      "button_clicked 1\n",
      "trigger_viz 150 None\n",
      "trigger_viz 150 [2]\n",
      "trigger_viz 150 [2, 3]\n"
     ]
    }
   ],
   "source": [
    "### Imports\n",
    "import json, sys\n",
    "from dash import dcc, html\n",
    "from dash.dependencies import Input, Output, State\n",
    "\n",
    "from src.dash_app.apps import dash_global\n",
    "\n",
    "df = px.data.iris()\n",
    "\n",
    "### App Setup\n",
    "app = jupyter_dash.JupyterDash(__name__)\n",
    "\n",
    "app.layout = html.Div([\n",
    "    html.H1('Dash & DataCaching', style={\"textAlign\": \"center\"}),\n",
    "    html.H3('Load Data', style={\"textAlign\": \"center\"}),\n",
    "    html.Button(id='button-load', children=['Load Data'], n_clicks=0),\n",
    "    dcc.Store('raw-data'),\n",
    "    \n",
    "    html.H3('Visualize', style={\"textAlign\": \"center\"}),\n",
    "    dcc.Dropdown(id='species_ids', multi=True,\n",
    "                 options=[{'value':i,'label':i} for i in df.species_id.unique()]),\n",
    "    html.Div(id='viz'),\n",
    "    dcc.Store('split-data'),\n",
    "    \n",
    "    html.H3('Modeling', style={\"textAlign\": \"center\"}),\n",
    "    html.Button(id='button-train', children=['Train Model'], n_clicks=0),\n",
    "    dcc.Store('model-binary'),\n",
    "    \n",
    "    html.Div(id='logs-div'),\n",
    "])\n",
    "\n",
    "\n",
    "### Cache Functions\n",
    "CACHE = {}\n",
    "def set_cache(obj):\n",
    "    global CACHE\n",
    "    try:\n",
    "        hash_key = hash(obj)\n",
    "    except:\n",
    "        hash_key = len(obj)\n",
    "    CACHE[hash_key] = obj\n",
    "    return hash_key\n",
    "\n",
    "def get_cache(hash_key):\n",
    "    global CACHE\n",
    "    return CACHE[hash_key]\n",
    "\n",
    "def log(*msg): print(*msg,file=sys.stderr)\n",
    "\n",
    "\n",
    "### Load Data\n",
    "@app.callback(\n",
    "    Output('raw-data','data'),\n",
    "    Input('button-load','n_clicks')\n",
    ")\n",
    "def button_clicked(n):\n",
    "    log('button_clicked', n)\n",
    "    return set_cache(df.copy())\n",
    "\n",
    "\n",
    "### Viz Functions\n",
    "@app.callback(\n",
    "    Output('viz','children'),\n",
    "    Input('raw-data','data'), Input('species_ids','value')\n",
    ")\n",
    "def trigger_viz(data, species_ids):\n",
    "    log('trigger_viz', data, species_ids)\n",
    "    # if not data : pass;\n",
    "    dff2 = get_cache(data)\n",
    "    return dcc.Graph(\n",
    "        figure=px.scatter_3d(dff2, 'sepal_length','petal_length','sepal_width', color='species')\n",
    "    )\n",
    "\n",
    "\n",
    "\n",
    "### Modeling & Save\n",
    "import numpy as np\n",
    "\n",
    "@app.callback(\n",
    "    Output('model-binary','data'),\n",
    "    Input('button-train','n_clicks'), State('raw-data','data')\n",
    ")\n",
    "def trigger_train_model(n, data):\n",
    "    log('trigger_train_model',n, data)\n",
    "    if (n < 1) or data == None : \n",
    "        print('trigger_train_model skipping..',file=sys.stderr)\n",
    "        return None\n",
    "    dff = get_cache(data)\n",
    "    \n",
    "    model = lambda x : np.rand.rand()\n",
    "    return set_cache(model)\n",
    "\n",
    "\n",
    "### Run App\n",
    "if __name__ == '__main__':\n",
    "    app.run_server(mode='inline',\n",
    "                    port=8501, \n",
    "                    host=\"0.0.0.0\",\n",
    "                    debug=True, #**{'width': '1200px', 'height': '800px'}\n",
    "      # assets_external_path=\"https://stackpath.bootstrapcdn.com/bootstrap/4.4.1/css/bootstrap.min.css\"\n",
    "    )"
   ]
  },
  {
   "cell_type": "code",
   "execution_count": null,
   "id": "b299cbc6-f278-439f-b61a-568439235ebc",
   "metadata": {},
   "outputs": [],
   "source": []
  }
 ],
 "metadata": {
  "kernelspec": {
   "display_name": "Python 3 (ipykernel)",
   "language": "python",
   "name": "python3"
  },
  "language_info": {
   "codemirror_mode": {
    "name": "ipython",
    "version": 3
   },
   "file_extension": ".py",
   "mimetype": "text/x-python",
   "name": "python",
   "nbconvert_exporter": "python",
   "pygments_lexer": "ipython3",
   "version": "3.8.12"
  }
 },
 "nbformat": 4,
 "nbformat_minor": 5
}
