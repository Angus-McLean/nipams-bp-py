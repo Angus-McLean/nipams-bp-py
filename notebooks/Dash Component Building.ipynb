{
 "cells": [
  {
   "cell_type": "markdown",
   "metadata": {},
   "source": [
    "# Dash Component Building"
   ]
  },
  {
   "cell_type": "markdown",
   "metadata": {},
   "source": [
    "# Initialize"
   ]
  },
  {
   "cell_type": "markdown",
   "metadata": {},
   "source": [
    "## Imports"
   ]
  },
  {
   "cell_type": "code",
   "execution_count": 74,
   "metadata": {},
   "outputs": [
    {
     "name": "stdout",
     "output_type": "stream",
     "text": [
      "/app\n"
     ]
    }
   ],
   "source": [
    "### Setup Env for Local\n",
    "import os; from importlib import reload;\n",
    "%cd {os.environ['PROJECT_PATH']}\n",
    "from utils.constants import *"
   ]
  },
  {
   "cell_type": "code",
   "execution_count": 75,
   "metadata": {},
   "outputs": [],
   "source": [
    "from dash import dcc, html, dash_table, callback\n",
    "import dash_bootstrap_components as dbc\n",
    "from dash.dependencies import Input, Output, State\n",
    "import plotly.express as px\n",
    "import jupyter_dash"
   ]
  },
  {
   "cell_type": "code",
   "execution_count": 78,
   "metadata": {},
   "outputs": [
    {
     "ename": "TypeError",
     "evalue": "Required argument `id` was not specified.",
     "output_type": "error",
     "traceback": [
      "\u001b[0;31m---------------------------------------------------------------------------\u001b[0m",
      "\u001b[0;31mTypeError\u001b[0m                                 Traceback (most recent call last)",
      "Input \u001b[0;32mIn [78]\u001b[0m, in \u001b[0;36m<module>\u001b[0;34m\u001b[0m\n\u001b[0;32m----> 1\u001b[0m \u001b[43mdcc\u001b[49m\u001b[38;5;241;43m.\u001b[39;49m\u001b[43mStore\u001b[49m\u001b[43m(\u001b[49m\u001b[43mstorage_type\u001b[49m\u001b[38;5;241;43m=\u001b[39;49m\u001b[38;5;124;43m'\u001b[39;49m\u001b[38;5;124;43msession\u001b[39;49m\u001b[38;5;124;43m'\u001b[39;49m\u001b[43m)\u001b[49m\n",
      "File \u001b[0;32m/usr/local/lib/python3.8/site-packages/dash/development/base_component.py:425\u001b[0m, in \u001b[0;36m_explicitize_args.<locals>.wrapper\u001b[0;34m(*args, **kwargs)\u001b[0m\n\u001b[1;32m    423\u001b[0m \u001b[38;5;28;01mif\u001b[39;00m \u001b[38;5;124m\"\u001b[39m\u001b[38;5;124mself\u001b[39m\u001b[38;5;124m\"\u001b[39m \u001b[38;5;129;01min\u001b[39;00m kwargs[\u001b[38;5;124m\"\u001b[39m\u001b[38;5;124m_explicit_args\u001b[39m\u001b[38;5;124m\"\u001b[39m]:\n\u001b[1;32m    424\u001b[0m     kwargs[\u001b[38;5;124m\"\u001b[39m\u001b[38;5;124m_explicit_args\u001b[39m\u001b[38;5;124m\"\u001b[39m]\u001b[38;5;241m.\u001b[39mremove(\u001b[38;5;124m\"\u001b[39m\u001b[38;5;124mself\u001b[39m\u001b[38;5;124m\"\u001b[39m)\n\u001b[0;32m--> 425\u001b[0m \u001b[38;5;28;01mreturn\u001b[39;00m \u001b[43mfunc\u001b[49m\u001b[43m(\u001b[49m\u001b[38;5;241;43m*\u001b[39;49m\u001b[43margs\u001b[49m\u001b[43m,\u001b[49m\u001b[43m \u001b[49m\u001b[38;5;241;43m*\u001b[39;49m\u001b[38;5;241;43m*\u001b[39;49m\u001b[43mkwargs\u001b[49m\u001b[43m)\u001b[49m\n",
      "File \u001b[0;32m/usr/local/lib/python3.8/site-packages/dash/dcc/Store.py:69\u001b[0m, in \u001b[0;36mStore.__init__\u001b[0;34m(\n    self,\n    id,\n    storage_type,\n    data,\n    clear_data,\n    modified_timestamp,\n    **kwargs\n)\u001b[0m\n\u001b[1;32m     67\u001b[0m \u001b[38;5;28;01mfor\u001b[39;00m k \u001b[38;5;129;01min\u001b[39;00m [\u001b[38;5;124m\"\u001b[39m\u001b[38;5;124mid\u001b[39m\u001b[38;5;124m\"\u001b[39m]:\n\u001b[1;32m     68\u001b[0m     \u001b[38;5;28;01mif\u001b[39;00m k \u001b[38;5;129;01mnot\u001b[39;00m \u001b[38;5;129;01min\u001b[39;00m args:\n\u001b[0;32m---> 69\u001b[0m         \u001b[38;5;28;01mraise\u001b[39;00m \u001b[38;5;167;01mTypeError\u001b[39;00m(\u001b[38;5;124m\"\u001b[39m\u001b[38;5;124mRequired argument `\u001b[39m\u001b[38;5;124m\"\u001b[39m \u001b[38;5;241m+\u001b[39m k \u001b[38;5;241m+\u001b[39m \u001b[38;5;124m\"\u001b[39m\u001b[38;5;124m` was not specified.\u001b[39m\u001b[38;5;124m\"\u001b[39m)\n\u001b[1;32m     70\u001b[0m \u001b[38;5;28msuper\u001b[39m(Store, \u001b[38;5;28mself\u001b[39m)\u001b[38;5;241m.\u001b[39m\u001b[38;5;21m__init__\u001b[39m(\u001b[38;5;241m*\u001b[39m\u001b[38;5;241m*\u001b[39margs)\n",
      "\u001b[0;31mTypeError\u001b[0m: Required argument `id` was not specified."
     ]
    },
    {
     "name": "stdout",
     "output_type": "stream",
     "text": [
      "JsonInputAIO.from_dropdown_to_textarea None\n",
      "JsonInputAIO.from_confirm_to_out None None\n",
      "JsonInputAIO.from_dropdown_to_textarea None\n",
      "JsonInputAIO.from_confirm_to_out None None\n",
      "JsonInputAIO.from_dropdown_to_textarea None\n",
      "JsonInputAIO.from_confirm_to_out None None\n",
      "JsonInputAIO.from_dropdown_to_textareaJsonInputAIO.from_confirm_to_out None None \n",
      "None\n",
      "JsonInputAIO.from_dropdown_to_textarea None\n",
      "JsonInputAIO.from_confirm_to_out None None\n",
      "JsonInputAIO.from_confirm_to_out None None\n",
      "JsonInputAIO.from_dropdown_to_textarea None\n",
      "JsonInputAIO.from_confirm_to_out None None\n",
      "JsonInputAIO.from_dropdown_to_textarea None\n",
      "JsonInputAIO.from_dropdown_to_textarea None\n",
      "JsonInputAIO.from_confirm_to_out None None\n",
      "JsonInputAIO.from_dropdown_to_textarea None\n",
      "JsonInputAIO.from_confirm_to_out None None\n",
      "JsonInputAIO.from_confirm_to_out None None\n",
      "JsonInputAIO.from_dropdown_to_textarea None\n",
      "JsonInputAIO.from_dropdown_to_textarea None\n",
      "JsonInputAIO.from_confirm_to_out None None\n",
      "JsonInputAIO.from_dropdown_to_textarea NoneJsonInputAIO.from_confirm_to_out None None\n",
      "\n",
      "JsonInputAIO.from_dropdown_to_textarea None\n",
      "JsonInputAIO.from_confirm_to_out None None\n",
      "JsonInputAIO.from_confirm_to_out None None\n",
      "JsonInputAIO.from_dropdown_to_textarea None\n",
      "JsonInputAIO.from_dropdown_to_textarea None\n",
      "JsonInputAIO.from_confirm_to_out None None\n",
      "JsonInputAIO.from_dropdown_to_textarea None\n",
      "JsonInputAIO.from_confirm_to_out None None\n",
      "JsonInputAIO.from_dropdown_to_textarea JsonInputAIO.from_confirm_to_out None\n",
      "None None\n",
      "JsonInputAIO.from_dropdown_to_textareaJsonInputAIO.from_confirm_to_out None None\n",
      " None\n",
      "JsonInputAIO.from_dropdown_to_textareaJsonInputAIO.from_confirm_to_out  None\n",
      "None None\n",
      "JsonInputAIO.from_dropdown_to_textarea None\n",
      "JsonInputAIO.from_confirm_to_out None None\n",
      "JsonInputAIO.from_dropdown_to_textareaJsonInputAIO.from_confirm_to_out None None\n",
      " None\n",
      "JsonInputAIO.from_dropdown_to_textarea None\n",
      "JsonInputAIO.from_confirm_to_out None None\n",
      "JsonInputAIO.from_confirm_to_out JsonInputAIO.from_dropdown_to_textarea NoneNone None\n",
      "\n",
      "JsonInputAIO.from_confirm_to_outJsonInputAIO.from_dropdown_to_textarea None None\n",
      " None\n",
      "JsonInputAIO.from_dropdown_to_textarea NoneJsonInputAIO.from_confirm_to_out None None\n",
      "\n",
      "JsonInputAIO.from_dropdown_to_textareaJsonInputAIO.from_confirm_to_out None None\n",
      " None\n",
      "JsonInputAIO.from_dropdown_to_textarea None\n",
      "JsonInputAIO.from_confirm_to_out None None\n",
      "JsonInputAIO.from_dropdown_to_textarea None\n",
      "JsonInputAIO.from_confirm_to_out None None\n",
      "JsonInputAIO.from_dropdown_to_textarea None\n",
      "JsonInputAIO.from_confirm_to_out None None\n",
      "JsonInputAIO.from_dropdown_to_textarea JsonInputAIO.from_confirm_to_out None None\n",
      "None\n",
      "JsonInputAIO.from_dropdown_to_textarea None\n",
      "JsonInputAIO.from_confirm_to_out None None\n",
      "JsonInputAIO.from_dropdown_to_textarea None\n",
      "JsonInputAIO.from_confirm_to_out None None\n"
     ]
    }
   ],
   "source": [
    "dcc.Store(storage_type='session')"
   ]
  },
  {
   "cell_type": "markdown",
   "metadata": {},
   "source": [
    "## Empty Dash App"
   ]
  },
  {
   "cell_type": "code",
   "execution_count": 5,
   "metadata": {},
   "outputs": [
    {
     "name": "stdout",
     "output_type": "stream",
     "text": [
      "Dash app running on http://0.0.0.0:8502/\n"
     ]
    }
   ],
   "source": [
    "app = jupyter_dash.JupyterDash(__name__, external_stylesheets=[dbc.themes.BOOTSTRAP])\n",
    "app.layout = html.Div([\"Hello World!\"])\n",
    "app.run_server(mode='external',port=8502, host=\"0.0.0.0\", debug=True, **{'width': '800px', 'height': '400px'})  "
   ]
  },
  {
   "cell_type": "markdown",
   "metadata": {},
   "source": [
    "# Components"
   ]
  },
  {
   "cell_type": "markdown",
   "metadata": {
    "jp-MarkdownHeadingCollapsed": true,
    "tags": []
   },
   "source": [
    "## Building Default Component (and Conventions)"
   ]
  },
  {
   "cell_type": "code",
   "execution_count": 51,
   "metadata": {},
   "outputs": [
    {
     "name": "stdout",
     "output_type": "stream",
     "text": [
      "EmptyStoreAIO.__init__ EmptyStoreAIO my_empty_comp_id    numbers colors\n",
      "0        1    red\n",
      "1        2  white\n",
      "2        3   blue None \n",
      "\n"
     ]
    },
    {
     "name": "stderr",
     "output_type": "stream",
     "text": [
      "/usr/local/lib/python3.8/site-packages/jupyter_dash/jupyter_app.py:139: UserWarning:\n",
      "\n",
      "The 'environ['werkzeug.server.shutdown']' function is deprecated and will be removed in Werkzeug 2.1.\n",
      "\n"
     ]
    },
    {
     "name": "stdout",
     "output_type": "stream",
     "text": [
      "Dash app running on http://0.0.0.0:8501/\n",
      "EmptyStoreAIO.from_in_to_out 500c9dda4dacec74c219821247da63b281c609fe225d82edb2322008fdac86a1cb3c8de54c7a3a4b94d0cb2242120c515afcdb60a48a1f6b68a9fa684692fbd7 \n",
      "\n",
      "from_empty_to_text 500c9dda4dacec74c219821247da63b281c609fe225d82edb2322008fdac86a1cb3c8de54c7a3a4b94d0cb2242120c515afcdb60a48a1f6b68a9fa684692fbd7 \n",
      "\n",
      "EmptyStoreAIO.from_in_to_out 500c9dda4dacec74c219821247da63b281c609fe225d82edb2322008fdac86a1cb3c8de54c7a3a4b94d0cb2242120c515afcdb60a48a1f6b68a9fa684692fbd7 \n",
      "\n",
      "from_empty_to_text 500c9dda4dacec74c219821247da63b281c609fe225d82edb2322008fdac86a1cb3c8de54c7a3a4b94d0cb2242120c515afcdb60a48a1f6b68a9fa684692fbd7 \n",
      "\n",
      "EmptyStoreAIO.from_in_to_out 500c9dda4dacec74c219821247da63b281c609fe225d82edb2322008fdac86a1cb3c8de54c7a3a4b94d0cb2242120c515afcdb60a48a1f6b68a9fa684692fbd7 \n",
      "\n",
      "from_empty_to_text 500c9dda4dacec74c219821247da63b281c609fe225d82edb2322008fdac86a1cb3c8de54c7a3a4b94d0cb2242120c515afcdb60a48a1f6b68a9fa684692fbd7 \n",
      "\n"
     ]
    }
   ],
   "source": [
    "from dash import callback, html, dash_table, dcc, Input, Output, State, MATCH\n",
    "import uuid, warnings\n",
    "import pandas as pd\n",
    "# from dash_app.cache import redis_store\n",
    "from dash_app import cache; reload(cache); redis_store = cache.redis_store\n",
    "\n",
    "class EmptyStoreAIO(html.Div):\n",
    "    \n",
    "    COMP_NAME = \"EmptyStoreAIO\"\n",
    "    class ids:\n",
    "        store_in = lambda aio_id: {'aio_id': aio_id,'component': \"EmptyStoreAIO\",'subcomponent': 'store_in'}\n",
    "        store_out = lambda aio_id: {'aio_id': aio_id,'component': \"EmptyStoreAIO\",'subcomponent': 'store_out'}\n",
    "        text_state = lambda aio_id: {'aio_id': aio_id,'component': \"EmptyStoreAIO\",'subcomponent': 'text_state'}\n",
    "    \n",
    "    \n",
    "    def __init__(self, aio_id=None, data_in=None, store_in=None, verbose=False):\n",
    "        if aio_id is None: aio_id = str(uuid.uuid4())\n",
    "        if verbose : print(\"EmptyStoreAIO.__init__\", self.COMP_NAME, aio_id, data_in, store_in, '\\n')\n",
    "    \n",
    "        if data_in is not None: store_in = redis_store.save(data_in)\n",
    "    \n",
    "        super().__init__([\n",
    "            dcc.Store(id=self.ids.store_in(aio_id), data=store_in),\n",
    "            dcc.Store(id=self.ids.store_out(aio_id)),\n",
    "            html.Pre(id=self.ids.text_state(aio_id),\n",
    "                     children=[\"EmptyStoreAIO.rendered\", self.COMP_NAME, aio_id], \n",
    "                     style={'display':'' if verbose else 'none'}),\n",
    "        ])\n",
    "        \n",
    "    @callback([Output(ids.store_out(MATCH),'data'),Output(ids.text_state(MATCH),'children'),], \n",
    "        Input(ids.store_in(MATCH), 'data'))\n",
    "    def from_in_to_out(df_key):\n",
    "        print(\"EmptyStoreAIO.from_in_to_out\", df_key, '\\n')\n",
    "        df_key_out = df_key\n",
    "        # df = redis_store.load(df_key); \n",
    "        # df_key_out = redis_store.save(df)\n",
    "        return df_key, str({'store_in' : df_key, 'store_out' : df_key_out})\n",
    "\n",
    "    \n",
    "######################\n",
    "#  Use in Dash Page  #\n",
    "######################\n",
    "\n",
    "empty_component = EmptyStoreAIO('my_empty_comp_id', verbose=True, data_in=pd.DataFrame({'numbers': [1, 2, 3], 'colors': ['red', 'white', 'blue']}))\n",
    "\n",
    "app = jupyter_dash.JupyterDash(__name__, external_stylesheets=[dbc.themes.BOOTSTRAP])\n",
    "app.layout = html.Div([\n",
    "    empty_component,\n",
    "    html.Div(['Hello World'], id='use_component_output')\n",
    "])\n",
    "\n",
    "@app.callback(\n",
    "    Output('use_component_output','children'),\n",
    "    Input(empty_component.ids.store_out('my_empty_comp_id'), 'data')\n",
    ")\n",
    "def from_empty_to_text(df_key):\n",
    "    print(\"from_empty_to_text\", df_key, '\\n')\n",
    "    df = redis_store.load(df_key)\n",
    "    return \"DataFrame Shape : \" + str(df.shape)\n",
    "\n",
    "app.run_server(mode='external',port=8501, host=\"0.0.0.0\", debug=True, **{'width': '800px', 'height': '400px'})  "
   ]
  },
  {
   "cell_type": "markdown",
   "metadata": {
    "tags": []
   },
   "source": [
    "## Building JSON TextArea (with Confirmation)"
   ]
  },
  {
   "cell_type": "code",
   "execution_count": 53,
   "metadata": {},
   "outputs": [
    {
     "name": "stdout",
     "output_type": "stream",
     "text": [
      "Dash app running on http://0.0.0.0:8501/\n",
      "JsonInputAIO.from_dropdown_to_textarea None\n",
      "JsonInputAIO.from_confirm_to_out None None\n",
      "JsonInputAIO.from_dropdown_to_textarea None\n",
      "JsonInputAIO.from_confirm_to_out None None\n",
      "JsonInputAIO.from_dropdown_to_textarea {\"asdf\":51}\n",
      "JsonInputAIO.from_dropdown_to_textarea {\"asdf\":52}\n",
      "JsonInputAIO.from_confirm_to_out {\"asdf\":52} 1\n",
      "page from_empty_to_text {\"asdf\":52}\n",
      "JsonInputAIO.from_dropdown_to_textarea None\n",
      "JsonInputAIO.from_confirm_to_out None None\n"
     ]
    }
   ],
   "source": [
    "from dash import callback, html, dash_table, dcc, Input, Output, State, MATCH\n",
    "from dash.exceptions import PreventUpdate\n",
    "import uuid, warnings\n",
    "import pandas as pd\n",
    "# from dash_app.cache import redis_store\n",
    "from dash_app import cache; reload(cache); redis_store = cache.redis_store\n",
    "\n",
    "class JsonInputAIO(html.Div):\n",
    "    \n",
    "    COMP_NAME = \"JsonInputAIO\"\n",
    "    class ids:\n",
    "        store_in = lambda aio_id: {'aio_id': aio_id,'component': \"JsonInputAIO\",'subcomponent': 'store_in'}\n",
    "        store_out = lambda aio_id: {'aio_id': aio_id,'component': \"JsonInputAIO\",'subcomponent': 'store_out'}\n",
    "        text_state = lambda aio_id: {'aio_id': aio_id,'component': \"JsonInputAIO\",'subcomponent': 'text_state'}\n",
    "        input_dropdown = lambda aio_id: {'aio_id': aio_id,'component': \"JsonInputAIO\",'subcomponent': 'input_dropdown'}\n",
    "        input_textarea = lambda aio_id: {'aio_id': aio_id,'component': \"JsonInputAIO\",'subcomponent': 'input_textarea'}\n",
    "        confirm_button = lambda aio_id: {'aio_id': aio_id,'component': \"JsonInputAIO\",'subcomponent': 'confirm_button'}\n",
    "        \n",
    "    \n",
    "    \n",
    "    def __init__(self, aio_id=None, options={}, store_in=None, verbose=False):\n",
    "        if aio_id is None: aio_id = str(uuid.uuid4())\n",
    "        if verbose : print(\"JsonInputAIO.__init__\", self.COMP_NAME, aio_id, store_in)\n",
    "    \n",
    "        options_inv = {v: k for k, v in options.items()}\n",
    "    \n",
    "        super().__init__([\n",
    "            dbc.CardBody([\n",
    "                dbc.Row([dcc.Dropdown(id=self.ids.input_dropdown(aio_id), options=options_inv)]),\n",
    "                dbc.Row([\n",
    "                    dcc.Textarea(id=self.ids.input_textarea(aio_id), placeholder=\"Select Sample JSON..\")\n",
    "                ]),\n",
    "                dbc.Row([dbc.Button([\"Confirm JSON\"],id=self.ids.confirm_button(aio_id))]),\n",
    "            ]),\n",
    "            dcc.Store(id=self.ids.store_in(aio_id), data=store_in),\n",
    "            dcc.Store(id=self.ids.store_out(aio_id)),\n",
    "            html.Pre(id=self.ids.text_state(aio_id),\n",
    "                     children=[\"JsonInputAIO.rendered\",' ', self.COMP_NAME,' ', aio_id], \n",
    "                     style={'display':'' if verbose else 'none'}),\n",
    "        ])\n",
    "\n",
    "    @callback(Output(ids.input_textarea(MATCH),'value'), \n",
    "        Input(ids.input_dropdown(MATCH), 'value'))\n",
    "    def from_dropdown_to_textarea(value):\n",
    "        print(\"JsonInputAIO.from_dropdown_to_textarea\", value)\n",
    "        # df_key_out = df_key\n",
    "        # df = redis_store.load(df_key); \n",
    "        # df_key_out = redis_store.save(df)\n",
    "        return value or \"\"\n",
    "\n",
    "        \n",
    "    @callback(Output(ids.store_out(MATCH),'data'), \n",
    "        Input(ids.confirm_button(MATCH), 'n_clicks'),\n",
    "        State(ids.input_textarea(MATCH), 'value'),)\n",
    "    def from_confirm_to_out(n_clicks, text_input=''):\n",
    "        print(\"JsonInputAIO.from_confirm_to_out\", text_input, n_clicks)\n",
    "        if n_clicks is None:raise PreventUpdate\n",
    "        return text_input\n",
    "\n",
    "    \n",
    "######################\n",
    "#  Use in Dash Page  #\n",
    "######################\n",
    "\n",
    "options = {\n",
    "    \"Split Randomly\" : '''{\"asdf\":5}''',\n",
    "    \"Split Randomly1\" : '''{\"asdf\":51}''',\n",
    "    \"Split Randomly2\" : '''{\"asdf\":52}''',\n",
    "    \"Split Randomly3\" : '''{\"asdf\":53}''',\n",
    "}\n",
    "\n",
    "my_json_comp = JsonInputAIO('my_json_comp_id', options)\n",
    "\n",
    "app = jupyter_dash.JupyterDash(__name__, external_stylesheets=[dbc.themes.BOOTSTRAP])\n",
    "app.layout = html.Div([\n",
    "    dbc.Card([my_json_comp], className='col-6'),\n",
    "    html.Div(['Hello World!'], id='use_component_output')\n",
    "])\n",
    "\n",
    "@app.callback(\n",
    "    Output('use_component_output','children'),\n",
    "    Input(my_json_comp.ids.store_out('my_json_comp_id'), 'data')\n",
    ")\n",
    "def from_empty_to_text(df_key):\n",
    "    print(\"page from_empty_to_text\", df_key)\n",
    "    # df = redis_store.load(df_key)\n",
    "    return \"Component Output : \" + str(df_key)\n",
    "\n",
    "app.run_server(mode='external',port=8501, host=\"0.0.0.0\", debug=True, **{'width': '800px', 'height': '400px'})  "
   ]
  },
  {
   "cell_type": "markdown",
   "metadata": {
    "jp-MarkdownHeadingCollapsed": true,
    "tags": []
   },
   "source": [
    "## Building DataTable (Rough)"
   ]
  },
  {
   "cell_type": "code",
   "execution_count": null,
   "metadata": {},
   "outputs": [],
   "source": [
    "\n",
    "\n",
    "### App Setup\n",
    "from dash_app.cache import redis_store\n",
    "from dash_app.components import datatable_comp; reload(datatable_comp)\n",
    "DataTableAIO = datatable_comp.DataTableAIO\n",
    "from dash_app.components import load_data_nipams_comp; reload(load_data_nipams_comp)\n",
    "PythonDataLoaderAIO = load_data_nipams_comp.PythonDataLoaderAIO\n",
    "from dash_app.components import overview_data_nipams_comp; reload(overview_data_nipams_comp)\n",
    "NipamsDataOverviewAIO = overview_data_nipams_comp.NipamsDataOverviewAIO\n",
    "\n",
    "\n",
    "app = jupyter_dash.JupyterDash(__name__, external_stylesheets=[dbc.themes.BOOTSTRAP])\n",
    "input_data_comp = PythonDataLoaderAIO(aio_id='input_data_comp')\n",
    "# filter_data_comp = DataTableAIO(df=pd.DataFrame(), aio_id='filter_data_comp')\n",
    "overview_data_comp = NipamsDataOverviewAIO(aio_id='overview_data_comp')\n",
    "\n",
    "app.layout = dbc.Col([\n",
    "    input_data_comp, \n",
    "    html.Div(id='filter_table'),\n",
    "    # filter_data_comp,\n",
    "    overview_data_comp,\n",
    "])\n",
    "\n",
    "\n",
    "\n",
    "\n",
    "@app.callback(\n",
    "    # Output(filter_data_comp.ids.store('filter_data_comp'),'data'),\n",
    "    Output('filter_table','children'),\n",
    "    Input(input_data_comp.ids.store('input_data_comp'), 'data')\n",
    ")\n",
    "def from_input_to_filter(df_key):\n",
    "    print('render_overview_container', df_key);\n",
    "    # df = redis_store.load(df_key)\n",
    "    return DataTableAIO(df=df, aio_id='filter_data_comp')\n",
    "    # return {\"df\":df_key}\n",
    "    \n",
    "# @app.callback(\n",
    "#     Output(filter_data_comp.ids.store('overview_data_comp'),'data'),\n",
    "#     # Output('filter_table','children'),\n",
    "#     Input(input_data_comp.ids.store('input_data_comp'), 'data')\n",
    "# )\n",
    "# def from_input_to_filter2(df_key):\n",
    "#     print('render_overview_container', df_key);\n",
    "#     df = redis_store.load(df_key)\n",
    "#     return {\"df\":df_key}\n",
    "#     # return DataTableAIO(df=df, aio_id='filter_data_comp')\n",
    "\n",
    "# @app.callback(\n",
    "#     Output(overview_data_comp.ids.store('overview_data_comp'),'data'),\n",
    "#     Input(input_data_comp.ids.store('input_data_comp'), 'data')\n",
    "# )\n",
    "# def from_input_to_overview(df):\n",
    "#     print('render_overview_container', df);\n",
    "#     return df\n",
    "    \n",
    "@app.callback(\n",
    "    Output(overview_data_comp.ids.store('overview_data_comp'),'data'),\n",
    "    Input(filter_data_comp.ids.store_out('filter_data_comp'), 'data')\n",
    ")\n",
    "def from_filter_to_overview(df):\n",
    "    print('render_overview_container', df);\n",
    "    return df\n",
    "    \n",
    "    \n",
    "app.run_server(mode='external',port=8502, host=\"0.0.0.0\", debug=True, **{'width': '800px', 'height': '400px'})  \n"
   ]
  },
  {
   "cell_type": "markdown",
   "metadata": {
    "tags": []
   },
   "source": [
    "## Building Pages"
   ]
  },
  {
   "cell_type": "markdown",
   "metadata": {
    "jp-MarkdownHeadingCollapsed": true,
    "tags": []
   },
   "source": [
    "### Template"
   ]
  },
  {
   "cell_type": "markdown",
   "metadata": {
    "jp-MarkdownHeadingCollapsed": true,
    "tags": []
   },
   "source": [
    "### Nipams Data Overview"
   ]
  },
  {
   "cell_type": "code",
   "execution_count": null,
   "metadata": {},
   "outputs": [],
   "source": [
    "app = jupyter_dash.JupyterDash(__name__, external_stylesheets=[dbc.themes.BOOTSTRAP])\n",
    "\n",
    "\n",
    "print('data_overview.py')\n",
    "import dash\n",
    "from dash import callback, html, dcc, Input, Output, State, MATCH\n",
    "import dash_bootstrap_components as dbc\n",
    "\n",
    "from utils.constants import *\n",
    "from dash_app.cache import redis_store\n",
    "\n",
    "# from app import app\n",
    "# import data_table\n",
    "\n",
    "# from dash_app.components.datatable_comp import DataTableAIO\n",
    "# from dash_app.components.load_data_nipams_comp import PythonDataLoaderAIO\n",
    "# from dash_app.components.overview_data_nipams_comp import NipamsDataOverviewAIO\n",
    "from dash_app.components import datatable_comp; reload(datatable_comp)\n",
    "DataTableAIO = datatable_comp.DataTableAIO\n",
    "from dash_app.components import load_data_nipams_comp; reload(load_data_nipams_comp)\n",
    "PythonDataLoaderAIO = load_data_nipams_comp.PythonDataLoaderAIO\n",
    "from dash_app.components import overview_data_nipams_comp; reload(overview_data_nipams_comp)\n",
    "NipamsDataOverviewAIO = overview_data_nipams_comp.NipamsDataOverviewAIO\n",
    "\n",
    "\n",
    "input_data_comp = PythonDataLoaderAIO(aio_id='input_data_comp')\n",
    "filter_data_comp = DataTableAIO(df=pd.DataFrame(), aio_id='filter_data_comp')\n",
    "overview_data_comp = NipamsDataOverviewAIO(aio_id='overview_data_comp')\n",
    "\n",
    "\n",
    "layout = dbc.Col([\n",
    "    html.H1('Data Loading', style={\"textAlign\": \"center\"}),\n",
    "    input_data_comp, \n",
    "    dbc.CardBody([\n",
    "        html.H4(\"Filter DataFrame\", className=\"card-title\"),html.P(\"Apply Columns Filters to Update Selected Data\",className=\"card-text\"),\n",
    "        dbc.Spinner([\n",
    "            html.Div(id='filter_table')\n",
    "        ], color='primary', spinner_style={'width':'5rem','height':'5rem'}),\n",
    "    ]),\n",
    "    # filter_data_comp,\n",
    "    overview_data_comp,\n",
    "    dbc.CardBody([\n",
    "        html.H4(\"Finalize Selection\", className=\"card-title\", style={\"textAlign\": \"center\"}),\n",
    "        dbc.Button(id='', children=['Confirm Selection'])\n",
    "        # dbc.Spinner([\n",
    "        #     html.Div(id='filter_table')\n",
    "        # ], color='primary', spinner_style={'width':'5rem','height':'5rem'}),\n",
    "    ]),\n",
    "    dcc.Store(id='page_data_load_output')\n",
    "])\n",
    "\n",
    "@app.callback(\n",
    "    # Output(filter_data_comp.ids.store('filter_data_comp'),'data'),\n",
    "    Output('filter_table','children'),\n",
    "    Input(input_data_comp.ids.store('input_data_comp'), 'data')\n",
    ")\n",
    "def from_input_to_filter(df_key):\n",
    "    print('from_input_to_filter', df_key)\n",
    "    df = redis_store.load(df_key)\n",
    "    return DataTableAIO(df=df, aio_id='filter_data_comp')\n",
    "    # return {\"df\":df_key}\n",
    "\n",
    "@app.callback(\n",
    "    Output(overview_data_comp.ids.store('overview_data_comp'),'data'),\n",
    "    Input(filter_data_comp.ids.store_out('filter_data_comp'), 'data')\n",
    ")\n",
    "def from_filter_to_overview(df=''):\n",
    "    print('from_filter_to_overview', df)\n",
    "    return df\n",
    "\n",
    "@app.callback(\n",
    "    Output('page_data_load_output','data'),\n",
    "    Input(filter_data_comp.ids.store_out('filter_data_comp'), 'data')\n",
    ")\n",
    "def from_overview_to_output(df):\n",
    "    print('from_overview_to_output', df)\n",
    "    return df\n",
    "\n",
    "app.layout = layout\n",
    "app.run_server(mode='external',port=8501, host=\"0.0.0.0\", debug=True, **{'width': '800px', 'height': '400px'})  \n"
   ]
  },
  {
   "cell_type": "markdown",
   "metadata": {},
   "source": [
    "## Nipams Splitting Page"
   ]
  },
  {
   "cell_type": "code",
   "execution_count": 71,
   "metadata": {},
   "outputs": [
    {
     "name": "stdout",
     "output_type": "stream",
     "text": [
      "Dash app running on http://0.0.0.0:8501/\n",
      "JsonInputAIO.from_dropdown_to_textarea NoneJsonInputAIO.from_confirm_to_out\n",
      " None None\n",
      "JsonInputAIO.from_dropdown_to_textarea {}\n",
      "JsonInputAIO.from_confirm_to_out {} 1\n",
      "page from_empty_to_text {}\n",
      "page from_confirm_to_pageout {}\n",
      "JsonInputAIO.from_confirm_to_out {\"asdf\":5} 2\n",
      "page from_empty_to_text {\"asdf\":5}\n",
      "page from_confirm_to_pageout {\"asdf\":5}\n",
      "JsonInputAIO.from_dropdown_to_textarea None\n",
      "JsonInputAIO.from_confirm_to_out None None\n",
      "JsonInputAIO.from_dropdown_to_textarea None\n",
      "JsonInputAIO.from_confirm_to_out None None\n",
      "JsonInputAIO.from_dropdown_to_textarea None\n",
      "JsonInputAIO.from_confirm_to_out None None\n",
      "JsonInputAIO.from_dropdown_to_textarea None\n",
      "JsonInputAIO.from_confirm_to_out None None\n",
      "JsonInputAIO.from_dropdown_to_textarea None\n",
      "JsonInputAIO.from_confirm_to_out None None\n",
      "JsonInputAIO.from_confirm_to_out None None\n",
      "JsonInputAIO.from_dropdown_to_textarea None\n",
      "JsonInputAIO.from_dropdown_to_textarea None\n",
      "JsonInputAIO.from_confirm_to_out None None\n",
      "JsonInputAIO.from_dropdown_to_textarea None\n",
      "JsonInputAIO.from_confirm_to_out None None\n",
      "JsonInputAIO.from_dropdown_to_textareaJsonInputAIO.from_confirm_to_out None None None\n",
      "\n",
      "JsonInputAIO.from_dropdown_to_textarea None\n",
      "JsonInputAIO.from_confirm_to_out None None\n",
      "JsonInputAIO.from_dropdown_to_textarea JsonInputAIO.from_confirm_to_out None None\n",
      "None\n",
      "JsonInputAIO.from_dropdown_to_textarea None\n",
      "JsonInputAIO.from_confirm_to_out None None\n",
      "JsonInputAIO.from_dropdown_to_textarea None\n",
      "JsonInputAIO.from_confirm_to_out None None\n",
      "JsonInputAIO.from_confirm_to_out None None\n",
      "JsonInputAIO.from_dropdown_to_textarea None\n",
      "JsonInputAIO.from_confirm_to_outJsonInputAIO.from_dropdown_to_textarea None None None\n",
      "\n",
      "JsonInputAIO.from_confirm_to_out JsonInputAIO.from_dropdown_to_textarea None None\n",
      "None\n",
      "JsonInputAIO.from_dropdown_to_textarea None\n",
      "JsonInputAIO.from_confirm_to_out None None\n",
      "JsonInputAIO.from_dropdown_to_textareaJsonInputAIO.from_confirm_to_out  None\n",
      "None None\n",
      "JsonInputAIO.from_confirm_to_outJsonInputAIO.from_dropdown_to_textarea None\n",
      " None None\n",
      "JsonInputAIO.from_dropdown_to_textarea None\n",
      "JsonInputAIO.from_confirm_to_out None None\n",
      "JsonInputAIO.from_dropdown_to_textarea None\n",
      "JsonInputAIO.from_confirm_to_out None None\n",
      "JsonInputAIO.from_dropdown_to_textarea None\n",
      "JsonInputAIO.from_confirm_to_out None None\n",
      "JsonInputAIO.from_dropdown_to_textareaJsonInputAIO.from_confirm_to_out None None\n",
      " None\n",
      "JsonInputAIO.from_dropdown_to_textarea None\n",
      "JsonInputAIO.from_confirm_to_out None None\n",
      "JsonInputAIO.from_dropdown_to_textareaJsonInputAIO.from_confirm_to_out None None\n",
      " None\n",
      "JsonInputAIO.from_dropdown_to_textarea None\n",
      "JsonInputAIO.from_confirm_to_out None None\n",
      "JsonInputAIO.from_dropdown_to_textarea JsonInputAIO.from_confirm_to_out None None\n",
      "None\n",
      "JsonInputAIO.from_dropdown_to_textarea NoneJsonInputAIO.from_confirm_to_out None None\n",
      "\n",
      "JsonInputAIO.from_confirm_to_outJsonInputAIO.from_dropdown_to_textarea None None\n",
      " None\n",
      "JsonInputAIO.from_dropdown_to_textarea None\n",
      "JsonInputAIO.from_confirm_to_out None None\n",
      "JsonInputAIO.from_dropdown_to_textarea None\n",
      "JsonInputAIO.from_confirm_to_out None None\n",
      "JsonInputAIO.from_dropdown_to_textarea None\n",
      "JsonInputAIO.from_confirm_to_out None None\n",
      "JsonInputAIO.from_dropdown_to_textarea None\n",
      "JsonInputAIO.from_confirm_to_out None None\n",
      "JsonInputAIO.from_confirm_to_outJsonInputAIO.from_dropdown_to_textarea None\n",
      " None None\n",
      "JsonInputAIO.from_dropdown_to_textarea None\n",
      "JsonInputAIO.from_confirm_to_out None None\n",
      "JsonInputAIO.from_dropdown_to_textarea None\n",
      "JsonInputAIO.from_confirm_to_out None None\n",
      "JsonInputAIO.from_dropdown_to_textareaJsonInputAIO.from_confirm_to_out None\n",
      " None None\n",
      "JsonInputAIO.from_dropdown_to_textarea None\n",
      "JsonInputAIO.from_confirm_to_out None None\n"
     ]
    }
   ],
   "source": [
    "# from dash_app import cache; reload(cache); redis_store = cache.redis_store\n",
    "from dash_app.components import basic_comps; reload(basic_comps)\n",
    "JsonInputAIO = basic_comps.JsonInputAIO\n",
    "\n",
    "app = jupyter_dash.JupyterDash(__name__, external_stylesheets=[dbc.themes.BOOTSTRAP])\n",
    "\n",
    "options_splitting = {\n",
    "    'Split By Random' : '{}'\n",
    "}\n",
    "\n",
    "json_input_split = JsonInputAIO('json_input_split', options_splitting)\n",
    "\n",
    "app.layout = dbc.Col([\n",
    "    html.H1('Data Splitting', style={\"textAlign\": \"center\"}), \n",
    "    dbc.Row([\n",
    "        dbc.Card([dbc.CardBody([\n",
    "                html.H4(\"Set up Experiment\", className=\"card-title\"),\n",
    "                html.Div([json_input_split]),\n",
    "            ]),\n",
    "        ], className='col-4'),\n",
    "        dbc.Card([dbc.CardBody([\n",
    "            html.Div(id='experiment-overview',children=['Experiment Output Pending..'])\n",
    "        ])], className='col-8'),\n",
    "    ]),\n",
    "    dbc.Row([\n",
    "        dbc.CardBody([\n",
    "            html.H4(\"Finalize\", className=\"card-title\", style={\"textAlign\": \"center\"}),\n",
    "            dbc.Button(id='confirm_splitting', children=['Confirm Experiment Design'])\n",
    "        ], style={'textAlign':'center'}),\n",
    "    ]),\n",
    "    dcc.Store(id='page_data_splitting_output')\n",
    "])\n",
    "\n",
    "@app.callback(\n",
    "    Output('experiment-overview','children'),\n",
    "    Input(json_input_split.ids.store_out('json_input_split'), 'data')\n",
    ")\n",
    "def from_empty_to_text(df_key):\n",
    "    print(\"page from_empty_to_text\", df_key)\n",
    "    # df = redis_store.load(df_key)\n",
    "    return \"Experiment Output : \" + str(df_key)\n",
    "\n",
    "@app.callback(Output('page_data_splitting_output','data'),\n",
    "              Input('confirm_splitting', 'n_clicks'), State(json_input_split.ids.store_out('json_input_split'), 'data'))\n",
    "def from_confirm_to_pageout(n_clicks, df_key):\n",
    "    if n_clicks is None: raise PreventUpdate\n",
    "    print(\"page from_confirm_to_pageout\", df_key)\n",
    "    # df = redis_store.load(df_key)\n",
    "    return \"Page Output : \" + str(df_key)\n",
    "\n",
    "\n",
    "app.run_server(mode='external',port=8501, host=\"0.0.0.0\", debug=True, **{'width': '800px', 'height': '400px'})  "
   ]
  },
  {
   "cell_type": "markdown",
   "metadata": {},
   "source": [
    "# Playground"
   ]
  },
  {
   "cell_type": "markdown",
   "metadata": {},
   "source": [
    "## Fetching from Cache (Redis)"
   ]
  },
  {
   "cell_type": "code",
   "execution_count": 84,
   "metadata": {},
   "outputs": [
    {
     "data": {
      "text/html": [
       "<div>\n",
       "<style scoped>\n",
       "    .dataframe tbody tr th:only-of-type {\n",
       "        vertical-align: middle;\n",
       "    }\n",
       "\n",
       "    .dataframe tbody tr th {\n",
       "        vertical-align: top;\n",
       "    }\n",
       "\n",
       "    .dataframe thead th {\n",
       "        text-align: right;\n",
       "    }\n",
       "</style>\n",
       "<table border=\"1\" class=\"dataframe\">\n",
       "  <thead>\n",
       "    <tr style=\"text-align: right;\">\n",
       "      <th></th>\n",
       "      <th>numbers</th>\n",
       "      <th>colors</th>\n",
       "    </tr>\n",
       "  </thead>\n",
       "  <tbody>\n",
       "    <tr>\n",
       "      <th>0</th>\n",
       "      <td>1</td>\n",
       "      <td>red</td>\n",
       "    </tr>\n",
       "    <tr>\n",
       "      <th>1</th>\n",
       "      <td>2</td>\n",
       "      <td>white</td>\n",
       "    </tr>\n",
       "    <tr>\n",
       "      <th>2</th>\n",
       "      <td>3</td>\n",
       "      <td>blue</td>\n",
       "    </tr>\n",
       "  </tbody>\n",
       "</table>\n",
       "</div>"
      ],
      "text/plain": [
       "   numbers colors\n",
       "0        1    red\n",
       "1        2  white\n",
       "2        3   blue"
      ]
     },
     "execution_count": 84,
     "metadata": {},
     "output_type": "execute_result"
    }
   ],
   "source": [
    "import json\n",
    "from dash_app.cache import redis_store\n",
    "# hash_key = '6d4c810f0891bc49ddb12192c67f2f805ea84d05b85b6e764eebd8dbcfc48bb1724489574d53558ffba8985bedfe421780c5d8c5fe5520f5298a721b7a1346d3'\n",
    "hash_key = '500c9dda4dacec74c219821247da63b281c609fe225d82edb2322008fdac86a1cb3c8de54c7a3a4b94d0cb2242120c515afcdb60a48a1f6b68a9fa684692fbd7'\n",
    "df = redis_store.load(hash_key)\n",
    "df"
   ]
  },
  {
   "cell_type": "code",
   "execution_count": 89,
   "metadata": {},
   "outputs": [
    {
     "name": "stdout",
     "output_type": "stream",
     "text": [
      "   numbers colors<br/>0        1    red<br/>1        2  white<br/>2        3   blue\n"
     ]
    }
   ],
   "source": [
    "print(df.head().to_string().replace('\\n','<br/>'))"
   ]
  },
  {
   "cell_type": "markdown",
   "metadata": {},
   "source": [
    "## Building Graphs"
   ]
  },
  {
   "cell_type": "code",
   "execution_count": null,
   "metadata": {},
   "outputs": [],
   "source": [
    "df_ = df[df.file.sample().values[0] == df.file]\n",
    "df_ = df_.reset_index(drop=True)\n",
    "\n",
    "# px.line(df_.select_dtypes(include=np.number))\n",
    "px.line(df_.select_dtypes(include=np.number).drop('ts',axis=1))"
   ]
  }
 ],
 "metadata": {
  "kernelspec": {
   "display_name": "Python 3 (ipykernel)",
   "language": "python",
   "name": "python3"
  },
  "language_info": {
   "codemirror_mode": {
    "name": "ipython",
    "version": 3
   },
   "file_extension": ".py",
   "mimetype": "text/x-python",
   "name": "python",
   "nbconvert_exporter": "python",
   "pygments_lexer": "ipython3",
   "version": "3.8.12"
  }
 },
 "nbformat": 4,
 "nbformat_minor": 4
}
