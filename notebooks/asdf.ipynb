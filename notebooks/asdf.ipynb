{
 "cells": [
  {
   "cell_type": "code",
   "execution_count": null,
   "metadata": {},
   "outputs": [],
   "source": []
  },
  {
   "cell_type": "code",
   "execution_count": 2,
   "metadata": {},
   "outputs": [
    {
     "name": "stdout",
     "output_type": "stream",
     "text": [
      "/app\n"
     ]
    }
   ],
   "source": [
    "### Setup Env for Local\n",
    "import os; from importlib import reload;\n",
    "%cd {os.environ['PROJECT_PATH']}\n",
    "from utils.constants import *\n",
    "\n",
    "from dash import dcc, html, dash_table, callback\n",
    "import dash_bootstrap_components as dbc\n",
    "from dash.dependencies import Input, Output, State\n",
    "import plotly.express as px\n",
    "import jupyter_dash\n"
   ]
  },
  {
   "cell_type": "code",
   "execution_count": 32,
   "metadata": {},
   "outputs": [
    {
     "name": "stdout",
     "output_type": "stream",
     "text": [
      "/app\n",
      "PythonDataLoaderAIO.__init__ input_data_comp\n"
     ]
    },
    {
     "name": "stderr",
     "output_type": "stream",
     "text": [
      "/usr/local/lib/python3.8/site-packages/jupyter_dash/jupyter_app.py:139: UserWarning:\n",
      "\n",
      "The 'environ['werkzeug.server.shutdown']' function is deprecated and will be removed in Werkzeug 2.1.\n",
      "\n"
     ]
    },
    {
     "name": "stdout",
     "output_type": "stream",
     "text": [
      "Dash app running on http://0.0.0.0:8502/\n",
      "input-file-pattern, button-load ['HLV', 'LLV'] 0\n",
      "input-file-pattern, button-load 6d4c810f0891bc49ddb12192c67f2f805ea84d05b85b6e764eebd8dbcfc48bb1724489574d53558ffba8985bedfe421780c5d8c5fe5520f5298a721b7a1346d3 (195376, 19)\n",
      "print_success_msg 6d4c810f0891bc49ddb12192c67f2f805ea84d05b85b6e764eebd8dbcfc48bb1724489574d53558ffba8985bedfe421780c5d8c5fe5520f5298a721b7a1346d3\n",
      "render_overview_container 6d4c810f0891bc49ddb12192c67f2f805ea84d05b85b6e764eebd8dbcfc48bb1724489574d53558ffba8985bedfe421780c5d8c5fe5520f5298a721b7a1346d3\n",
      "datatable_comp filter  {'df': '6d4c810f0891bc49ddb12192c67f2f805ea84d05b85b6e764eebd8dbcfc48bb1724489574d53558ffba8985bedfe421780c5d8c5fe5520f5298a721b7a1346d3'}\n",
      "render_overview_container 6d4c810f0891bc49ddb12192c67f2f805ea84d05b85b6e764eebd8dbcfc48bb1724489574d53558ffba8985bedfe421780c5d8c5fe5520f5298a721b7a1346d3\n",
      "input-file-pattern, button-load ['HLV', 'LLV'] 0\n",
      "input-file-pattern, button-load 6d4c810f0891bc49ddb12192c67f2f805ea84d05b85b6e764eebd8dbcfc48bb1724489574d53558ffba8985bedfe421780c5d8c5fe5520f5298a721b7a1346d3 (195376, 19)\n",
      "render_overview_container 6d4c810f0891bc49ddb12192c67f2f805ea84d05b85b6e764eebd8dbcfc48bb1724489574d53558ffba8985bedfe421780c5d8c5fe5520f5298a721b7a1346d3\n",
      "print_success_msg 6d4c810f0891bc49ddb12192c67f2f805ea84d05b85b6e764eebd8dbcfc48bb1724489574d53558ffba8985bedfe421780c5d8c5fe5520f5298a721b7a1346d3\n",
      "datatable_comp filter  {'df': '6d4c810f0891bc49ddb12192c67f2f805ea84d05b85b6e764eebd8dbcfc48bb1724489574d53558ffba8985bedfe421780c5d8c5fe5520f5298a721b7a1346d3'}\n",
      "render_overview_container 6d4c810f0891bc49ddb12192c67f2f805ea84d05b85b6e764eebd8dbcfc48bb1724489574d53558ffba8985bedfe421780c5d8c5fe5520f5298a721b7a1346d3\n",
      "input-file-pattern, button-load ['HLV', 'LLV'] 0\n"
     ]
    }
   ],
   "source": [
    "\n",
    "\n",
    "### App Setup\n",
    "from dash_app.cache import redis_store\n",
    "from dash_app.components import datatable_comp; reload(datatable_comp)\n",
    "DataTableAIO = datatable_comp.DataTableAIO\n",
    "from dash_app.components import load_data_nipams_comp; reload(load_data_nipams_comp)\n",
    "PythonDataLoaderAIO = load_data_nipams_comp.PythonDataLoaderAIO\n",
    "from dash_app.components import overview_data_nipams_comp; reload(overview_data_nipams_comp)\n",
    "NipamsDataOverviewAIO = overview_data_nipams_comp.NipamsDataOverviewAIO\n",
    "\n",
    "\n",
    "app = jupyter_dash.JupyterDash(__name__, external_stylesheets=[dbc.themes.BOOTSTRAP])\n",
    "input_data_comp = PythonDataLoaderAIO(aio_id='input_data_comp')\n",
    "# filter_data_comp = DataTableAIO(df=pd.DataFrame(), aio_id='filter_data_comp')\n",
    "overview_data_comp = NipamsDataOverviewAIO(aio_id='overview_data_comp')\n",
    "\n",
    "app.layout = dbc.Col([\n",
    "    input_data_comp, \n",
    "    html.Div(id='filter_table'),\n",
    "    # filter_data_comp,\n",
    "    overview_data_comp,\n",
    "])\n",
    "\n",
    "\n",
    "\n",
    "\n",
    "@app.callback(\n",
    "    # Output(filter_data_comp.ids.store('filter_data_comp'),'data'),\n",
    "    Output('filter_table','children'),\n",
    "    Input(input_data_comp.ids.store('input_data_comp'), 'data')\n",
    ")\n",
    "def from_input_to_filter(df_key):\n",
    "    print('render_overview_container', df_key);\n",
    "    # df = redis_store.load(df_key)\n",
    "    return DataTableAIO(df=df, aio_id='filter_data_comp')\n",
    "    # return {\"df\":df_key}\n",
    "    \n",
    "# @app.callback(\n",
    "#     Output(filter_data_comp.ids.store('overview_data_comp'),'data'),\n",
    "#     # Output('filter_table','children'),\n",
    "#     Input(input_data_comp.ids.store('input_data_comp'), 'data')\n",
    "# )\n",
    "# def from_input_to_filter2(df_key):\n",
    "#     print('render_overview_container', df_key);\n",
    "#     df = redis_store.load(df_key)\n",
    "#     return {\"df\":df_key}\n",
    "#     # return DataTableAIO(df=df, aio_id='filter_data_comp')\n",
    "\n",
    "# @app.callback(\n",
    "#     Output(overview_data_comp.ids.store('overview_data_comp'),'data'),\n",
    "#     Input(input_data_comp.ids.store('input_data_comp'), 'data')\n",
    "# )\n",
    "# def from_input_to_overview(df):\n",
    "#     print('render_overview_container', df);\n",
    "#     return df\n",
    "    \n",
    "@app.callback(\n",
    "    Output(overview_data_comp.ids.store('overview_data_comp'),'data'),\n",
    "    Input(filter_data_comp.ids.store_out('filter_data_comp'), 'data')\n",
    ")\n",
    "def from_filter_to_overview(df):\n",
    "    print('render_overview_container', df);\n",
    "    return df\n",
    "    \n",
    "    \n",
    "app.run_server(mode='external',port=8502, host=\"0.0.0.0\", debug=True, **{'width': '800px', 'height': '400px'})  \n"
   ]
  },
  {
   "cell_type": "code",
   "execution_count": 41,
   "metadata": {},
   "outputs": [
    {
     "name": "stdout",
     "output_type": "stream",
     "text": [
      "data_overview.py\n",
      "PythonDataLoaderAIO.__init__ input_data_comp\n",
      "datatable_comp filter  {'df': '6d4c810f0891bc49ddb12192c67f2f805ea84d05b85b6e764eebd8dbcfc48bb1724489574d53558ffba8985bedfe421780c5d8c5fe5520f5298a721b7a1346d3'}\n"
     ]
    },
    {
     "name": "stderr",
     "output_type": "stream",
     "text": [
      "/usr/local/lib/python3.8/site-packages/jupyter_dash/jupyter_app.py:139: UserWarning:\n",
      "\n",
      "The 'environ['werkzeug.server.shutdown']' function is deprecated and will be removed in Werkzeug 2.1.\n",
      "\n"
     ]
    },
    {
     "name": "stdout",
     "output_type": "stream",
     "text": [
      "Dash app running on http://0.0.0.0:8501/\n",
      "input-file-pattern, button-load ['HLV', 'LLV'] 0\n",
      "input-file-pattern, button-load 6d4c810f0891bc49ddb12192c67f2f805ea84d05b85b6e764eebd8dbcfc48bb1724489574d53558ffba8985bedfe421780c5d8c5fe5520f5298a721b7a1346d3 (195376, 19)\n",
      "print_success_msg 6d4c810f0891bc49ddb12192c67f2f805ea84d05b85b6e764eebd8dbcfc48bb1724489574d53558ffba8985bedfe421780c5d8c5fe5520f5298a721b7a1346d3\n",
      "from_input_to_filter 6d4c810f0891bc49ddb12192c67f2f805ea84d05b85b6e764eebd8dbcfc48bb1724489574d53558ffba8985bedfe421780c5d8c5fe5520f5298a721b7a1346d3\n",
      "datatable_comp filter  {'df': '6d4c810f0891bc49ddb12192c67f2f805ea84d05b85b6e764eebd8dbcfc48bb1724489574d53558ffba8985bedfe421780c5d8c5fe5520f5298a721b7a1346d3'}\n",
      "from_filter_to_overview 6d4c810f0891bc49ddb12192c67f2f805ea84d05b85b6e764eebd8dbcfc48bb1724489574d53558ffba8985bedfe421780c5d8c5fe5520f5298a721b7a1346d3\n",
      "from_overview_to_output 6d4c810f0891bc49ddb12192c67f2f805ea84d05b85b6e764eebd8dbcfc48bb1724489574d53558ffba8985bedfe421780c5d8c5fe5520f5298a721b7a1346d3\n"
     ]
    },
    {
     "name": "stderr",
     "output_type": "stream",
     "text": [
      "/usr/local/lib/python3.8/site-packages/plotly/express/_core.py:1637: FutureWarning:\n",
      "\n",
      "The frame.append method is deprecated and will be removed from pandas in a future version. Use pandas.concat instead.\n",
      "\n",
      "/usr/local/lib/python3.8/site-packages/plotly/express/_core.py:1637: FutureWarning:\n",
      "\n",
      "The frame.append method is deprecated and will be removed from pandas in a future version. Use pandas.concat instead.\n",
      "\n",
      "/usr/local/lib/python3.8/site-packages/plotly/express/_core.py:1637: FutureWarning:\n",
      "\n",
      "The frame.append method is deprecated and will be removed from pandas in a future version. Use pandas.concat instead.\n",
      "\n",
      "/app/src/dash_app/components/overview_data_nipams_comp.py:44: FutureWarning:\n",
      "\n",
      "Indexing with multiple keys (implicitly converted to a tuple of keys) will be deprecated, use a list instead.\n",
      "\n"
     ]
    }
   ],
   "source": [
    "app = jupyter_dash.JupyterDash(__name__, external_stylesheets=[dbc.themes.BOOTSTRAP])\n",
    "\n",
    "\n",
    "print('data_overview.py')\n",
    "import dash\n",
    "from dash import callback, html, dcc, Input, Output, State, MATCH\n",
    "import dash_bootstrap_components as dbc\n",
    "\n",
    "from utils.constants import *\n",
    "from dash_app.cache import redis_store\n",
    "\n",
    "# from app import app\n",
    "# import data_table\n",
    "\n",
    "# from dash_app.components.datatable_comp import DataTableAIO\n",
    "# from dash_app.components.load_data_nipams_comp import PythonDataLoaderAIO\n",
    "# from dash_app.components.overview_data_nipams_comp import NipamsDataOverviewAIO\n",
    "from dash_app.components import datatable_comp; reload(datatable_comp)\n",
    "DataTableAIO = datatable_comp.DataTableAIO\n",
    "from dash_app.components import load_data_nipams_comp; reload(load_data_nipams_comp)\n",
    "PythonDataLoaderAIO = load_data_nipams_comp.PythonDataLoaderAIO\n",
    "from dash_app.components import overview_data_nipams_comp; reload(overview_data_nipams_comp)\n",
    "NipamsDataOverviewAIO = overview_data_nipams_comp.NipamsDataOverviewAIO\n",
    "\n",
    "\n",
    "input_data_comp = PythonDataLoaderAIO(aio_id='input_data_comp')\n",
    "filter_data_comp = DataTableAIO(df=pd.DataFrame(), aio_id='filter_data_comp')\n",
    "overview_data_comp = NipamsDataOverviewAIO(aio_id='overview_data_comp')\n",
    "\n",
    "\n",
    "layout = dbc.Col([\n",
    "    html.H1('Data Loading', style={\"textAlign\": \"center\"}),\n",
    "    input_data_comp, \n",
    "    dbc.CardBody([\n",
    "        html.H4(\"Filter DataFrame\", className=\"card-title\"),html.P(\"Apply Columns Filters to Update Selected Data\",className=\"card-text\"),\n",
    "        dbc.Spinner([\n",
    "            html.Div(id='filter_table')\n",
    "        ], color='primary', spinner_style={'width':'5rem','height':'5rem'}),\n",
    "    ]),\n",
    "    # filter_data_comp,\n",
    "    overview_data_comp,\n",
    "    dbc.CardBody([\n",
    "        html.H4(\"Finalize Selection\", className=\"card-title\", style={\"textAlign\": \"center\"}),\n",
    "        dbc.Button(id='', children=['Confirm Selection'])\n",
    "        # dbc.Spinner([\n",
    "        #     html.Div(id='filter_table')\n",
    "        # ], color='primary', spinner_style={'width':'5rem','height':'5rem'}),\n",
    "    ]),\n",
    "    dcc.Store(id='page_data_load_output')\n",
    "])\n",
    "\n",
    "@app.callback(\n",
    "    # Output(filter_data_comp.ids.store('filter_data_comp'),'data'),\n",
    "    Output('filter_table','children'),\n",
    "    Input(input_data_comp.ids.store('input_data_comp'), 'data')\n",
    ")\n",
    "def from_input_to_filter(df_key):\n",
    "    print('from_input_to_filter', df_key)\n",
    "    df = redis_store.load(df_key)\n",
    "    return DataTableAIO(df=df, aio_id='filter_data_comp')\n",
    "    # return {\"df\":df_key}\n",
    "\n",
    "@app.callback(\n",
    "    Output(overview_data_comp.ids.store('overview_data_comp'),'data'),\n",
    "    Input(filter_data_comp.ids.store_out('filter_data_comp'), 'data')\n",
    ")\n",
    "def from_filter_to_overview(df=''):\n",
    "    print('from_filter_to_overview', df)\n",
    "    return df\n",
    "\n",
    "@app.callback(\n",
    "    Output('page_data_load_output','data'),\n",
    "    Input(filter_data_comp.ids.store_out('filter_data_comp'), 'data')\n",
    ")\n",
    "def from_overview_to_output(df):\n",
    "    print('from_overview_to_output', df)\n",
    "    return df\n",
    "\n",
    "app.layout = layout\n",
    "app.run_server(mode='external',port=8501, host=\"0.0.0.0\", debug=True, **{'width': '800px', 'height': '400px'})  \n"
   ]
  },
  {
   "cell_type": "code",
   "execution_count": 11,
   "metadata": {},
   "outputs": [
    {
     "data": {
      "text/plain": [
       "\"{'Number of Patients': 9, 'Total Rows': 195376, 'Total Columns': 19, 'Total Heartbeats': 1140}\""
      ]
     },
     "execution_count": 11,
     "metadata": {},
     "output_type": "execute_result"
    }
   ],
   "source": [
    "str(overview_data_nipams_comp.summarize_vcg_data(df))"
   ]
  },
  {
   "cell_type": "code",
   "execution_count": 14,
   "metadata": {},
   "outputs": [
    {
     "data": {
      "text/html": [
       "<div>\n",
       "<style scoped>\n",
       "    .dataframe tbody tr th:only-of-type {\n",
       "        vertical-align: middle;\n",
       "    }\n",
       "\n",
       "    .dataframe tbody tr th {\n",
       "        vertical-align: top;\n",
       "    }\n",
       "\n",
       "    .dataframe thead th {\n",
       "        text-align: right;\n",
       "    }\n",
       "</style>\n",
       "<table border=\"1\" class=\"dataframe\">\n",
       "  <thead>\n",
       "    <tr style=\"text-align: right;\">\n",
       "      <th></th>\n",
       "      <th>file</th>\n",
       "      <th>ax</th>\n",
       "      <th>ay</th>\n",
       "      <th>az</th>\n",
       "      <th>gx</th>\n",
       "      <th>gy</th>\n",
       "      <th>gz</th>\n",
       "      <th>heartbeat</th>\n",
       "      <th>patient</th>\n",
       "      <th>test_type</th>\n",
       "      <th>test_num</th>\n",
       "      <th>tsCC</th>\n",
       "      <th>ts</th>\n",
       "      <th>pp</th>\n",
       "      <th>sbp</th>\n",
       "      <th>dbp</th>\n",
       "      <th>test_type_bp</th>\n",
       "      <th>test_num_bp</th>\n",
       "      <th>patient_bp</th>\n",
       "    </tr>\n",
       "  </thead>\n",
       "  <tbody>\n",
       "    <tr>\n",
       "      <th>0</th>\n",
       "      <td>sub112_HLV1.mat</td>\n",
       "      <td>-1.122880</td>\n",
       "      <td>-0.571017</td>\n",
       "      <td>-9.860519</td>\n",
       "      <td>0.362396</td>\n",
       "      <td>3.185272</td>\n",
       "      <td>-0.434875</td>\n",
       "      <td>3.0</td>\n",
       "      <td>sub112</td>\n",
       "      <td>HLV</td>\n",
       "      <td>1</td>\n",
       "      <td>True</td>\n",
       "      <td>2699000000</td>\n",
       "      <td>56.675948</td>\n",
       "      <td>118.611859</td>\n",
       "      <td>61.935911</td>\n",
       "      <td>HLV</td>\n",
       "      <td>1</td>\n",
       "      <td>sub112</td>\n",
       "    </tr>\n",
       "    <tr>\n",
       "      <th>1</th>\n",
       "      <td>sub112_HLV1.mat</td>\n",
       "      <td>-1.137246</td>\n",
       "      <td>-0.603339</td>\n",
       "      <td>-9.835379</td>\n",
       "      <td>0.457764</td>\n",
       "      <td>3.463745</td>\n",
       "      <td>-0.640869</td>\n",
       "      <td>3.0</td>\n",
       "      <td>sub112</td>\n",
       "      <td>HLV</td>\n",
       "      <td>1</td>\n",
       "      <td>True</td>\n",
       "      <td>2704000000</td>\n",
       "      <td>56.675948</td>\n",
       "      <td>118.611859</td>\n",
       "      <td>61.935911</td>\n",
       "      <td>HLV</td>\n",
       "      <td>1</td>\n",
       "      <td>sub112</td>\n",
       "    </tr>\n",
       "    <tr>\n",
       "      <th>2</th>\n",
       "      <td>sub112_HLV1.mat</td>\n",
       "      <td>-1.096544</td>\n",
       "      <td>-0.555455</td>\n",
       "      <td>-9.897629</td>\n",
       "      <td>0.656128</td>\n",
       "      <td>3.807068</td>\n",
       "      <td>-0.511169</td>\n",
       "      <td>3.0</td>\n",
       "      <td>sub112</td>\n",
       "      <td>HLV</td>\n",
       "      <td>1</td>\n",
       "      <td>True</td>\n",
       "      <td>2709000000</td>\n",
       "      <td>56.675948</td>\n",
       "      <td>118.611859</td>\n",
       "      <td>61.935911</td>\n",
       "      <td>HLV</td>\n",
       "      <td>1</td>\n",
       "      <td>sub112</td>\n",
       "    </tr>\n",
       "    <tr>\n",
       "      <th>3</th>\n",
       "      <td>sub112_HLV1.mat</td>\n",
       "      <td>-1.104924</td>\n",
       "      <td>-0.611718</td>\n",
       "      <td>-9.907205</td>\n",
       "      <td>0.244141</td>\n",
       "      <td>3.414154</td>\n",
       "      <td>-0.507355</td>\n",
       "      <td>3.0</td>\n",
       "      <td>sub112</td>\n",
       "      <td>HLV</td>\n",
       "      <td>1</td>\n",
       "      <td>True</td>\n",
       "      <td>2714000000</td>\n",
       "      <td>56.675948</td>\n",
       "      <td>118.611859</td>\n",
       "      <td>61.935911</td>\n",
       "      <td>HLV</td>\n",
       "      <td>1</td>\n",
       "      <td>sub112</td>\n",
       "    </tr>\n",
       "    <tr>\n",
       "      <th>4</th>\n",
       "      <td>sub112_HLV1.mat</td>\n",
       "      <td>-1.096544</td>\n",
       "      <td>-0.575805</td>\n",
       "      <td>-9.947907</td>\n",
       "      <td>0.442505</td>\n",
       "      <td>3.047943</td>\n",
       "      <td>-0.320435</td>\n",
       "      <td>3.0</td>\n",
       "      <td>sub112</td>\n",
       "      <td>HLV</td>\n",
       "      <td>1</td>\n",
       "      <td>True</td>\n",
       "      <td>2719000000</td>\n",
       "      <td>56.675948</td>\n",
       "      <td>118.611859</td>\n",
       "      <td>61.935911</td>\n",
       "      <td>HLV</td>\n",
       "      <td>1</td>\n",
       "      <td>sub112</td>\n",
       "    </tr>\n",
       "    <tr>\n",
       "      <th>...</th>\n",
       "      <td>...</td>\n",
       "      <td>...</td>\n",
       "      <td>...</td>\n",
       "      <td>...</td>\n",
       "      <td>...</td>\n",
       "      <td>...</td>\n",
       "      <td>...</td>\n",
       "      <td>...</td>\n",
       "      <td>...</td>\n",
       "      <td>...</td>\n",
       "      <td>...</td>\n",
       "      <td>...</td>\n",
       "      <td>...</td>\n",
       "      <td>...</td>\n",
       "      <td>...</td>\n",
       "      <td>...</td>\n",
       "      <td>...</td>\n",
       "      <td>...</td>\n",
       "      <td>...</td>\n",
       "    </tr>\n",
       "    <tr>\n",
       "      <th>81318</th>\n",
       "      <td>sub221_LLV3.mat</td>\n",
       "      <td>2.831143</td>\n",
       "      <td>0.289698</td>\n",
       "      <td>-9.898826</td>\n",
       "      <td>-6.214142</td>\n",
       "      <td>-5.847931</td>\n",
       "      <td>-0.667572</td>\n",
       "      <td>41.0</td>\n",
       "      <td>sub221</td>\n",
       "      <td>LLV</td>\n",
       "      <td>3</td>\n",
       "      <td>True</td>\n",
       "      <td>28472000000</td>\n",
       "      <td>44.949636</td>\n",
       "      <td>118.662947</td>\n",
       "      <td>73.713311</td>\n",
       "      <td>None</td>\n",
       "      <td>None</td>\n",
       "      <td>None</td>\n",
       "    </tr>\n",
       "    <tr>\n",
       "      <th>81319</th>\n",
       "      <td>sub221_LLV3.mat</td>\n",
       "      <td>2.786850</td>\n",
       "      <td>0.284910</td>\n",
       "      <td>-10.290278</td>\n",
       "      <td>-3.707886</td>\n",
       "      <td>-8.377075</td>\n",
       "      <td>-0.907898</td>\n",
       "      <td>41.0</td>\n",
       "      <td>sub221</td>\n",
       "      <td>LLV</td>\n",
       "      <td>3</td>\n",
       "      <td>True</td>\n",
       "      <td>28477000000</td>\n",
       "      <td>44.949636</td>\n",
       "      <td>118.662947</td>\n",
       "      <td>73.713311</td>\n",
       "      <td>None</td>\n",
       "      <td>None</td>\n",
       "      <td>None</td>\n",
       "    </tr>\n",
       "    <tr>\n",
       "      <th>81320</th>\n",
       "      <td>sub221_LLV3.mat</td>\n",
       "      <td>2.762908</td>\n",
       "      <td>0.308852</td>\n",
       "      <td>-10.319008</td>\n",
       "      <td>-1.396179</td>\n",
       "      <td>-10.063171</td>\n",
       "      <td>-0.953674</td>\n",
       "      <td>41.0</td>\n",
       "      <td>sub221</td>\n",
       "      <td>LLV</td>\n",
       "      <td>3</td>\n",
       "      <td>True</td>\n",
       "      <td>28482000000</td>\n",
       "      <td>44.949636</td>\n",
       "      <td>118.662947</td>\n",
       "      <td>73.713311</td>\n",
       "      <td>None</td>\n",
       "      <td>None</td>\n",
       "      <td>None</td>\n",
       "    </tr>\n",
       "    <tr>\n",
       "      <th>81321</th>\n",
       "      <td>sub221_LLV3.mat</td>\n",
       "      <td>2.650381</td>\n",
       "      <td>0.244209</td>\n",
       "      <td>-10.163385</td>\n",
       "      <td>0.274658</td>\n",
       "      <td>-10.032654</td>\n",
       "      <td>-0.915527</td>\n",
       "      <td>41.0</td>\n",
       "      <td>sub221</td>\n",
       "      <td>LLV</td>\n",
       "      <td>3</td>\n",
       "      <td>True</td>\n",
       "      <td>28487000000</td>\n",
       "      <td>44.949636</td>\n",
       "      <td>118.662947</td>\n",
       "      <td>73.713311</td>\n",
       "      <td>None</td>\n",
       "      <td>None</td>\n",
       "      <td>None</td>\n",
       "    </tr>\n",
       "    <tr>\n",
       "      <th>81322</th>\n",
       "      <td>sub221_LLV3.mat</td>\n",
       "      <td>2.649184</td>\n",
       "      <td>0.312443</td>\n",
       "      <td>-10.043675</td>\n",
       "      <td>1.194000</td>\n",
       "      <td>-9.452820</td>\n",
       "      <td>-1.304626</td>\n",
       "      <td>41.0</td>\n",
       "      <td>sub221</td>\n",
       "      <td>LLV</td>\n",
       "      <td>3</td>\n",
       "      <td>True</td>\n",
       "      <td>28492000000</td>\n",
       "      <td>44.949636</td>\n",
       "      <td>118.662947</td>\n",
       "      <td>73.713311</td>\n",
       "      <td>None</td>\n",
       "      <td>None</td>\n",
       "      <td>None</td>\n",
       "    </tr>\n",
       "  </tbody>\n",
       "</table>\n",
       "<p>195376 rows × 19 columns</p>\n",
       "</div>"
      ],
      "text/plain": [
       "                  file        ax        ay         az        gx         gy  \\\n",
       "0      sub112_HLV1.mat -1.122880 -0.571017  -9.860519  0.362396   3.185272   \n",
       "1      sub112_HLV1.mat -1.137246 -0.603339  -9.835379  0.457764   3.463745   \n",
       "2      sub112_HLV1.mat -1.096544 -0.555455  -9.897629  0.656128   3.807068   \n",
       "3      sub112_HLV1.mat -1.104924 -0.611718  -9.907205  0.244141   3.414154   \n",
       "4      sub112_HLV1.mat -1.096544 -0.575805  -9.947907  0.442505   3.047943   \n",
       "...                ...       ...       ...        ...       ...        ...   \n",
       "81318  sub221_LLV3.mat  2.831143  0.289698  -9.898826 -6.214142  -5.847931   \n",
       "81319  sub221_LLV3.mat  2.786850  0.284910 -10.290278 -3.707886  -8.377075   \n",
       "81320  sub221_LLV3.mat  2.762908  0.308852 -10.319008 -1.396179 -10.063171   \n",
       "81321  sub221_LLV3.mat  2.650381  0.244209 -10.163385  0.274658 -10.032654   \n",
       "81322  sub221_LLV3.mat  2.649184  0.312443 -10.043675  1.194000  -9.452820   \n",
       "\n",
       "             gz  heartbeat patient test_type test_num  tsCC           ts  \\\n",
       "0     -0.434875        3.0  sub112       HLV        1  True   2699000000   \n",
       "1     -0.640869        3.0  sub112       HLV        1  True   2704000000   \n",
       "2     -0.511169        3.0  sub112       HLV        1  True   2709000000   \n",
       "3     -0.507355        3.0  sub112       HLV        1  True   2714000000   \n",
       "4     -0.320435        3.0  sub112       HLV        1  True   2719000000   \n",
       "...         ...        ...     ...       ...      ...   ...          ...   \n",
       "81318 -0.667572       41.0  sub221       LLV        3  True  28472000000   \n",
       "81319 -0.907898       41.0  sub221       LLV        3  True  28477000000   \n",
       "81320 -0.953674       41.0  sub221       LLV        3  True  28482000000   \n",
       "81321 -0.915527       41.0  sub221       LLV        3  True  28487000000   \n",
       "81322 -1.304626       41.0  sub221       LLV        3  True  28492000000   \n",
       "\n",
       "              pp         sbp        dbp test_type_bp test_num_bp patient_bp  \n",
       "0      56.675948  118.611859  61.935911          HLV           1     sub112  \n",
       "1      56.675948  118.611859  61.935911          HLV           1     sub112  \n",
       "2      56.675948  118.611859  61.935911          HLV           1     sub112  \n",
       "3      56.675948  118.611859  61.935911          HLV           1     sub112  \n",
       "4      56.675948  118.611859  61.935911          HLV           1     sub112  \n",
       "...          ...         ...        ...          ...         ...        ...  \n",
       "81318  44.949636  118.662947  73.713311         None        None       None  \n",
       "81319  44.949636  118.662947  73.713311         None        None       None  \n",
       "81320  44.949636  118.662947  73.713311         None        None       None  \n",
       "81321  44.949636  118.662947  73.713311         None        None       None  \n",
       "81322  44.949636  118.662947  73.713311         None        None       None  \n",
       "\n",
       "[195376 rows x 19 columns]"
      ]
     },
     "execution_count": 14,
     "metadata": {},
     "output_type": "execute_result"
    }
   ],
   "source": [
    "import json\n",
    "from dash_app.cache import redis_store\n",
    "df = redis_store.load('6d4c810f0891bc49ddb12192c67f2f805ea84d05b85b6e764eebd8dbcfc48bb1724489574d53558ffba8985bedfe421780c5d8c5fe5520f5298a721b7a1346d3')\n",
    "# json.dumps(overview_data_nipams_comp.summarize_vcg_data(df))\n",
    "df"
   ]
  },
  {
   "cell_type": "code",
   "execution_count": 37,
   "metadata": {},
   "outputs": [
    {
     "name": "stderr",
     "output_type": "stream",
     "text": [
      "/tmp/ipykernel_8025/787633822.py:1: FutureWarning:\n",
      "\n",
      "Indexing with multiple keys (implicitly converted to a tuple of keys) will be deprecated, use a list instead.\n",
      "\n"
     ]
    },
    {
     "data": {
      "application/vnd.plotly.v1+json": {
       "config": {
        "plotlyServerURL": "https://plot.ly"
       },
       "data": [
        {
         "hovertemplate": "<b>%{hovertext}</b><br><br>test_type=HLV<br>ax=%{x}<br>ay=%{y}<br>az=%{z}<extra></extra>",
         "hovertext": [
          "sub112_HLV1.mat",
          "sub112_HLV2.mat",
          "sub176_HLV1.mat",
          "sub176_HLV2.mat",
          "sub176_HLV3.mat",
          "sub227_HLV1.mat",
          "sub227_HLV2.mat",
          "sub227_HLV3.mat",
          "sub251_HLV1.mat",
          "sub251_HLV2.mat"
         ],
         "legendgroup": "HLV",
         "marker": {
          "color": "#636efa",
          "symbol": "circle"
         },
         "mode": "markers",
         "name": "HLV",
         "scene": "scene",
         "showlegend": true,
         "type": "scatter3d",
         "x": [
          0.081,
          0.051,
          0.097,
          0.048,
          0.049,
          0.037,
          0.029,
          0.035,
          0.112,
          0.155
         ],
         "y": [
          0.075,
          0.106,
          0.103,
          0.049,
          0.037,
          0.027,
          0.026,
          0.026,
          0.074,
          0.045
         ],
         "z": [
          0.131,
          0.139,
          0.084,
          0.086,
          0.082,
          0.062,
          0.062,
          0.058,
          0.062,
          0.082
         ]
        },
        {
         "hovertemplate": "<b>%{hovertext}</b><br><br>test_type=LLV<br>ax=%{x}<br>ay=%{y}<br>az=%{z}<extra></extra>",
         "hovertext": [
          "sub019_LLV1.mat",
          "sub115_LLV1.mat",
          "sub115_LLV3.mat",
          "sub133_LLV1.mat",
          "sub133_LLV2.mat",
          "sub133_LLV3.mat",
          "sub202_LLV3.mat",
          "sub221_LLV1.mat",
          "sub221_LLV2.mat",
          "sub221_LLV3.mat"
         ],
         "legendgroup": "LLV",
         "marker": {
          "color": "#EF553B",
          "symbol": "circle"
         },
         "mode": "markers",
         "name": "LLV",
         "scene": "scene",
         "showlegend": true,
         "type": "scatter3d",
         "x": [
          0.061,
          0.037,
          0.047,
          0.065,
          0.087,
          0.047,
          0.06,
          0.052,
          0.173,
          0.117
         ],
         "y": [
          0.061,
          0.025,
          0.028,
          0.062,
          0.079,
          0.051,
          0.053,
          0.055,
          0.06,
          0.069
         ],
         "z": [
          0.059,
          0.058,
          0.057,
          0.07,
          0.082,
          0.064,
          0.084,
          0.069,
          0.088,
          0.095
         ]
        }
       ],
       "layout": {
        "autosize": true,
        "legend": {
         "title": {
          "text": "test_type"
         },
         "tracegroupgap": 0
        },
        "margin": {
         "t": 60
        },
        "scene": {
         "aspectmode": "auto",
         "aspectratio": {
          "x": 1.4615332643659418,
          "y": 0.8221124612058421,
          "z": 0.8322619977639393
         },
         "camera": {
          "center": {
           "x": 0,
           "y": 0,
           "z": 0
          },
          "eye": {
           "x": 1.416744393895201,
           "y": -0.03880775182335577,
           "z": 1.6367129500205397
          },
          "projection": {
           "type": "perspective"
          },
          "up": {
           "x": 0,
           "y": 0,
           "z": 1
          }
         },
         "domain": {
          "x": [
           0,
           1
          ],
          "y": [
           0,
           1
          ]
         },
         "xaxis": {
          "title": {
           "text": "ax"
          },
          "type": "linear"
         },
         "yaxis": {
          "title": {
           "text": "ay"
          },
          "type": "linear"
         },
         "zaxis": {
          "title": {
           "text": "az"
          },
          "type": "linear"
         }
        },
        "template": {
         "data": {
          "bar": [
           {
            "error_x": {
             "color": "#2a3f5f"
            },
            "error_y": {
             "color": "#2a3f5f"
            },
            "marker": {
             "line": {
              "color": "#E5ECF6",
              "width": 0.5
             },
             "pattern": {
              "fillmode": "overlay",
              "size": 10,
              "solidity": 0.2
             }
            },
            "type": "bar"
           }
          ],
          "barpolar": [
           {
            "marker": {
             "line": {
              "color": "#E5ECF6",
              "width": 0.5
             },
             "pattern": {
              "fillmode": "overlay",
              "size": 10,
              "solidity": 0.2
             }
            },
            "type": "barpolar"
           }
          ],
          "carpet": [
           {
            "aaxis": {
             "endlinecolor": "#2a3f5f",
             "gridcolor": "white",
             "linecolor": "white",
             "minorgridcolor": "white",
             "startlinecolor": "#2a3f5f"
            },
            "baxis": {
             "endlinecolor": "#2a3f5f",
             "gridcolor": "white",
             "linecolor": "white",
             "minorgridcolor": "white",
             "startlinecolor": "#2a3f5f"
            },
            "type": "carpet"
           }
          ],
          "choropleth": [
           {
            "colorbar": {
             "outlinewidth": 0,
             "ticks": ""
            },
            "type": "choropleth"
           }
          ],
          "contour": [
           {
            "colorbar": {
             "outlinewidth": 0,
             "ticks": ""
            },
            "colorscale": [
             [
              0,
              "#0d0887"
             ],
             [
              0.1111111111111111,
              "#46039f"
             ],
             [
              0.2222222222222222,
              "#7201a8"
             ],
             [
              0.3333333333333333,
              "#9c179e"
             ],
             [
              0.4444444444444444,
              "#bd3786"
             ],
             [
              0.5555555555555556,
              "#d8576b"
             ],
             [
              0.6666666666666666,
              "#ed7953"
             ],
             [
              0.7777777777777778,
              "#fb9f3a"
             ],
             [
              0.8888888888888888,
              "#fdca26"
             ],
             [
              1,
              "#f0f921"
             ]
            ],
            "type": "contour"
           }
          ],
          "contourcarpet": [
           {
            "colorbar": {
             "outlinewidth": 0,
             "ticks": ""
            },
            "type": "contourcarpet"
           }
          ],
          "heatmap": [
           {
            "colorbar": {
             "outlinewidth": 0,
             "ticks": ""
            },
            "colorscale": [
             [
              0,
              "#0d0887"
             ],
             [
              0.1111111111111111,
              "#46039f"
             ],
             [
              0.2222222222222222,
              "#7201a8"
             ],
             [
              0.3333333333333333,
              "#9c179e"
             ],
             [
              0.4444444444444444,
              "#bd3786"
             ],
             [
              0.5555555555555556,
              "#d8576b"
             ],
             [
              0.6666666666666666,
              "#ed7953"
             ],
             [
              0.7777777777777778,
              "#fb9f3a"
             ],
             [
              0.8888888888888888,
              "#fdca26"
             ],
             [
              1,
              "#f0f921"
             ]
            ],
            "type": "heatmap"
           }
          ],
          "heatmapgl": [
           {
            "colorbar": {
             "outlinewidth": 0,
             "ticks": ""
            },
            "colorscale": [
             [
              0,
              "#0d0887"
             ],
             [
              0.1111111111111111,
              "#46039f"
             ],
             [
              0.2222222222222222,
              "#7201a8"
             ],
             [
              0.3333333333333333,
              "#9c179e"
             ],
             [
              0.4444444444444444,
              "#bd3786"
             ],
             [
              0.5555555555555556,
              "#d8576b"
             ],
             [
              0.6666666666666666,
              "#ed7953"
             ],
             [
              0.7777777777777778,
              "#fb9f3a"
             ],
             [
              0.8888888888888888,
              "#fdca26"
             ],
             [
              1,
              "#f0f921"
             ]
            ],
            "type": "heatmapgl"
           }
          ],
          "histogram": [
           {
            "marker": {
             "pattern": {
              "fillmode": "overlay",
              "size": 10,
              "solidity": 0.2
             }
            },
            "type": "histogram"
           }
          ],
          "histogram2d": [
           {
            "colorbar": {
             "outlinewidth": 0,
             "ticks": ""
            },
            "colorscale": [
             [
              0,
              "#0d0887"
             ],
             [
              0.1111111111111111,
              "#46039f"
             ],
             [
              0.2222222222222222,
              "#7201a8"
             ],
             [
              0.3333333333333333,
              "#9c179e"
             ],
             [
              0.4444444444444444,
              "#bd3786"
             ],
             [
              0.5555555555555556,
              "#d8576b"
             ],
             [
              0.6666666666666666,
              "#ed7953"
             ],
             [
              0.7777777777777778,
              "#fb9f3a"
             ],
             [
              0.8888888888888888,
              "#fdca26"
             ],
             [
              1,
              "#f0f921"
             ]
            ],
            "type": "histogram2d"
           }
          ],
          "histogram2dcontour": [
           {
            "colorbar": {
             "outlinewidth": 0,
             "ticks": ""
            },
            "colorscale": [
             [
              0,
              "#0d0887"
             ],
             [
              0.1111111111111111,
              "#46039f"
             ],
             [
              0.2222222222222222,
              "#7201a8"
             ],
             [
              0.3333333333333333,
              "#9c179e"
             ],
             [
              0.4444444444444444,
              "#bd3786"
             ],
             [
              0.5555555555555556,
              "#d8576b"
             ],
             [
              0.6666666666666666,
              "#ed7953"
             ],
             [
              0.7777777777777778,
              "#fb9f3a"
             ],
             [
              0.8888888888888888,
              "#fdca26"
             ],
             [
              1,
              "#f0f921"
             ]
            ],
            "type": "histogram2dcontour"
           }
          ],
          "mesh3d": [
           {
            "colorbar": {
             "outlinewidth": 0,
             "ticks": ""
            },
            "type": "mesh3d"
           }
          ],
          "parcoords": [
           {
            "line": {
             "colorbar": {
              "outlinewidth": 0,
              "ticks": ""
             }
            },
            "type": "parcoords"
           }
          ],
          "pie": [
           {
            "automargin": true,
            "type": "pie"
           }
          ],
          "scatter": [
           {
            "marker": {
             "colorbar": {
              "outlinewidth": 0,
              "ticks": ""
             }
            },
            "type": "scatter"
           }
          ],
          "scatter3d": [
           {
            "line": {
             "colorbar": {
              "outlinewidth": 0,
              "ticks": ""
             }
            },
            "marker": {
             "colorbar": {
              "outlinewidth": 0,
              "ticks": ""
             }
            },
            "type": "scatter3d"
           }
          ],
          "scattercarpet": [
           {
            "marker": {
             "colorbar": {
              "outlinewidth": 0,
              "ticks": ""
             }
            },
            "type": "scattercarpet"
           }
          ],
          "scattergeo": [
           {
            "marker": {
             "colorbar": {
              "outlinewidth": 0,
              "ticks": ""
             }
            },
            "type": "scattergeo"
           }
          ],
          "scattergl": [
           {
            "marker": {
             "colorbar": {
              "outlinewidth": 0,
              "ticks": ""
             }
            },
            "type": "scattergl"
           }
          ],
          "scattermapbox": [
           {
            "marker": {
             "colorbar": {
              "outlinewidth": 0,
              "ticks": ""
             }
            },
            "type": "scattermapbox"
           }
          ],
          "scatterpolar": [
           {
            "marker": {
             "colorbar": {
              "outlinewidth": 0,
              "ticks": ""
             }
            },
            "type": "scatterpolar"
           }
          ],
          "scatterpolargl": [
           {
            "marker": {
             "colorbar": {
              "outlinewidth": 0,
              "ticks": ""
             }
            },
            "type": "scatterpolargl"
           }
          ],
          "scatterternary": [
           {
            "marker": {
             "colorbar": {
              "outlinewidth": 0,
              "ticks": ""
             }
            },
            "type": "scatterternary"
           }
          ],
          "surface": [
           {
            "colorbar": {
             "outlinewidth": 0,
             "ticks": ""
            },
            "colorscale": [
             [
              0,
              "#0d0887"
             ],
             [
              0.1111111111111111,
              "#46039f"
             ],
             [
              0.2222222222222222,
              "#7201a8"
             ],
             [
              0.3333333333333333,
              "#9c179e"
             ],
             [
              0.4444444444444444,
              "#bd3786"
             ],
             [
              0.5555555555555556,
              "#d8576b"
             ],
             [
              0.6666666666666666,
              "#ed7953"
             ],
             [
              0.7777777777777778,
              "#fb9f3a"
             ],
             [
              0.8888888888888888,
              "#fdca26"
             ],
             [
              1,
              "#f0f921"
             ]
            ],
            "type": "surface"
           }
          ],
          "table": [
           {
            "cells": {
             "fill": {
              "color": "#EBF0F8"
             },
             "line": {
              "color": "white"
             }
            },
            "header": {
             "fill": {
              "color": "#C8D4E3"
             },
             "line": {
              "color": "white"
             }
            },
            "type": "table"
           }
          ]
         },
         "layout": {
          "annotationdefaults": {
           "arrowcolor": "#2a3f5f",
           "arrowhead": 0,
           "arrowwidth": 1
          },
          "autotypenumbers": "strict",
          "coloraxis": {
           "colorbar": {
            "outlinewidth": 0,
            "ticks": ""
           }
          },
          "colorscale": {
           "diverging": [
            [
             0,
             "#8e0152"
            ],
            [
             0.1,
             "#c51b7d"
            ],
            [
             0.2,
             "#de77ae"
            ],
            [
             0.3,
             "#f1b6da"
            ],
            [
             0.4,
             "#fde0ef"
            ],
            [
             0.5,
             "#f7f7f7"
            ],
            [
             0.6,
             "#e6f5d0"
            ],
            [
             0.7,
             "#b8e186"
            ],
            [
             0.8,
             "#7fbc41"
            ],
            [
             0.9,
             "#4d9221"
            ],
            [
             1,
             "#276419"
            ]
           ],
           "sequential": [
            [
             0,
             "#0d0887"
            ],
            [
             0.1111111111111111,
             "#46039f"
            ],
            [
             0.2222222222222222,
             "#7201a8"
            ],
            [
             0.3333333333333333,
             "#9c179e"
            ],
            [
             0.4444444444444444,
             "#bd3786"
            ],
            [
             0.5555555555555556,
             "#d8576b"
            ],
            [
             0.6666666666666666,
             "#ed7953"
            ],
            [
             0.7777777777777778,
             "#fb9f3a"
            ],
            [
             0.8888888888888888,
             "#fdca26"
            ],
            [
             1,
             "#f0f921"
            ]
           ],
           "sequentialminus": [
            [
             0,
             "#0d0887"
            ],
            [
             0.1111111111111111,
             "#46039f"
            ],
            [
             0.2222222222222222,
             "#7201a8"
            ],
            [
             0.3333333333333333,
             "#9c179e"
            ],
            [
             0.4444444444444444,
             "#bd3786"
            ],
            [
             0.5555555555555556,
             "#d8576b"
            ],
            [
             0.6666666666666666,
             "#ed7953"
            ],
            [
             0.7777777777777778,
             "#fb9f3a"
            ],
            [
             0.8888888888888888,
             "#fdca26"
            ],
            [
             1,
             "#f0f921"
            ]
           ]
          },
          "colorway": [
           "#636efa",
           "#EF553B",
           "#00cc96",
           "#ab63fa",
           "#FFA15A",
           "#19d3f3",
           "#FF6692",
           "#B6E880",
           "#FF97FF",
           "#FECB52"
          ],
          "font": {
           "color": "#2a3f5f"
          },
          "geo": {
           "bgcolor": "white",
           "lakecolor": "white",
           "landcolor": "#E5ECF6",
           "showlakes": true,
           "showland": true,
           "subunitcolor": "white"
          },
          "hoverlabel": {
           "align": "left"
          },
          "hovermode": "closest",
          "mapbox": {
           "style": "light"
          },
          "paper_bgcolor": "white",
          "plot_bgcolor": "#E5ECF6",
          "polar": {
           "angularaxis": {
            "gridcolor": "white",
            "linecolor": "white",
            "ticks": ""
           },
           "bgcolor": "#E5ECF6",
           "radialaxis": {
            "gridcolor": "white",
            "linecolor": "white",
            "ticks": ""
           }
          },
          "scene": {
           "xaxis": {
            "backgroundcolor": "#E5ECF6",
            "gridcolor": "white",
            "gridwidth": 2,
            "linecolor": "white",
            "showbackground": true,
            "ticks": "",
            "zerolinecolor": "white"
           },
           "yaxis": {
            "backgroundcolor": "#E5ECF6",
            "gridcolor": "white",
            "gridwidth": 2,
            "linecolor": "white",
            "showbackground": true,
            "ticks": "",
            "zerolinecolor": "white"
           },
           "zaxis": {
            "backgroundcolor": "#E5ECF6",
            "gridcolor": "white",
            "gridwidth": 2,
            "linecolor": "white",
            "showbackground": true,
            "ticks": "",
            "zerolinecolor": "white"
           }
          },
          "shapedefaults": {
           "line": {
            "color": "#2a3f5f"
           }
          },
          "ternary": {
           "aaxis": {
            "gridcolor": "white",
            "linecolor": "white",
            "ticks": ""
           },
           "baxis": {
            "gridcolor": "white",
            "linecolor": "white",
            "ticks": ""
           },
           "bgcolor": "#E5ECF6",
           "caxis": {
            "gridcolor": "white",
            "linecolor": "white",
            "ticks": ""
           }
          },
          "title": {
           "x": 0.05
          },
          "xaxis": {
           "automargin": true,
           "gridcolor": "white",
           "linecolor": "white",
           "ticks": "",
           "title": {
            "standoff": 15
           },
           "zerolinecolor": "white",
           "zerolinewidth": 2
          },
          "yaxis": {
           "automargin": true,
           "gridcolor": "white",
           "linecolor": "white",
           "ticks": "",
           "title": {
            "standoff": 15
           },
           "zerolinecolor": "white",
           "zerolinewidth": 2
          }
         }
        }
       }
      },
      "image/png": "[encoded data removed]",
      "text/html": [
       "<div>                            <div id=\"488bc371-fbda-4386-b203-3595624c13a8\" class=\"plotly-graph-div\" style=\"height:525px; width:100%;\"></div>            <script type=\"text/javascript\">                require([\"plotly\"], function(Plotly) {                    window.PLOTLYENV=window.PLOTLYENV || {};                                    if (document.getElementById(\"488bc371-fbda-4386-b203-3595624c13a8\")) {                    Plotly.newPlot(                        \"488bc371-fbda-4386-b203-3595624c13a8\",                        [{\"hovertemplate\":\"<b>%{hovertext}</b><br><br>test_type=HLV<br>ax=%{x}<br>ay=%{y}<br>az=%{z}<extra></extra>\",\"hovertext\":[\"sub112_HLV1.mat\",\"sub112_HLV2.mat\",\"sub176_HLV1.mat\",\"sub176_HLV2.mat\",\"sub176_HLV3.mat\",\"sub227_HLV1.mat\",\"sub227_HLV2.mat\",\"sub227_HLV3.mat\",\"sub251_HLV1.mat\",\"sub251_HLV2.mat\"],\"legendgroup\":\"HLV\",\"marker\":{\"color\":\"#636efa\",\"symbol\":\"circle\"},\"mode\":\"markers\",\"name\":\"HLV\",\"scene\":\"scene\",\"showlegend\":true,\"x\":[0.081,0.051,0.097,0.048,0.049,0.037,0.029,0.035,0.112,0.155],\"y\":[0.075,0.106,0.103,0.049,0.037,0.027,0.026,0.026,0.074,0.045],\"z\":[0.131,0.139,0.084,0.086,0.082,0.062,0.062,0.058,0.062,0.082],\"type\":\"scatter3d\"},{\"hovertemplate\":\"<b>%{hovertext}</b><br><br>test_type=LLV<br>ax=%{x}<br>ay=%{y}<br>az=%{z}<extra></extra>\",\"hovertext\":[\"sub019_LLV1.mat\",\"sub115_LLV1.mat\",\"sub115_LLV3.mat\",\"sub133_LLV1.mat\",\"sub133_LLV2.mat\",\"sub133_LLV3.mat\",\"sub202_LLV3.mat\",\"sub221_LLV1.mat\",\"sub221_LLV2.mat\",\"sub221_LLV3.mat\"],\"legendgroup\":\"LLV\",\"marker\":{\"color\":\"#EF553B\",\"symbol\":\"circle\"},\"mode\":\"markers\",\"name\":\"LLV\",\"scene\":\"scene\",\"showlegend\":true,\"x\":[0.061,0.037,0.047,0.065,0.087,0.047,0.06,0.052,0.173,0.117],\"y\":[0.061,0.025,0.028,0.062,0.079,0.051,0.053,0.055,0.06,0.069],\"z\":[0.059,0.058,0.057,0.07,0.082,0.064,0.084,0.069,0.088,0.095],\"type\":\"scatter3d\"}],                        {\"template\":{\"data\":{\"bar\":[{\"error_x\":{\"color\":\"#2a3f5f\"},\"error_y\":{\"color\":\"#2a3f5f\"},\"marker\":{\"line\":{\"color\":\"#E5ECF6\",\"width\":0.5},\"pattern\":{\"fillmode\":\"overlay\",\"size\":10,\"solidity\":0.2}},\"type\":\"bar\"}],\"barpolar\":[{\"marker\":{\"line\":{\"color\":\"#E5ECF6\",\"width\":0.5},\"pattern\":{\"fillmode\":\"overlay\",\"size\":10,\"solidity\":0.2}},\"type\":\"barpolar\"}],\"carpet\":[{\"aaxis\":{\"endlinecolor\":\"#2a3f5f\",\"gridcolor\":\"white\",\"linecolor\":\"white\",\"minorgridcolor\":\"white\",\"startlinecolor\":\"#2a3f5f\"},\"baxis\":{\"endlinecolor\":\"#2a3f5f\",\"gridcolor\":\"white\",\"linecolor\":\"white\",\"minorgridcolor\":\"white\",\"startlinecolor\":\"#2a3f5f\"},\"type\":\"carpet\"}],\"choropleth\":[{\"colorbar\":{\"outlinewidth\":0,\"ticks\":\"\"},\"type\":\"choropleth\"}],\"contour\":[{\"colorbar\":{\"outlinewidth\":0,\"ticks\":\"\"},\"colorscale\":[[0.0,\"#0d0887\"],[0.1111111111111111,\"#46039f\"],[0.2222222222222222,\"#7201a8\"],[0.3333333333333333,\"#9c179e\"],[0.4444444444444444,\"#bd3786\"],[0.5555555555555556,\"#d8576b\"],[0.6666666666666666,\"#ed7953\"],[0.7777777777777778,\"#fb9f3a\"],[0.8888888888888888,\"#fdca26\"],[1.0,\"#f0f921\"]],\"type\":\"contour\"}],\"contourcarpet\":[{\"colorbar\":{\"outlinewidth\":0,\"ticks\":\"\"},\"type\":\"contourcarpet\"}],\"heatmap\":[{\"colorbar\":{\"outlinewidth\":0,\"ticks\":\"\"},\"colorscale\":[[0.0,\"#0d0887\"],[0.1111111111111111,\"#46039f\"],[0.2222222222222222,\"#7201a8\"],[0.3333333333333333,\"#9c179e\"],[0.4444444444444444,\"#bd3786\"],[0.5555555555555556,\"#d8576b\"],[0.6666666666666666,\"#ed7953\"],[0.7777777777777778,\"#fb9f3a\"],[0.8888888888888888,\"#fdca26\"],[1.0,\"#f0f921\"]],\"type\":\"heatmap\"}],\"heatmapgl\":[{\"colorbar\":{\"outlinewidth\":0,\"ticks\":\"\"},\"colorscale\":[[0.0,\"#0d0887\"],[0.1111111111111111,\"#46039f\"],[0.2222222222222222,\"#7201a8\"],[0.3333333333333333,\"#9c179e\"],[0.4444444444444444,\"#bd3786\"],[0.5555555555555556,\"#d8576b\"],[0.6666666666666666,\"#ed7953\"],[0.7777777777777778,\"#fb9f3a\"],[0.8888888888888888,\"#fdca26\"],[1.0,\"#f0f921\"]],\"type\":\"heatmapgl\"}],\"histogram\":[{\"marker\":{\"pattern\":{\"fillmode\":\"overlay\",\"size\":10,\"solidity\":0.2}},\"type\":\"histogram\"}],\"histogram2d\":[{\"colorbar\":{\"outlinewidth\":0,\"ticks\":\"\"},\"colorscale\":[[0.0,\"#0d0887\"],[0.1111111111111111,\"#46039f\"],[0.2222222222222222,\"#7201a8\"],[0.3333333333333333,\"#9c179e\"],[0.4444444444444444,\"#bd3786\"],[0.5555555555555556,\"#d8576b\"],[0.6666666666666666,\"#ed7953\"],[0.7777777777777778,\"#fb9f3a\"],[0.8888888888888888,\"#fdca26\"],[1.0,\"#f0f921\"]],\"type\":\"histogram2d\"}],\"histogram2dcontour\":[{\"colorbar\":{\"outlinewidth\":0,\"ticks\":\"\"},\"colorscale\":[[0.0,\"#0d0887\"],[0.1111111111111111,\"#46039f\"],[0.2222222222222222,\"#7201a8\"],[0.3333333333333333,\"#9c179e\"],[0.4444444444444444,\"#bd3786\"],[0.5555555555555556,\"#d8576b\"],[0.6666666666666666,\"#ed7953\"],[0.7777777777777778,\"#fb9f3a\"],[0.8888888888888888,\"#fdca26\"],[1.0,\"#f0f921\"]],\"type\":\"histogram2dcontour\"}],\"mesh3d\":[{\"colorbar\":{\"outlinewidth\":0,\"ticks\":\"\"},\"type\":\"mesh3d\"}],\"parcoords\":[{\"line\":{\"colorbar\":{\"outlinewidth\":0,\"ticks\":\"\"}},\"type\":\"parcoords\"}],\"pie\":[{\"automargin\":true,\"type\":\"pie\"}],\"scatter\":[{\"marker\":{\"colorbar\":{\"outlinewidth\":0,\"ticks\":\"\"}},\"type\":\"scatter\"}],\"scatter3d\":[{\"line\":{\"colorbar\":{\"outlinewidth\":0,\"ticks\":\"\"}},\"marker\":{\"colorbar\":{\"outlinewidth\":0,\"ticks\":\"\"}},\"type\":\"scatter3d\"}],\"scattercarpet\":[{\"marker\":{\"colorbar\":{\"outlinewidth\":0,\"ticks\":\"\"}},\"type\":\"scattercarpet\"}],\"scattergeo\":[{\"marker\":{\"colorbar\":{\"outlinewidth\":0,\"ticks\":\"\"}},\"type\":\"scattergeo\"}],\"scattergl\":[{\"marker\":{\"colorbar\":{\"outlinewidth\":0,\"ticks\":\"\"}},\"type\":\"scattergl\"}],\"scattermapbox\":[{\"marker\":{\"colorbar\":{\"outlinewidth\":0,\"ticks\":\"\"}},\"type\":\"scattermapbox\"}],\"scatterpolar\":[{\"marker\":{\"colorbar\":{\"outlinewidth\":0,\"ticks\":\"\"}},\"type\":\"scatterpolar\"}],\"scatterpolargl\":[{\"marker\":{\"colorbar\":{\"outlinewidth\":0,\"ticks\":\"\"}},\"type\":\"scatterpolargl\"}],\"scatterternary\":[{\"marker\":{\"colorbar\":{\"outlinewidth\":0,\"ticks\":\"\"}},\"type\":\"scatterternary\"}],\"surface\":[{\"colorbar\":{\"outlinewidth\":0,\"ticks\":\"\"},\"colorscale\":[[0.0,\"#0d0887\"],[0.1111111111111111,\"#46039f\"],[0.2222222222222222,\"#7201a8\"],[0.3333333333333333,\"#9c179e\"],[0.4444444444444444,\"#bd3786\"],[0.5555555555555556,\"#d8576b\"],[0.6666666666666666,\"#ed7953\"],[0.7777777777777778,\"#fb9f3a\"],[0.8888888888888888,\"#fdca26\"],[1.0,\"#f0f921\"]],\"type\":\"surface\"}],\"table\":[{\"cells\":{\"fill\":{\"color\":\"#EBF0F8\"},\"line\":{\"color\":\"white\"}},\"header\":{\"fill\":{\"color\":\"#C8D4E3\"},\"line\":{\"color\":\"white\"}},\"type\":\"table\"}]},\"layout\":{\"annotationdefaults\":{\"arrowcolor\":\"#2a3f5f\",\"arrowhead\":0,\"arrowwidth\":1},\"autotypenumbers\":\"strict\",\"coloraxis\":{\"colorbar\":{\"outlinewidth\":0,\"ticks\":\"\"}},\"colorscale\":{\"diverging\":[[0,\"#8e0152\"],[0.1,\"#c51b7d\"],[0.2,\"#de77ae\"],[0.3,\"#f1b6da\"],[0.4,\"#fde0ef\"],[0.5,\"#f7f7f7\"],[0.6,\"#e6f5d0\"],[0.7,\"#b8e186\"],[0.8,\"#7fbc41\"],[0.9,\"#4d9221\"],[1,\"#276419\"]],\"sequential\":[[0.0,\"#0d0887\"],[0.1111111111111111,\"#46039f\"],[0.2222222222222222,\"#7201a8\"],[0.3333333333333333,\"#9c179e\"],[0.4444444444444444,\"#bd3786\"],[0.5555555555555556,\"#d8576b\"],[0.6666666666666666,\"#ed7953\"],[0.7777777777777778,\"#fb9f3a\"],[0.8888888888888888,\"#fdca26\"],[1.0,\"#f0f921\"]],\"sequentialminus\":[[0.0,\"#0d0887\"],[0.1111111111111111,\"#46039f\"],[0.2222222222222222,\"#7201a8\"],[0.3333333333333333,\"#9c179e\"],[0.4444444444444444,\"#bd3786\"],[0.5555555555555556,\"#d8576b\"],[0.6666666666666666,\"#ed7953\"],[0.7777777777777778,\"#fb9f3a\"],[0.8888888888888888,\"#fdca26\"],[1.0,\"#f0f921\"]]},\"colorway\":[\"#636efa\",\"#EF553B\",\"#00cc96\",\"#ab63fa\",\"#FFA15A\",\"#19d3f3\",\"#FF6692\",\"#B6E880\",\"#FF97FF\",\"#FECB52\"],\"font\":{\"color\":\"#2a3f5f\"},\"geo\":{\"bgcolor\":\"white\",\"lakecolor\":\"white\",\"landcolor\":\"#E5ECF6\",\"showlakes\":true,\"showland\":true,\"subunitcolor\":\"white\"},\"hoverlabel\":{\"align\":\"left\"},\"hovermode\":\"closest\",\"mapbox\":{\"style\":\"light\"},\"paper_bgcolor\":\"white\",\"plot_bgcolor\":\"#E5ECF6\",\"polar\":{\"angularaxis\":{\"gridcolor\":\"white\",\"linecolor\":\"white\",\"ticks\":\"\"},\"bgcolor\":\"#E5ECF6\",\"radialaxis\":{\"gridcolor\":\"white\",\"linecolor\":\"white\",\"ticks\":\"\"}},\"scene\":{\"xaxis\":{\"backgroundcolor\":\"#E5ECF6\",\"gridcolor\":\"white\",\"gridwidth\":2,\"linecolor\":\"white\",\"showbackground\":true,\"ticks\":\"\",\"zerolinecolor\":\"white\"},\"yaxis\":{\"backgroundcolor\":\"#E5ECF6\",\"gridcolor\":\"white\",\"gridwidth\":2,\"linecolor\":\"white\",\"showbackground\":true,\"ticks\":\"\",\"zerolinecolor\":\"white\"},\"zaxis\":{\"backgroundcolor\":\"#E5ECF6\",\"gridcolor\":\"white\",\"gridwidth\":2,\"linecolor\":\"white\",\"showbackground\":true,\"ticks\":\"\",\"zerolinecolor\":\"white\"}},\"shapedefaults\":{\"line\":{\"color\":\"#2a3f5f\"}},\"ternary\":{\"aaxis\":{\"gridcolor\":\"white\",\"linecolor\":\"white\",\"ticks\":\"\"},\"baxis\":{\"gridcolor\":\"white\",\"linecolor\":\"white\",\"ticks\":\"\"},\"bgcolor\":\"#E5ECF6\",\"caxis\":{\"gridcolor\":\"white\",\"linecolor\":\"white\",\"ticks\":\"\"}},\"title\":{\"x\":0.05},\"xaxis\":{\"automargin\":true,\"gridcolor\":\"white\",\"linecolor\":\"white\",\"ticks\":\"\",\"title\":{\"standoff\":15},\"zerolinecolor\":\"white\",\"zerolinewidth\":2},\"yaxis\":{\"automargin\":true,\"gridcolor\":\"white\",\"linecolor\":\"white\",\"ticks\":\"\",\"title\":{\"standoff\":15},\"zerolinecolor\":\"white\",\"zerolinewidth\":2}}},\"scene\":{\"domain\":{\"x\":[0.0,1.0],\"y\":[0.0,1.0]},\"xaxis\":{\"title\":{\"text\":\"ax\"}},\"yaxis\":{\"title\":{\"text\":\"ay\"}},\"zaxis\":{\"title\":{\"text\":\"az\"}}},\"legend\":{\"title\":{\"text\":\"test_type\"},\"tracegroupgap\":0},\"margin\":{\"t\":60}},                        {\"responsive\": true}                    ).then(function(){\n",
       "                            \n",
       "var gd = document.getElementById('488bc371-fbda-4386-b203-3595624c13a8');\n",
       "var x = new MutationObserver(function (mutations, observer) {{\n",
       "        var display = window.getComputedStyle(gd).display;\n",
       "        if (!display || display === 'none') {{\n",
       "            console.log([gd, 'removed!']);\n",
       "            Plotly.purge(gd);\n",
       "            observer.disconnect();\n",
       "        }}\n",
       "}});\n",
       "\n",
       "// Listen for the removal of the full notebook cells\n",
       "var notebookContainer = gd.closest('#notebook-container');\n",
       "if (notebookContainer) {{\n",
       "    x.observe(notebookContainer, {childList: true});\n",
       "}}\n",
       "\n",
       "// Listen for the clearing of the current output cell\n",
       "var outputEl = gd.closest('.output');\n",
       "if (outputEl) {{\n",
       "    x.observe(outputEl, {childList: true});\n",
       "}}\n",
       "\n",
       "                        })                };                });            </script>        </div>"
      ]
     },
     "metadata": {},
     "output_type": "display_data"
    },
    {
     "name": "stdout",
     "output_type": "stream",
     "text": [
      "input-file-pattern, button-load ['HLV', 'LLV'] 0\n"
     ]
    }
   ],
   "source": [
    "df_scat = df.groupby(['test_type','file'])['ax','ay','az'].std().round(3).reset_index()\n",
    "px.scatter_3d(df_scat, x='ax',y='ay',z='az', hover_name='file', color='test_type')"
   ]
  },
  {
   "cell_type": "code",
   "execution_count": 27,
   "metadata": {},
   "outputs": [
    {
     "data": {
      "text/html": [
       "<div>\n",
       "<style scoped>\n",
       "    .dataframe tbody tr th:only-of-type {\n",
       "        vertical-align: middle;\n",
       "    }\n",
       "\n",
       "    .dataframe tbody tr th {\n",
       "        vertical-align: top;\n",
       "    }\n",
       "\n",
       "    .dataframe thead th {\n",
       "        text-align: right;\n",
       "    }\n",
       "</style>\n",
       "<table border=\"1\" class=\"dataframe\">\n",
       "  <thead>\n",
       "    <tr style=\"text-align: right;\">\n",
       "      <th></th>\n",
       "      <th>test_type</th>\n",
       "      <th>patient</th>\n",
       "      <th>test_num</th>\n",
       "      <th>heartbeat</th>\n",
       "      <th>sbp</th>\n",
       "      <th>dbp</th>\n",
       "    </tr>\n",
       "  </thead>\n",
       "  <tbody>\n",
       "    <tr>\n",
       "      <th>0</th>\n",
       "      <td>HLV</td>\n",
       "      <td>sub112</td>\n",
       "      <td>1</td>\n",
       "      <td>49</td>\n",
       "      <td>117.154628</td>\n",
       "      <td>67.932276</td>\n",
       "    </tr>\n",
       "    <tr>\n",
       "      <th>1</th>\n",
       "      <td>HLV</td>\n",
       "      <td>sub112</td>\n",
       "      <td>2</td>\n",
       "      <td>33</td>\n",
       "      <td>122.102721</td>\n",
       "      <td>66.892080</td>\n",
       "    </tr>\n",
       "    <tr>\n",
       "      <th>2</th>\n",
       "      <td>HLV</td>\n",
       "      <td>sub176</td>\n",
       "      <td>1</td>\n",
       "      <td>63</td>\n",
       "      <td>101.776023</td>\n",
       "      <td>70.253426</td>\n",
       "    </tr>\n",
       "    <tr>\n",
       "      <th>3</th>\n",
       "      <td>HLV</td>\n",
       "      <td>sub176</td>\n",
       "      <td>2</td>\n",
       "      <td>103</td>\n",
       "      <td>110.610125</td>\n",
       "      <td>72.462400</td>\n",
       "    </tr>\n",
       "    <tr>\n",
       "      <th>4</th>\n",
       "      <td>HLV</td>\n",
       "      <td>sub176</td>\n",
       "      <td>3</td>\n",
       "      <td>92</td>\n",
       "      <td>121.639005</td>\n",
       "      <td>77.251068</td>\n",
       "    </tr>\n",
       "    <tr>\n",
       "      <th>5</th>\n",
       "      <td>HLV</td>\n",
       "      <td>sub227</td>\n",
       "      <td>1</td>\n",
       "      <td>32</td>\n",
       "      <td>125.924073</td>\n",
       "      <td>61.882821</td>\n",
       "    </tr>\n",
       "    <tr>\n",
       "      <th>6</th>\n",
       "      <td>HLV</td>\n",
       "      <td>sub227</td>\n",
       "      <td>2</td>\n",
       "      <td>37</td>\n",
       "      <td>112.922011</td>\n",
       "      <td>53.174477</td>\n",
       "    </tr>\n",
       "    <tr>\n",
       "      <th>7</th>\n",
       "      <td>HLV</td>\n",
       "      <td>sub227</td>\n",
       "      <td>3</td>\n",
       "      <td>31</td>\n",
       "      <td>109.844823</td>\n",
       "      <td>50.109987</td>\n",
       "    </tr>\n",
       "    <tr>\n",
       "      <th>8</th>\n",
       "      <td>HLV</td>\n",
       "      <td>sub251</td>\n",
       "      <td>1</td>\n",
       "      <td>94</td>\n",
       "      <td>106.392412</td>\n",
       "      <td>74.376317</td>\n",
       "    </tr>\n",
       "    <tr>\n",
       "      <th>9</th>\n",
       "      <td>HLV</td>\n",
       "      <td>sub251</td>\n",
       "      <td>2</td>\n",
       "      <td>103</td>\n",
       "      <td>109.650289</td>\n",
       "      <td>79.825368</td>\n",
       "    </tr>\n",
       "    <tr>\n",
       "      <th>10</th>\n",
       "      <td>LLV</td>\n",
       "      <td>sub019</td>\n",
       "      <td>1</td>\n",
       "      <td>28</td>\n",
       "      <td>130.675219</td>\n",
       "      <td>63.049815</td>\n",
       "    </tr>\n",
       "    <tr>\n",
       "      <th>11</th>\n",
       "      <td>LLV</td>\n",
       "      <td>sub115</td>\n",
       "      <td>1</td>\n",
       "      <td>40</td>\n",
       "      <td>101.233555</td>\n",
       "      <td>63.893397</td>\n",
       "    </tr>\n",
       "    <tr>\n",
       "      <th>12</th>\n",
       "      <td>LLV</td>\n",
       "      <td>sub115</td>\n",
       "      <td>3</td>\n",
       "      <td>51</td>\n",
       "      <td>97.058581</td>\n",
       "      <td>66.731924</td>\n",
       "    </tr>\n",
       "    <tr>\n",
       "      <th>13</th>\n",
       "      <td>LLV</td>\n",
       "      <td>sub133</td>\n",
       "      <td>1</td>\n",
       "      <td>73</td>\n",
       "      <td>104.709737</td>\n",
       "      <td>43.115228</td>\n",
       "    </tr>\n",
       "    <tr>\n",
       "      <th>14</th>\n",
       "      <td>LLV</td>\n",
       "      <td>sub133</td>\n",
       "      <td>2</td>\n",
       "      <td>66</td>\n",
       "      <td>110.401534</td>\n",
       "      <td>71.815794</td>\n",
       "    </tr>\n",
       "    <tr>\n",
       "      <th>15</th>\n",
       "      <td>LLV</td>\n",
       "      <td>sub133</td>\n",
       "      <td>3</td>\n",
       "      <td>58</td>\n",
       "      <td>111.726885</td>\n",
       "      <td>70.104737</td>\n",
       "    </tr>\n",
       "    <tr>\n",
       "      <th>16</th>\n",
       "      <td>LLV</td>\n",
       "      <td>sub202</td>\n",
       "      <td>3</td>\n",
       "      <td>64</td>\n",
       "      <td>109.755963</td>\n",
       "      <td>80.754489</td>\n",
       "    </tr>\n",
       "    <tr>\n",
       "      <th>17</th>\n",
       "      <td>LLV</td>\n",
       "      <td>sub221</td>\n",
       "      <td>1</td>\n",
       "      <td>42</td>\n",
       "      <td>109.634293</td>\n",
       "      <td>60.836736</td>\n",
       "    </tr>\n",
       "    <tr>\n",
       "      <th>18</th>\n",
       "      <td>LLV</td>\n",
       "      <td>sub221</td>\n",
       "      <td>2</td>\n",
       "      <td>42</td>\n",
       "      <td>116.628845</td>\n",
       "      <td>61.731075</td>\n",
       "    </tr>\n",
       "    <tr>\n",
       "      <th>19</th>\n",
       "      <td>LLV</td>\n",
       "      <td>sub221</td>\n",
       "      <td>3</td>\n",
       "      <td>39</td>\n",
       "      <td>118.702716</td>\n",
       "      <td>60.672752</td>\n",
       "    </tr>\n",
       "  </tbody>\n",
       "</table>\n",
       "</div>"
      ],
      "text/plain": [
       "   test_type patient test_num  heartbeat         sbp        dbp\n",
       "0        HLV  sub112        1         49  117.154628  67.932276\n",
       "1        HLV  sub112        2         33  122.102721  66.892080\n",
       "2        HLV  sub176        1         63  101.776023  70.253426\n",
       "3        HLV  sub176        2        103  110.610125  72.462400\n",
       "4        HLV  sub176        3         92  121.639005  77.251068\n",
       "5        HLV  sub227        1         32  125.924073  61.882821\n",
       "6        HLV  sub227        2         37  112.922011  53.174477\n",
       "7        HLV  sub227        3         31  109.844823  50.109987\n",
       "8        HLV  sub251        1         94  106.392412  74.376317\n",
       "9        HLV  sub251        2        103  109.650289  79.825368\n",
       "10       LLV  sub019        1         28  130.675219  63.049815\n",
       "11       LLV  sub115        1         40  101.233555  63.893397\n",
       "12       LLV  sub115        3         51   97.058581  66.731924\n",
       "13       LLV  sub133        1         73  104.709737  43.115228\n",
       "14       LLV  sub133        2         66  110.401534  71.815794\n",
       "15       LLV  sub133        3         58  111.726885  70.104737\n",
       "16       LLV  sub202        3         64  109.755963  80.754489\n",
       "17       LLV  sub221        1         42  109.634293  60.836736\n",
       "18       LLV  sub221        2         42  116.628845  61.731075\n",
       "19       LLV  sub221        3         39  118.702716  60.672752"
      ]
     },
     "execution_count": 27,
     "metadata": {},
     "output_type": "execute_result"
    }
   ],
   "source": [
    "df_res = df.sample(2000)\n",
    "path_cols = ['test_type','patient','test_num']\n",
    "df_res = df.groupby(path_cols).agg({\n",
    "    'heartbeat':'nunique',\n",
    "    'sbp':'mean',\n",
    "    'dbp':'mean',\n",
    "}).reset_index()\n",
    "df_res"
   ]
  },
  {
   "cell_type": "code",
   "execution_count": 28,
   "metadata": {},
   "outputs": [
    {
     "name": "stderr",
     "output_type": "stream",
     "text": [
      "/usr/local/lib/python3.8/site-packages/plotly/express/_core.py:1637: FutureWarning:\n",
      "\n",
      "The frame.append method is deprecated and will be removed from pandas in a future version. Use pandas.concat instead.\n",
      "\n",
      "/usr/local/lib/python3.8/site-packages/plotly/express/_core.py:1637: FutureWarning:\n",
      "\n",
      "The frame.append method is deprecated and will be removed from pandas in a future version. Use pandas.concat instead.\n",
      "\n",
      "/usr/local/lib/python3.8/site-packages/plotly/express/_core.py:1637: FutureWarning:\n",
      "\n",
      "The frame.append method is deprecated and will be removed from pandas in a future version. Use pandas.concat instead.\n",
      "\n"
     ]
    },
    {
     "data": {
      "application/vnd.plotly.v1+json": {
       "config": {
        "plotlyServerURL": "https://plot.ly"
       },
       "data": [
        {
         "branchvalues": "total",
         "customdata": [
          [
           130.6752190975027
          ],
          [
           117.15462777614385
          ],
          [
           101.23355538800872
          ],
          [
           104.7097372490463
          ],
          [
           101.77602272315875
          ],
          [
           109.63429307378097
          ],
          [
           125.92407332355806
          ],
          [
           106.39241175897467
          ],
          [
           122.10272094133003
          ],
          [
           110.40153439262187
          ],
          [
           110.61012486022476
          ],
          [
           116.62884542781306
          ],
          [
           112.92201125399367
          ],
          [
           109.65028904175367
          ],
          [
           97.0585811825471
          ],
          [
           111.72688477133521
          ],
          [
           121.63900461519361
          ],
          [
           109.75596262996586
          ],
          [
           118.70271590077326
          ],
          [
           109.8448231888406
          ],
          [
           130.6752190975027
          ],
          [
           119.14593356213342
          ],
          [
           98.89373467945332
          ],
          [
           108.68259596868458
          ],
          [
           112.38573921224793
          ],
          [
           109.75596262996586
          ],
          [
           114.89803038371632
          ],
          [
           116.12874281605681
          ],
          [
           108.09576891697587
          ],
          [
           112.51684148682078
          ],
          [
           109.79233944712946
          ]
         ],
         "domain": {
          "x": [
           0,
           1
          ],
          "y": [
           0,
           1
          ]
         },
         "hovertemplate": "labels=%{label}<br>heartbeat=%{value}<br>parent=%{parent}<br>id=%{id}<br>sbp=%{color}<extra></extra>",
         "ids": [
          "LLV/sub019/1",
          "HLV/sub112/1",
          "LLV/sub115/1",
          "LLV/sub133/1",
          "HLV/sub176/1",
          "LLV/sub221/1",
          "HLV/sub227/1",
          "HLV/sub251/1",
          "HLV/sub112/2",
          "LLV/sub133/2",
          "HLV/sub176/2",
          "LLV/sub221/2",
          "HLV/sub227/2",
          "HLV/sub251/2",
          "LLV/sub115/3",
          "LLV/sub133/3",
          "HLV/sub176/3",
          "LLV/sub202/3",
          "LLV/sub221/3",
          "HLV/sub227/3",
          "LLV/sub019",
          "HLV/sub112",
          "LLV/sub115",
          "LLV/sub133",
          "HLV/sub176",
          "LLV/sub202",
          "LLV/sub221",
          "HLV/sub227",
          "HLV/sub251",
          "HLV",
          "LLV"
         ],
         "labels": [
          "1",
          "1",
          "1",
          "1",
          "1",
          "1",
          "1",
          "1",
          "2",
          "2",
          "2",
          "2",
          "2",
          "2",
          "3",
          "3",
          "3",
          "3",
          "3",
          "3",
          "sub019",
          "sub112",
          "sub115",
          "sub133",
          "sub176",
          "sub202",
          "sub221",
          "sub227",
          "sub251",
          "HLV",
          "LLV"
         ],
         "level": "2e62f0",
         "marker": {
          "coloraxis": "coloraxis",
          "colors": [
           130.6752190975027,
           117.15462777614385,
           101.23355538800872,
           104.7097372490463,
           101.77602272315875,
           109.63429307378097,
           125.92407332355806,
           106.39241175897467,
           122.10272094133003,
           110.40153439262187,
           110.61012486022476,
           116.62884542781306,
           112.92201125399367,
           109.65028904175367,
           97.0585811825471,
           111.72688477133521,
           121.63900461519361,
           109.75596262996586,
           118.70271590077326,
           109.8448231888406,
           130.6752190975027,
           119.14593356213342,
           98.89373467945332,
           108.68259596868458,
           112.38573921224793,
           109.75596262996586,
           114.89803038371632,
           116.12874281605681,
           108.09576891697587,
           112.51684148682078,
           109.79233944712946
          ]
         },
         "name": "",
         "parents": [
          "LLV/sub019",
          "HLV/sub112",
          "LLV/sub115",
          "LLV/sub133",
          "HLV/sub176",
          "LLV/sub221",
          "HLV/sub227",
          "HLV/sub251",
          "HLV/sub112",
          "LLV/sub133",
          "HLV/sub176",
          "LLV/sub221",
          "HLV/sub227",
          "HLV/sub251",
          "LLV/sub115",
          "LLV/sub133",
          "HLV/sub176",
          "LLV/sub202",
          "LLV/sub221",
          "HLV/sub227",
          "LLV",
          "HLV",
          "LLV",
          "LLV",
          "HLV",
          "LLV",
          "LLV",
          "HLV",
          "HLV",
          "",
          ""
         ],
         "type": "sunburst",
         "values": [
          28,
          49,
          40,
          73,
          63,
          42,
          32,
          94,
          33,
          66,
          103,
          42,
          37,
          103,
          51,
          58,
          92,
          64,
          39,
          31,
          28,
          82,
          91,
          197,
          258,
          64,
          123,
          100,
          197,
          637,
          503
         ]
        }
       ],
       "layout": {
        "autosize": true,
        "coloraxis": {
         "colorbar": {
          "title": {
           "text": "sbp"
          }
         },
         "colorscale": [
          [
           0,
           "#0d0887"
          ],
          [
           0.1111111111111111,
           "#46039f"
          ],
          [
           0.2222222222222222,
           "#7201a8"
          ],
          [
           0.3333333333333333,
           "#9c179e"
          ],
          [
           0.4444444444444444,
           "#bd3786"
          ],
          [
           0.5555555555555556,
           "#d8576b"
          ],
          [
           0.6666666666666666,
           "#ed7953"
          ],
          [
           0.7777777777777778,
           "#fb9f3a"
          ],
          [
           0.8888888888888888,
           "#fdca26"
          ],
          [
           1,
           "#f0f921"
          ]
         ]
        },
        "legend": {
         "tracegroupgap": 0
        },
        "margin": {
         "t": 60
        },
        "template": {
         "data": {
          "bar": [
           {
            "error_x": {
             "color": "#2a3f5f"
            },
            "error_y": {
             "color": "#2a3f5f"
            },
            "marker": {
             "line": {
              "color": "#E5ECF6",
              "width": 0.5
             },
             "pattern": {
              "fillmode": "overlay",
              "size": 10,
              "solidity": 0.2
             }
            },
            "type": "bar"
           }
          ],
          "barpolar": [
           {
            "marker": {
             "line": {
              "color": "#E5ECF6",
              "width": 0.5
             },
             "pattern": {
              "fillmode": "overlay",
              "size": 10,
              "solidity": 0.2
             }
            },
            "type": "barpolar"
           }
          ],
          "carpet": [
           {
            "aaxis": {
             "endlinecolor": "#2a3f5f",
             "gridcolor": "white",
             "linecolor": "white",
             "minorgridcolor": "white",
             "startlinecolor": "#2a3f5f"
            },
            "baxis": {
             "endlinecolor": "#2a3f5f",
             "gridcolor": "white",
             "linecolor": "white",
             "minorgridcolor": "white",
             "startlinecolor": "#2a3f5f"
            },
            "type": "carpet"
           }
          ],
          "choropleth": [
           {
            "colorbar": {
             "outlinewidth": 0,
             "ticks": ""
            },
            "type": "choropleth"
           }
          ],
          "contour": [
           {
            "colorbar": {
             "outlinewidth": 0,
             "ticks": ""
            },
            "colorscale": [
             [
              0,
              "#0d0887"
             ],
             [
              0.1111111111111111,
              "#46039f"
             ],
             [
              0.2222222222222222,
              "#7201a8"
             ],
             [
              0.3333333333333333,
              "#9c179e"
             ],
             [
              0.4444444444444444,
              "#bd3786"
             ],
             [
              0.5555555555555556,
              "#d8576b"
             ],
             [
              0.6666666666666666,
              "#ed7953"
             ],
             [
              0.7777777777777778,
              "#fb9f3a"
             ],
             [
              0.8888888888888888,
              "#fdca26"
             ],
             [
              1,
              "#f0f921"
             ]
            ],
            "type": "contour"
           }
          ],
          "contourcarpet": [
           {
            "colorbar": {
             "outlinewidth": 0,
             "ticks": ""
            },
            "type": "contourcarpet"
           }
          ],
          "heatmap": [
           {
            "colorbar": {
             "outlinewidth": 0,
             "ticks": ""
            },
            "colorscale": [
             [
              0,
              "#0d0887"
             ],
             [
              0.1111111111111111,
              "#46039f"
             ],
             [
              0.2222222222222222,
              "#7201a8"
             ],
             [
              0.3333333333333333,
              "#9c179e"
             ],
             [
              0.4444444444444444,
              "#bd3786"
             ],
             [
              0.5555555555555556,
              "#d8576b"
             ],
             [
              0.6666666666666666,
              "#ed7953"
             ],
             [
              0.7777777777777778,
              "#fb9f3a"
             ],
             [
              0.8888888888888888,
              "#fdca26"
             ],
             [
              1,
              "#f0f921"
             ]
            ],
            "type": "heatmap"
           }
          ],
          "heatmapgl": [
           {
            "colorbar": {
             "outlinewidth": 0,
             "ticks": ""
            },
            "colorscale": [
             [
              0,
              "#0d0887"
             ],
             [
              0.1111111111111111,
              "#46039f"
             ],
             [
              0.2222222222222222,
              "#7201a8"
             ],
             [
              0.3333333333333333,
              "#9c179e"
             ],
             [
              0.4444444444444444,
              "#bd3786"
             ],
             [
              0.5555555555555556,
              "#d8576b"
             ],
             [
              0.6666666666666666,
              "#ed7953"
             ],
             [
              0.7777777777777778,
              "#fb9f3a"
             ],
             [
              0.8888888888888888,
              "#fdca26"
             ],
             [
              1,
              "#f0f921"
             ]
            ],
            "type": "heatmapgl"
           }
          ],
          "histogram": [
           {
            "marker": {
             "pattern": {
              "fillmode": "overlay",
              "size": 10,
              "solidity": 0.2
             }
            },
            "type": "histogram"
           }
          ],
          "histogram2d": [
           {
            "colorbar": {
             "outlinewidth": 0,
             "ticks": ""
            },
            "colorscale": [
             [
              0,
              "#0d0887"
             ],
             [
              0.1111111111111111,
              "#46039f"
             ],
             [
              0.2222222222222222,
              "#7201a8"
             ],
             [
              0.3333333333333333,
              "#9c179e"
             ],
             [
              0.4444444444444444,
              "#bd3786"
             ],
             [
              0.5555555555555556,
              "#d8576b"
             ],
             [
              0.6666666666666666,
              "#ed7953"
             ],
             [
              0.7777777777777778,
              "#fb9f3a"
             ],
             [
              0.8888888888888888,
              "#fdca26"
             ],
             [
              1,
              "#f0f921"
             ]
            ],
            "type": "histogram2d"
           }
          ],
          "histogram2dcontour": [
           {
            "colorbar": {
             "outlinewidth": 0,
             "ticks": ""
            },
            "colorscale": [
             [
              0,
              "#0d0887"
             ],
             [
              0.1111111111111111,
              "#46039f"
             ],
             [
              0.2222222222222222,
              "#7201a8"
             ],
             [
              0.3333333333333333,
              "#9c179e"
             ],
             [
              0.4444444444444444,
              "#bd3786"
             ],
             [
              0.5555555555555556,
              "#d8576b"
             ],
             [
              0.6666666666666666,
              "#ed7953"
             ],
             [
              0.7777777777777778,
              "#fb9f3a"
             ],
             [
              0.8888888888888888,
              "#fdca26"
             ],
             [
              1,
              "#f0f921"
             ]
            ],
            "type": "histogram2dcontour"
           }
          ],
          "mesh3d": [
           {
            "colorbar": {
             "outlinewidth": 0,
             "ticks": ""
            },
            "type": "mesh3d"
           }
          ],
          "parcoords": [
           {
            "line": {
             "colorbar": {
              "outlinewidth": 0,
              "ticks": ""
             }
            },
            "type": "parcoords"
           }
          ],
          "pie": [
           {
            "automargin": true,
            "type": "pie"
           }
          ],
          "scatter": [
           {
            "marker": {
             "colorbar": {
              "outlinewidth": 0,
              "ticks": ""
             }
            },
            "type": "scatter"
           }
          ],
          "scatter3d": [
           {
            "line": {
             "colorbar": {
              "outlinewidth": 0,
              "ticks": ""
             }
            },
            "marker": {
             "colorbar": {
              "outlinewidth": 0,
              "ticks": ""
             }
            },
            "type": "scatter3d"
           }
          ],
          "scattercarpet": [
           {
            "marker": {
             "colorbar": {
              "outlinewidth": 0,
              "ticks": ""
             }
            },
            "type": "scattercarpet"
           }
          ],
          "scattergeo": [
           {
            "marker": {
             "colorbar": {
              "outlinewidth": 0,
              "ticks": ""
             }
            },
            "type": "scattergeo"
           }
          ],
          "scattergl": [
           {
            "marker": {
             "colorbar": {
              "outlinewidth": 0,
              "ticks": ""
             }
            },
            "type": "scattergl"
           }
          ],
          "scattermapbox": [
           {
            "marker": {
             "colorbar": {
              "outlinewidth": 0,
              "ticks": ""
             }
            },
            "type": "scattermapbox"
           }
          ],
          "scatterpolar": [
           {
            "marker": {
             "colorbar": {
              "outlinewidth": 0,
              "ticks": ""
             }
            },
            "type": "scatterpolar"
           }
          ],
          "scatterpolargl": [
           {
            "marker": {
             "colorbar": {
              "outlinewidth": 0,
              "ticks": ""
             }
            },
            "type": "scatterpolargl"
           }
          ],
          "scatterternary": [
           {
            "marker": {
             "colorbar": {
              "outlinewidth": 0,
              "ticks": ""
             }
            },
            "type": "scatterternary"
           }
          ],
          "surface": [
           {
            "colorbar": {
             "outlinewidth": 0,
             "ticks": ""
            },
            "colorscale": [
             [
              0,
              "#0d0887"
             ],
             [
              0.1111111111111111,
              "#46039f"
             ],
             [
              0.2222222222222222,
              "#7201a8"
             ],
             [
              0.3333333333333333,
              "#9c179e"
             ],
             [
              0.4444444444444444,
              "#bd3786"
             ],
             [
              0.5555555555555556,
              "#d8576b"
             ],
             [
              0.6666666666666666,
              "#ed7953"
             ],
             [
              0.7777777777777778,
              "#fb9f3a"
             ],
             [
              0.8888888888888888,
              "#fdca26"
             ],
             [
              1,
              "#f0f921"
             ]
            ],
            "type": "surface"
           }
          ],
          "table": [
           {
            "cells": {
             "fill": {
              "color": "#EBF0F8"
             },
             "line": {
              "color": "white"
             }
            },
            "header": {
             "fill": {
              "color": "#C8D4E3"
             },
             "line": {
              "color": "white"
             }
            },
            "type": "table"
           }
          ]
         },
         "layout": {
          "annotationdefaults": {
           "arrowcolor": "#2a3f5f",
           "arrowhead": 0,
           "arrowwidth": 1
          },
          "autotypenumbers": "strict",
          "coloraxis": {
           "colorbar": {
            "outlinewidth": 0,
            "ticks": ""
           }
          },
          "colorscale": {
           "diverging": [
            [
             0,
             "#8e0152"
            ],
            [
             0.1,
             "#c51b7d"
            ],
            [
             0.2,
             "#de77ae"
            ],
            [
             0.3,
             "#f1b6da"
            ],
            [
             0.4,
             "#fde0ef"
            ],
            [
             0.5,
             "#f7f7f7"
            ],
            [
             0.6,
             "#e6f5d0"
            ],
            [
             0.7,
             "#b8e186"
            ],
            [
             0.8,
             "#7fbc41"
            ],
            [
             0.9,
             "#4d9221"
            ],
            [
             1,
             "#276419"
            ]
           ],
           "sequential": [
            [
             0,
             "#0d0887"
            ],
            [
             0.1111111111111111,
             "#46039f"
            ],
            [
             0.2222222222222222,
             "#7201a8"
            ],
            [
             0.3333333333333333,
             "#9c179e"
            ],
            [
             0.4444444444444444,
             "#bd3786"
            ],
            [
             0.5555555555555556,
             "#d8576b"
            ],
            [
             0.6666666666666666,
             "#ed7953"
            ],
            [
             0.7777777777777778,
             "#fb9f3a"
            ],
            [
             0.8888888888888888,
             "#fdca26"
            ],
            [
             1,
             "#f0f921"
            ]
           ],
           "sequentialminus": [
            [
             0,
             "#0d0887"
            ],
            [
             0.1111111111111111,
             "#46039f"
            ],
            [
             0.2222222222222222,
             "#7201a8"
            ],
            [
             0.3333333333333333,
             "#9c179e"
            ],
            [
             0.4444444444444444,
             "#bd3786"
            ],
            [
             0.5555555555555556,
             "#d8576b"
            ],
            [
             0.6666666666666666,
             "#ed7953"
            ],
            [
             0.7777777777777778,
             "#fb9f3a"
            ],
            [
             0.8888888888888888,
             "#fdca26"
            ],
            [
             1,
             "#f0f921"
            ]
           ]
          },
          "colorway": [
           "#636efa",
           "#EF553B",
           "#00cc96",
           "#ab63fa",
           "#FFA15A",
           "#19d3f3",
           "#FF6692",
           "#B6E880",
           "#FF97FF",
           "#FECB52"
          ],
          "font": {
           "color": "#2a3f5f"
          },
          "geo": {
           "bgcolor": "white",
           "lakecolor": "white",
           "landcolor": "#E5ECF6",
           "showlakes": true,
           "showland": true,
           "subunitcolor": "white"
          },
          "hoverlabel": {
           "align": "left"
          },
          "hovermode": "closest",
          "mapbox": {
           "style": "light"
          },
          "paper_bgcolor": "white",
          "plot_bgcolor": "#E5ECF6",
          "polar": {
           "angularaxis": {
            "gridcolor": "white",
            "linecolor": "white",
            "ticks": ""
           },
           "bgcolor": "#E5ECF6",
           "radialaxis": {
            "gridcolor": "white",
            "linecolor": "white",
            "ticks": ""
           }
          },
          "scene": {
           "xaxis": {
            "backgroundcolor": "#E5ECF6",
            "gridcolor": "white",
            "gridwidth": 2,
            "linecolor": "white",
            "showbackground": true,
            "ticks": "",
            "zerolinecolor": "white"
           },
           "yaxis": {
            "backgroundcolor": "#E5ECF6",
            "gridcolor": "white",
            "gridwidth": 2,
            "linecolor": "white",
            "showbackground": true,
            "ticks": "",
            "zerolinecolor": "white"
           },
           "zaxis": {
            "backgroundcolor": "#E5ECF6",
            "gridcolor": "white",
            "gridwidth": 2,
            "linecolor": "white",
            "showbackground": true,
            "ticks": "",
            "zerolinecolor": "white"
           }
          },
          "shapedefaults": {
           "line": {
            "color": "#2a3f5f"
           }
          },
          "ternary": {
           "aaxis": {
            "gridcolor": "white",
            "linecolor": "white",
            "ticks": ""
           },
           "baxis": {
            "gridcolor": "white",
            "linecolor": "white",
            "ticks": ""
           },
           "bgcolor": "#E5ECF6",
           "caxis": {
            "gridcolor": "white",
            "linecolor": "white",
            "ticks": ""
           }
          },
          "title": {
           "x": 0.05
          },
          "xaxis": {
           "automargin": true,
           "gridcolor": "white",
           "linecolor": "white",
           "ticks": "",
           "title": {
            "standoff": 15
           },
           "zerolinecolor": "white",
           "zerolinewidth": 2
          },
          "yaxis": {
           "automargin": true,
           "gridcolor": "white",
           "linecolor": "white",
           "ticks": "",
           "title": {
            "standoff": 15
           },
           "zerolinecolor": "white",
           "zerolinewidth": 2
          }
         }
        }
       }
      },
      "image/png": "[encoded data removed]",
      "text/html": [
       "<div>                            <div id=\"4baf873b-054d-4291-ad09-890f584873c2\" class=\"plotly-graph-div\" style=\"height:525px; width:100%;\"></div>            <script type=\"text/javascript\">                require([\"plotly\"], function(Plotly) {                    window.PLOTLYENV=window.PLOTLYENV || {};                                    if (document.getElementById(\"4baf873b-054d-4291-ad09-890f584873c2\")) {                    Plotly.newPlot(                        \"4baf873b-054d-4291-ad09-890f584873c2\",                        [{\"branchvalues\":\"total\",\"customdata\":[[130.6752190975027],[117.15462777614385],[101.23355538800872],[104.7097372490463],[101.77602272315875],[109.63429307378097],[125.92407332355806],[106.39241175897467],[122.10272094133003],[110.40153439262187],[110.61012486022476],[116.62884542781306],[112.92201125399367],[109.65028904175367],[97.0585811825471],[111.72688477133521],[121.63900461519361],[109.75596262996586],[118.70271590077326],[109.8448231888406],[130.6752190975027],[119.14593356213342],[98.89373467945332],[108.68259596868458],[112.38573921224793],[109.75596262996586],[114.89803038371632],[116.12874281605681],[108.09576891697587],[112.51684148682078],[109.79233944712946]],\"domain\":{\"x\":[0.0,1.0],\"y\":[0.0,1.0]},\"hovertemplate\":\"labels=%{label}<br>heartbeat=%{value}<br>parent=%{parent}<br>id=%{id}<br>sbp=%{color}<extra></extra>\",\"ids\":[\"LLV/sub019/1\",\"HLV/sub112/1\",\"LLV/sub115/1\",\"LLV/sub133/1\",\"HLV/sub176/1\",\"LLV/sub221/1\",\"HLV/sub227/1\",\"HLV/sub251/1\",\"HLV/sub112/2\",\"LLV/sub133/2\",\"HLV/sub176/2\",\"LLV/sub221/2\",\"HLV/sub227/2\",\"HLV/sub251/2\",\"LLV/sub115/3\",\"LLV/sub133/3\",\"HLV/sub176/3\",\"LLV/sub202/3\",\"LLV/sub221/3\",\"HLV/sub227/3\",\"LLV/sub019\",\"HLV/sub112\",\"LLV/sub115\",\"LLV/sub133\",\"HLV/sub176\",\"LLV/sub202\",\"LLV/sub221\",\"HLV/sub227\",\"HLV/sub251\",\"HLV\",\"LLV\"],\"labels\":[\"1\",\"1\",\"1\",\"1\",\"1\",\"1\",\"1\",\"1\",\"2\",\"2\",\"2\",\"2\",\"2\",\"2\",\"3\",\"3\",\"3\",\"3\",\"3\",\"3\",\"sub019\",\"sub112\",\"sub115\",\"sub133\",\"sub176\",\"sub202\",\"sub221\",\"sub227\",\"sub251\",\"HLV\",\"LLV\"],\"marker\":{\"coloraxis\":\"coloraxis\",\"colors\":[130.6752190975027,117.15462777614385,101.23355538800872,104.7097372490463,101.77602272315875,109.63429307378097,125.92407332355806,106.39241175897467,122.10272094133003,110.40153439262187,110.61012486022476,116.62884542781306,112.92201125399367,109.65028904175367,97.0585811825471,111.72688477133521,121.63900461519361,109.75596262996586,118.70271590077326,109.8448231888406,130.6752190975027,119.14593356213342,98.89373467945332,108.68259596868458,112.38573921224793,109.75596262996586,114.89803038371632,116.12874281605681,108.09576891697587,112.51684148682078,109.79233944712946]},\"name\":\"\",\"parents\":[\"LLV/sub019\",\"HLV/sub112\",\"LLV/sub115\",\"LLV/sub133\",\"HLV/sub176\",\"LLV/sub221\",\"HLV/sub227\",\"HLV/sub251\",\"HLV/sub112\",\"LLV/sub133\",\"HLV/sub176\",\"LLV/sub221\",\"HLV/sub227\",\"HLV/sub251\",\"LLV/sub115\",\"LLV/sub133\",\"HLV/sub176\",\"LLV/sub202\",\"LLV/sub221\",\"HLV/sub227\",\"LLV\",\"HLV\",\"LLV\",\"LLV\",\"HLV\",\"LLV\",\"LLV\",\"HLV\",\"HLV\",\"\",\"\"],\"values\":[28,49,40,73,63,42,32,94,33,66,103,42,37,103,51,58,92,64,39,31,28,82,91,197,258,64,123,100,197,637,503],\"type\":\"sunburst\"}],                        {\"template\":{\"data\":{\"bar\":[{\"error_x\":{\"color\":\"#2a3f5f\"},\"error_y\":{\"color\":\"#2a3f5f\"},\"marker\":{\"line\":{\"color\":\"#E5ECF6\",\"width\":0.5},\"pattern\":{\"fillmode\":\"overlay\",\"size\":10,\"solidity\":0.2}},\"type\":\"bar\"}],\"barpolar\":[{\"marker\":{\"line\":{\"color\":\"#E5ECF6\",\"width\":0.5},\"pattern\":{\"fillmode\":\"overlay\",\"size\":10,\"solidity\":0.2}},\"type\":\"barpolar\"}],\"carpet\":[{\"aaxis\":{\"endlinecolor\":\"#2a3f5f\",\"gridcolor\":\"white\",\"linecolor\":\"white\",\"minorgridcolor\":\"white\",\"startlinecolor\":\"#2a3f5f\"},\"baxis\":{\"endlinecolor\":\"#2a3f5f\",\"gridcolor\":\"white\",\"linecolor\":\"white\",\"minorgridcolor\":\"white\",\"startlinecolor\":\"#2a3f5f\"},\"type\":\"carpet\"}],\"choropleth\":[{\"colorbar\":{\"outlinewidth\":0,\"ticks\":\"\"},\"type\":\"choropleth\"}],\"contour\":[{\"colorbar\":{\"outlinewidth\":0,\"ticks\":\"\"},\"colorscale\":[[0.0,\"#0d0887\"],[0.1111111111111111,\"#46039f\"],[0.2222222222222222,\"#7201a8\"],[0.3333333333333333,\"#9c179e\"],[0.4444444444444444,\"#bd3786\"],[0.5555555555555556,\"#d8576b\"],[0.6666666666666666,\"#ed7953\"],[0.7777777777777778,\"#fb9f3a\"],[0.8888888888888888,\"#fdca26\"],[1.0,\"#f0f921\"]],\"type\":\"contour\"}],\"contourcarpet\":[{\"colorbar\":{\"outlinewidth\":0,\"ticks\":\"\"},\"type\":\"contourcarpet\"}],\"heatmap\":[{\"colorbar\":{\"outlinewidth\":0,\"ticks\":\"\"},\"colorscale\":[[0.0,\"#0d0887\"],[0.1111111111111111,\"#46039f\"],[0.2222222222222222,\"#7201a8\"],[0.3333333333333333,\"#9c179e\"],[0.4444444444444444,\"#bd3786\"],[0.5555555555555556,\"#d8576b\"],[0.6666666666666666,\"#ed7953\"],[0.7777777777777778,\"#fb9f3a\"],[0.8888888888888888,\"#fdca26\"],[1.0,\"#f0f921\"]],\"type\":\"heatmap\"}],\"heatmapgl\":[{\"colorbar\":{\"outlinewidth\":0,\"ticks\":\"\"},\"colorscale\":[[0.0,\"#0d0887\"],[0.1111111111111111,\"#46039f\"],[0.2222222222222222,\"#7201a8\"],[0.3333333333333333,\"#9c179e\"],[0.4444444444444444,\"#bd3786\"],[0.5555555555555556,\"#d8576b\"],[0.6666666666666666,\"#ed7953\"],[0.7777777777777778,\"#fb9f3a\"],[0.8888888888888888,\"#fdca26\"],[1.0,\"#f0f921\"]],\"type\":\"heatmapgl\"}],\"histogram\":[{\"marker\":{\"pattern\":{\"fillmode\":\"overlay\",\"size\":10,\"solidity\":0.2}},\"type\":\"histogram\"}],\"histogram2d\":[{\"colorbar\":{\"outlinewidth\":0,\"ticks\":\"\"},\"colorscale\":[[0.0,\"#0d0887\"],[0.1111111111111111,\"#46039f\"],[0.2222222222222222,\"#7201a8\"],[0.3333333333333333,\"#9c179e\"],[0.4444444444444444,\"#bd3786\"],[0.5555555555555556,\"#d8576b\"],[0.6666666666666666,\"#ed7953\"],[0.7777777777777778,\"#fb9f3a\"],[0.8888888888888888,\"#fdca26\"],[1.0,\"#f0f921\"]],\"type\":\"histogram2d\"}],\"histogram2dcontour\":[{\"colorbar\":{\"outlinewidth\":0,\"ticks\":\"\"},\"colorscale\":[[0.0,\"#0d0887\"],[0.1111111111111111,\"#46039f\"],[0.2222222222222222,\"#7201a8\"],[0.3333333333333333,\"#9c179e\"],[0.4444444444444444,\"#bd3786\"],[0.5555555555555556,\"#d8576b\"],[0.6666666666666666,\"#ed7953\"],[0.7777777777777778,\"#fb9f3a\"],[0.8888888888888888,\"#fdca26\"],[1.0,\"#f0f921\"]],\"type\":\"histogram2dcontour\"}],\"mesh3d\":[{\"colorbar\":{\"outlinewidth\":0,\"ticks\":\"\"},\"type\":\"mesh3d\"}],\"parcoords\":[{\"line\":{\"colorbar\":{\"outlinewidth\":0,\"ticks\":\"\"}},\"type\":\"parcoords\"}],\"pie\":[{\"automargin\":true,\"type\":\"pie\"}],\"scatter\":[{\"marker\":{\"colorbar\":{\"outlinewidth\":0,\"ticks\":\"\"}},\"type\":\"scatter\"}],\"scatter3d\":[{\"line\":{\"colorbar\":{\"outlinewidth\":0,\"ticks\":\"\"}},\"marker\":{\"colorbar\":{\"outlinewidth\":0,\"ticks\":\"\"}},\"type\":\"scatter3d\"}],\"scattercarpet\":[{\"marker\":{\"colorbar\":{\"outlinewidth\":0,\"ticks\":\"\"}},\"type\":\"scattercarpet\"}],\"scattergeo\":[{\"marker\":{\"colorbar\":{\"outlinewidth\":0,\"ticks\":\"\"}},\"type\":\"scattergeo\"}],\"scattergl\":[{\"marker\":{\"colorbar\":{\"outlinewidth\":0,\"ticks\":\"\"}},\"type\":\"scattergl\"}],\"scattermapbox\":[{\"marker\":{\"colorbar\":{\"outlinewidth\":0,\"ticks\":\"\"}},\"type\":\"scattermapbox\"}],\"scatterpolar\":[{\"marker\":{\"colorbar\":{\"outlinewidth\":0,\"ticks\":\"\"}},\"type\":\"scatterpolar\"}],\"scatterpolargl\":[{\"marker\":{\"colorbar\":{\"outlinewidth\":0,\"ticks\":\"\"}},\"type\":\"scatterpolargl\"}],\"scatterternary\":[{\"marker\":{\"colorbar\":{\"outlinewidth\":0,\"ticks\":\"\"}},\"type\":\"scatterternary\"}],\"surface\":[{\"colorbar\":{\"outlinewidth\":0,\"ticks\":\"\"},\"colorscale\":[[0.0,\"#0d0887\"],[0.1111111111111111,\"#46039f\"],[0.2222222222222222,\"#7201a8\"],[0.3333333333333333,\"#9c179e\"],[0.4444444444444444,\"#bd3786\"],[0.5555555555555556,\"#d8576b\"],[0.6666666666666666,\"#ed7953\"],[0.7777777777777778,\"#fb9f3a\"],[0.8888888888888888,\"#fdca26\"],[1.0,\"#f0f921\"]],\"type\":\"surface\"}],\"table\":[{\"cells\":{\"fill\":{\"color\":\"#EBF0F8\"},\"line\":{\"color\":\"white\"}},\"header\":{\"fill\":{\"color\":\"#C8D4E3\"},\"line\":{\"color\":\"white\"}},\"type\":\"table\"}]},\"layout\":{\"annotationdefaults\":{\"arrowcolor\":\"#2a3f5f\",\"arrowhead\":0,\"arrowwidth\":1},\"autotypenumbers\":\"strict\",\"coloraxis\":{\"colorbar\":{\"outlinewidth\":0,\"ticks\":\"\"}},\"colorscale\":{\"diverging\":[[0,\"#8e0152\"],[0.1,\"#c51b7d\"],[0.2,\"#de77ae\"],[0.3,\"#f1b6da\"],[0.4,\"#fde0ef\"],[0.5,\"#f7f7f7\"],[0.6,\"#e6f5d0\"],[0.7,\"#b8e186\"],[0.8,\"#7fbc41\"],[0.9,\"#4d9221\"],[1,\"#276419\"]],\"sequential\":[[0.0,\"#0d0887\"],[0.1111111111111111,\"#46039f\"],[0.2222222222222222,\"#7201a8\"],[0.3333333333333333,\"#9c179e\"],[0.4444444444444444,\"#bd3786\"],[0.5555555555555556,\"#d8576b\"],[0.6666666666666666,\"#ed7953\"],[0.7777777777777778,\"#fb9f3a\"],[0.8888888888888888,\"#fdca26\"],[1.0,\"#f0f921\"]],\"sequentialminus\":[[0.0,\"#0d0887\"],[0.1111111111111111,\"#46039f\"],[0.2222222222222222,\"#7201a8\"],[0.3333333333333333,\"#9c179e\"],[0.4444444444444444,\"#bd3786\"],[0.5555555555555556,\"#d8576b\"],[0.6666666666666666,\"#ed7953\"],[0.7777777777777778,\"#fb9f3a\"],[0.8888888888888888,\"#fdca26\"],[1.0,\"#f0f921\"]]},\"colorway\":[\"#636efa\",\"#EF553B\",\"#00cc96\",\"#ab63fa\",\"#FFA15A\",\"#19d3f3\",\"#FF6692\",\"#B6E880\",\"#FF97FF\",\"#FECB52\"],\"font\":{\"color\":\"#2a3f5f\"},\"geo\":{\"bgcolor\":\"white\",\"lakecolor\":\"white\",\"landcolor\":\"#E5ECF6\",\"showlakes\":true,\"showland\":true,\"subunitcolor\":\"white\"},\"hoverlabel\":{\"align\":\"left\"},\"hovermode\":\"closest\",\"mapbox\":{\"style\":\"light\"},\"paper_bgcolor\":\"white\",\"plot_bgcolor\":\"#E5ECF6\",\"polar\":{\"angularaxis\":{\"gridcolor\":\"white\",\"linecolor\":\"white\",\"ticks\":\"\"},\"bgcolor\":\"#E5ECF6\",\"radialaxis\":{\"gridcolor\":\"white\",\"linecolor\":\"white\",\"ticks\":\"\"}},\"scene\":{\"xaxis\":{\"backgroundcolor\":\"#E5ECF6\",\"gridcolor\":\"white\",\"gridwidth\":2,\"linecolor\":\"white\",\"showbackground\":true,\"ticks\":\"\",\"zerolinecolor\":\"white\"},\"yaxis\":{\"backgroundcolor\":\"#E5ECF6\",\"gridcolor\":\"white\",\"gridwidth\":2,\"linecolor\":\"white\",\"showbackground\":true,\"ticks\":\"\",\"zerolinecolor\":\"white\"},\"zaxis\":{\"backgroundcolor\":\"#E5ECF6\",\"gridcolor\":\"white\",\"gridwidth\":2,\"linecolor\":\"white\",\"showbackground\":true,\"ticks\":\"\",\"zerolinecolor\":\"white\"}},\"shapedefaults\":{\"line\":{\"color\":\"#2a3f5f\"}},\"ternary\":{\"aaxis\":{\"gridcolor\":\"white\",\"linecolor\":\"white\",\"ticks\":\"\"},\"baxis\":{\"gridcolor\":\"white\",\"linecolor\":\"white\",\"ticks\":\"\"},\"bgcolor\":\"#E5ECF6\",\"caxis\":{\"gridcolor\":\"white\",\"linecolor\":\"white\",\"ticks\":\"\"}},\"title\":{\"x\":0.05},\"xaxis\":{\"automargin\":true,\"gridcolor\":\"white\",\"linecolor\":\"white\",\"ticks\":\"\",\"title\":{\"standoff\":15},\"zerolinecolor\":\"white\",\"zerolinewidth\":2},\"yaxis\":{\"automargin\":true,\"gridcolor\":\"white\",\"linecolor\":\"white\",\"ticks\":\"\",\"title\":{\"standoff\":15},\"zerolinecolor\":\"white\",\"zerolinewidth\":2}}},\"coloraxis\":{\"colorbar\":{\"title\":{\"text\":\"sbp\"}},\"colorscale\":[[0.0,\"#0d0887\"],[0.1111111111111111,\"#46039f\"],[0.2222222222222222,\"#7201a8\"],[0.3333333333333333,\"#9c179e\"],[0.4444444444444444,\"#bd3786\"],[0.5555555555555556,\"#d8576b\"],[0.6666666666666666,\"#ed7953\"],[0.7777777777777778,\"#fb9f3a\"],[0.8888888888888888,\"#fdca26\"],[1.0,\"#f0f921\"]]},\"legend\":{\"tracegroupgap\":0},\"margin\":{\"t\":60}},                        {\"responsive\": true}                    ).then(function(){\n",
       "                            \n",
       "var gd = document.getElementById('4baf873b-054d-4291-ad09-890f584873c2');\n",
       "var x = new MutationObserver(function (mutations, observer) {{\n",
       "        var display = window.getComputedStyle(gd).display;\n",
       "        if (!display || display === 'none') {{\n",
       "            console.log([gd, 'removed!']);\n",
       "            Plotly.purge(gd);\n",
       "            observer.disconnect();\n",
       "        }}\n",
       "}});\n",
       "\n",
       "// Listen for the removal of the full notebook cells\n",
       "var notebookContainer = gd.closest('#notebook-container');\n",
       "if (notebookContainer) {{\n",
       "    x.observe(notebookContainer, {childList: true});\n",
       "}}\n",
       "\n",
       "// Listen for the clearing of the current output cell\n",
       "var outputEl = gd.closest('.output');\n",
       "if (outputEl) {{\n",
       "    x.observe(outputEl, {childList: true});\n",
       "}}\n",
       "\n",
       "                        })                };                });            </script>        </div>"
      ]
     },
     "metadata": {},
     "output_type": "display_data"
    },
    {
     "name": "stdout",
     "output_type": "stream",
     "text": [
      "input-file-pattern, button-load ['HLV', 'LLV'] 0\n",
      "input-file-pattern, button-load 6d4c810f0891bc49ddb12192c67f2f805ea84d05b85b6e764eebd8dbcfc48bb1724489574d53558ffba8985bedfe421780c5d8c5fe5520f5298a721b7a1346d3 (195376, 19)\n",
      "print_success_msg from_input_to_filter 6d4c810f0891bc49ddb12192c67f2f805ea84d05b85b6e764eebd8dbcfc48bb1724489574d53558ffba8985bedfe421780c5d8c5fe5520f5298a721b7a1346d3\n",
      "6d4c810f0891bc49ddb12192c67f2f805ea84d05b85b6e764eebd8dbcfc48bb1724489574d53558ffba8985bedfe421780c5d8c5fe5520f5298a721b7a1346d3\n",
      "datatable_comp filter  {'df': '6d4c810f0891bc49ddb12192c67f2f805ea84d05b85b6e764eebd8dbcfc48bb1724489574d53558ffba8985bedfe421780c5d8c5fe5520f5298a721b7a1346d3'}\n",
      "from_filter_to_overview 6d4c810f0891bc49ddb12192c67f2f805ea84d05b85b6e764eebd8dbcfc48bb1724489574d53558ffba8985bedfe421780c5d8c5fe5520f5298a721b7a1346d3\n",
      "from_overview_to_output 6d4c810f0891bc49ddb12192c67f2f805ea84d05b85b6e764eebd8dbcfc48bb1724489574d53558ffba8985bedfe421780c5d8c5fe5520f5298a721b7a1346d3\n"
     ]
    }
   ],
   "source": [
    "px.sunburst(df_res, path=path_cols, values='heartbeat', color='sbp')"
   ]
  },
  {
   "cell_type": "code",
   "execution_count": 20,
   "metadata": {},
   "outputs": [
    {
     "data": {
      "text/html": [
       "<div>\n",
       "<style scoped>\n",
       "    .dataframe tbody tr th:only-of-type {\n",
       "        vertical-align: middle;\n",
       "    }\n",
       "\n",
       "    .dataframe tbody tr th {\n",
       "        vertical-align: top;\n",
       "    }\n",
       "\n",
       "    .dataframe thead th {\n",
       "        text-align: right;\n",
       "    }\n",
       "</style>\n",
       "<table border=\"1\" class=\"dataframe\">\n",
       "  <thead>\n",
       "    <tr style=\"text-align: right;\">\n",
       "      <th></th>\n",
       "      <th>test_type</th>\n",
       "      <th>patient</th>\n",
       "      <th>test_num</th>\n",
       "      <th>heartbeat</th>\n",
       "    </tr>\n",
       "  </thead>\n",
       "  <tbody>\n",
       "    <tr>\n",
       "      <th>0</th>\n",
       "      <td>HLV</td>\n",
       "      <td>sub112</td>\n",
       "      <td>1</td>\n",
       "      <td>37</td>\n",
       "    </tr>\n",
       "    <tr>\n",
       "      <th>1</th>\n",
       "      <td>HLV</td>\n",
       "      <td>sub112</td>\n",
       "      <td>2</td>\n",
       "      <td>25</td>\n",
       "    </tr>\n",
       "    <tr>\n",
       "      <th>2</th>\n",
       "      <td>HLV</td>\n",
       "      <td>sub176</td>\n",
       "      <td>1</td>\n",
       "      <td>52</td>\n",
       "    </tr>\n",
       "    <tr>\n",
       "      <th>3</th>\n",
       "      <td>HLV</td>\n",
       "      <td>sub176</td>\n",
       "      <td>2</td>\n",
       "      <td>88</td>\n",
       "    </tr>\n",
       "    <tr>\n",
       "      <th>4</th>\n",
       "      <td>HLV</td>\n",
       "      <td>sub176</td>\n",
       "      <td>3</td>\n",
       "      <td>80</td>\n",
       "    </tr>\n",
       "    <tr>\n",
       "      <th>5</th>\n",
       "      <td>HLV</td>\n",
       "      <td>sub227</td>\n",
       "      <td>1</td>\n",
       "      <td>28</td>\n",
       "    </tr>\n",
       "    <tr>\n",
       "      <th>6</th>\n",
       "      <td>HLV</td>\n",
       "      <td>sub227</td>\n",
       "      <td>2</td>\n",
       "      <td>29</td>\n",
       "    </tr>\n",
       "    <tr>\n",
       "      <th>7</th>\n",
       "      <td>HLV</td>\n",
       "      <td>sub227</td>\n",
       "      <td>3</td>\n",
       "      <td>27</td>\n",
       "    </tr>\n",
       "    <tr>\n",
       "      <th>8</th>\n",
       "      <td>HLV</td>\n",
       "      <td>sub251</td>\n",
       "      <td>1</td>\n",
       "      <td>81</td>\n",
       "    </tr>\n",
       "    <tr>\n",
       "      <th>9</th>\n",
       "      <td>HLV</td>\n",
       "      <td>sub251</td>\n",
       "      <td>2</td>\n",
       "      <td>86</td>\n",
       "    </tr>\n",
       "    <tr>\n",
       "      <th>10</th>\n",
       "      <td>LLV</td>\n",
       "      <td>sub019</td>\n",
       "      <td>1</td>\n",
       "      <td>22</td>\n",
       "    </tr>\n",
       "    <tr>\n",
       "      <th>11</th>\n",
       "      <td>LLV</td>\n",
       "      <td>sub115</td>\n",
       "      <td>1</td>\n",
       "      <td>35</td>\n",
       "    </tr>\n",
       "    <tr>\n",
       "      <th>12</th>\n",
       "      <td>LLV</td>\n",
       "      <td>sub115</td>\n",
       "      <td>3</td>\n",
       "      <td>42</td>\n",
       "    </tr>\n",
       "    <tr>\n",
       "      <th>13</th>\n",
       "      <td>LLV</td>\n",
       "      <td>sub133</td>\n",
       "      <td>1</td>\n",
       "      <td>60</td>\n",
       "    </tr>\n",
       "    <tr>\n",
       "      <th>14</th>\n",
       "      <td>LLV</td>\n",
       "      <td>sub133</td>\n",
       "      <td>2</td>\n",
       "      <td>50</td>\n",
       "    </tr>\n",
       "    <tr>\n",
       "      <th>15</th>\n",
       "      <td>LLV</td>\n",
       "      <td>sub133</td>\n",
       "      <td>3</td>\n",
       "      <td>50</td>\n",
       "    </tr>\n",
       "    <tr>\n",
       "      <th>16</th>\n",
       "      <td>LLV</td>\n",
       "      <td>sub202</td>\n",
       "      <td>3</td>\n",
       "      <td>51</td>\n",
       "    </tr>\n",
       "    <tr>\n",
       "      <th>17</th>\n",
       "      <td>LLV</td>\n",
       "      <td>sub221</td>\n",
       "      <td>1</td>\n",
       "      <td>30</td>\n",
       "    </tr>\n",
       "    <tr>\n",
       "      <th>18</th>\n",
       "      <td>LLV</td>\n",
       "      <td>sub221</td>\n",
       "      <td>2</td>\n",
       "      <td>31</td>\n",
       "    </tr>\n",
       "    <tr>\n",
       "      <th>19</th>\n",
       "      <td>LLV</td>\n",
       "      <td>sub221</td>\n",
       "      <td>3</td>\n",
       "      <td>26</td>\n",
       "    </tr>\n",
       "  </tbody>\n",
       "</table>\n",
       "</div>"
      ],
      "text/plain": [
       "   test_type patient test_num  heartbeat\n",
       "0        HLV  sub112        1         37\n",
       "1        HLV  sub112        2         25\n",
       "2        HLV  sub176        1         52\n",
       "3        HLV  sub176        2         88\n",
       "4        HLV  sub176        3         80\n",
       "5        HLV  sub227        1         28\n",
       "6        HLV  sub227        2         29\n",
       "7        HLV  sub227        3         27\n",
       "8        HLV  sub251        1         81\n",
       "9        HLV  sub251        2         86\n",
       "10       LLV  sub019        1         22\n",
       "11       LLV  sub115        1         35\n",
       "12       LLV  sub115        3         42\n",
       "13       LLV  sub133        1         60\n",
       "14       LLV  sub133        2         50\n",
       "15       LLV  sub133        3         50\n",
       "16       LLV  sub202        3         51\n",
       "17       LLV  sub221        1         30\n",
       "18       LLV  sub221        2         31\n",
       "19       LLV  sub221        3         26"
      ]
     },
     "execution_count": 20,
     "metadata": {},
     "output_type": "execute_result"
    }
   ],
   "source": [
    "df_res"
   ]
  },
  {
   "cell_type": "code",
   "execution_count": 25,
   "metadata": {},
   "outputs": [
    {
     "data": {
      "text/plain": [
       "'Success! Loaded DataFrame (195376 rows x 19 columns)'"
      ]
     },
     "execution_count": 25,
     "metadata": {},
     "output_type": "execute_result"
    },
    {
     "name": "stdout",
     "output_type": "stream",
     "text": [
      "input-file-pattern, button-load ['HLV', 'LLV'] 0\n",
      "print_success_msg 6d4c810f0891bc49ddb12192c67f2f805ea84d05b85b6e764eebd8dbcfc48bb1724489574d53558ffba8985bedfe421780c5d8c5fe5520f5298a721b7a1346d3\n"
     ]
    }
   ],
   "source": [
    "'Success! Loaded DataFrame ({} rows x {} columns)'.format(*df.shape)"
   ]
  },
  {
   "cell_type": "code",
   "execution_count": 22,
   "metadata": {},
   "outputs": [
    {
     "data": {
      "text/html": [
       "<div>\n",
       "<style scoped>\n",
       "    .dataframe tbody tr th:only-of-type {\n",
       "        vertical-align: middle;\n",
       "    }\n",
       "\n",
       "    .dataframe tbody tr th {\n",
       "        vertical-align: top;\n",
       "    }\n",
       "\n",
       "    .dataframe thead th {\n",
       "        text-align: right;\n",
       "    }\n",
       "</style>\n",
       "<table border=\"1\" class=\"dataframe\">\n",
       "  <thead>\n",
       "    <tr style=\"text-align: right;\">\n",
       "      <th></th>\n",
       "      <th>file</th>\n",
       "      <th>ax</th>\n",
       "      <th>ay</th>\n",
       "      <th>az</th>\n",
       "      <th>gx</th>\n",
       "      <th>gy</th>\n",
       "      <th>gz</th>\n",
       "      <th>heartbeat</th>\n",
       "      <th>patient</th>\n",
       "      <th>test_type</th>\n",
       "      <th>test_num</th>\n",
       "      <th>tsCC</th>\n",
       "      <th>ts</th>\n",
       "      <th>pp</th>\n",
       "      <th>sbp</th>\n",
       "      <th>dbp</th>\n",
       "      <th>test_type_bp</th>\n",
       "      <th>test_num_bp</th>\n",
       "      <th>patient_bp</th>\n",
       "    </tr>\n",
       "  </thead>\n",
       "  <tbody>\n",
       "    <tr>\n",
       "      <th>0</th>\n",
       "      <td>sub112_HLV1.mat</td>\n",
       "      <td>-1.122880</td>\n",
       "      <td>-0.571017</td>\n",
       "      <td>-9.860519</td>\n",
       "      <td>0.362396</td>\n",
       "      <td>3.185272</td>\n",
       "      <td>-0.434875</td>\n",
       "      <td>3.0</td>\n",
       "      <td>sub112</td>\n",
       "      <td>HLV</td>\n",
       "      <td>1</td>\n",
       "      <td>True</td>\n",
       "      <td>2699000000</td>\n",
       "      <td>56.675948</td>\n",
       "      <td>118.611859</td>\n",
       "      <td>61.935911</td>\n",
       "      <td>HLV</td>\n",
       "      <td>1</td>\n",
       "      <td>sub112</td>\n",
       "    </tr>\n",
       "    <tr>\n",
       "      <th>1</th>\n",
       "      <td>sub112_HLV1.mat</td>\n",
       "      <td>-1.137246</td>\n",
       "      <td>-0.603339</td>\n",
       "      <td>-9.835379</td>\n",
       "      <td>0.457764</td>\n",
       "      <td>3.463745</td>\n",
       "      <td>-0.640869</td>\n",
       "      <td>3.0</td>\n",
       "      <td>sub112</td>\n",
       "      <td>HLV</td>\n",
       "      <td>1</td>\n",
       "      <td>True</td>\n",
       "      <td>2704000000</td>\n",
       "      <td>56.675948</td>\n",
       "      <td>118.611859</td>\n",
       "      <td>61.935911</td>\n",
       "      <td>HLV</td>\n",
       "      <td>1</td>\n",
       "      <td>sub112</td>\n",
       "    </tr>\n",
       "    <tr>\n",
       "      <th>2</th>\n",
       "      <td>sub112_HLV1.mat</td>\n",
       "      <td>-1.096544</td>\n",
       "      <td>-0.555455</td>\n",
       "      <td>-9.897629</td>\n",
       "      <td>0.656128</td>\n",
       "      <td>3.807068</td>\n",
       "      <td>-0.511169</td>\n",
       "      <td>3.0</td>\n",
       "      <td>sub112</td>\n",
       "      <td>HLV</td>\n",
       "      <td>1</td>\n",
       "      <td>True</td>\n",
       "      <td>2709000000</td>\n",
       "      <td>56.675948</td>\n",
       "      <td>118.611859</td>\n",
       "      <td>61.935911</td>\n",
       "      <td>HLV</td>\n",
       "      <td>1</td>\n",
       "      <td>sub112</td>\n",
       "    </tr>\n",
       "    <tr>\n",
       "      <th>3</th>\n",
       "      <td>sub112_HLV1.mat</td>\n",
       "      <td>-1.104924</td>\n",
       "      <td>-0.611718</td>\n",
       "      <td>-9.907205</td>\n",
       "      <td>0.244141</td>\n",
       "      <td>3.414154</td>\n",
       "      <td>-0.507355</td>\n",
       "      <td>3.0</td>\n",
       "      <td>sub112</td>\n",
       "      <td>HLV</td>\n",
       "      <td>1</td>\n",
       "      <td>True</td>\n",
       "      <td>2714000000</td>\n",
       "      <td>56.675948</td>\n",
       "      <td>118.611859</td>\n",
       "      <td>61.935911</td>\n",
       "      <td>HLV</td>\n",
       "      <td>1</td>\n",
       "      <td>sub112</td>\n",
       "    </tr>\n",
       "    <tr>\n",
       "      <th>4</th>\n",
       "      <td>sub112_HLV1.mat</td>\n",
       "      <td>-1.096544</td>\n",
       "      <td>-0.575805</td>\n",
       "      <td>-9.947907</td>\n",
       "      <td>0.442505</td>\n",
       "      <td>3.047943</td>\n",
       "      <td>-0.320435</td>\n",
       "      <td>3.0</td>\n",
       "      <td>sub112</td>\n",
       "      <td>HLV</td>\n",
       "      <td>1</td>\n",
       "      <td>True</td>\n",
       "      <td>2719000000</td>\n",
       "      <td>56.675948</td>\n",
       "      <td>118.611859</td>\n",
       "      <td>61.935911</td>\n",
       "      <td>HLV</td>\n",
       "      <td>1</td>\n",
       "      <td>sub112</td>\n",
       "    </tr>\n",
       "    <tr>\n",
       "      <th>...</th>\n",
       "      <td>...</td>\n",
       "      <td>...</td>\n",
       "      <td>...</td>\n",
       "      <td>...</td>\n",
       "      <td>...</td>\n",
       "      <td>...</td>\n",
       "      <td>...</td>\n",
       "      <td>...</td>\n",
       "      <td>...</td>\n",
       "      <td>...</td>\n",
       "      <td>...</td>\n",
       "      <td>...</td>\n",
       "      <td>...</td>\n",
       "      <td>...</td>\n",
       "      <td>...</td>\n",
       "      <td>...</td>\n",
       "      <td>...</td>\n",
       "      <td>...</td>\n",
       "      <td>...</td>\n",
       "    </tr>\n",
       "    <tr>\n",
       "      <th>81318</th>\n",
       "      <td>sub221_LLV3.mat</td>\n",
       "      <td>2.831143</td>\n",
       "      <td>0.289698</td>\n",
       "      <td>-9.898826</td>\n",
       "      <td>-6.214142</td>\n",
       "      <td>-5.847931</td>\n",
       "      <td>-0.667572</td>\n",
       "      <td>41.0</td>\n",
       "      <td>sub221</td>\n",
       "      <td>LLV</td>\n",
       "      <td>3</td>\n",
       "      <td>True</td>\n",
       "      <td>28472000000</td>\n",
       "      <td>44.949636</td>\n",
       "      <td>118.662947</td>\n",
       "      <td>73.713311</td>\n",
       "      <td>None</td>\n",
       "      <td>None</td>\n",
       "      <td>None</td>\n",
       "    </tr>\n",
       "    <tr>\n",
       "      <th>81319</th>\n",
       "      <td>sub221_LLV3.mat</td>\n",
       "      <td>2.786850</td>\n",
       "      <td>0.284910</td>\n",
       "      <td>-10.290278</td>\n",
       "      <td>-3.707886</td>\n",
       "      <td>-8.377075</td>\n",
       "      <td>-0.907898</td>\n",
       "      <td>41.0</td>\n",
       "      <td>sub221</td>\n",
       "      <td>LLV</td>\n",
       "      <td>3</td>\n",
       "      <td>True</td>\n",
       "      <td>28477000000</td>\n",
       "      <td>44.949636</td>\n",
       "      <td>118.662947</td>\n",
       "      <td>73.713311</td>\n",
       "      <td>None</td>\n",
       "      <td>None</td>\n",
       "      <td>None</td>\n",
       "    </tr>\n",
       "    <tr>\n",
       "      <th>81320</th>\n",
       "      <td>sub221_LLV3.mat</td>\n",
       "      <td>2.762908</td>\n",
       "      <td>0.308852</td>\n",
       "      <td>-10.319008</td>\n",
       "      <td>-1.396179</td>\n",
       "      <td>-10.063171</td>\n",
       "      <td>-0.953674</td>\n",
       "      <td>41.0</td>\n",
       "      <td>sub221</td>\n",
       "      <td>LLV</td>\n",
       "      <td>3</td>\n",
       "      <td>True</td>\n",
       "      <td>28482000000</td>\n",
       "      <td>44.949636</td>\n",
       "      <td>118.662947</td>\n",
       "      <td>73.713311</td>\n",
       "      <td>None</td>\n",
       "      <td>None</td>\n",
       "      <td>None</td>\n",
       "    </tr>\n",
       "    <tr>\n",
       "      <th>81321</th>\n",
       "      <td>sub221_LLV3.mat</td>\n",
       "      <td>2.650381</td>\n",
       "      <td>0.244209</td>\n",
       "      <td>-10.163385</td>\n",
       "      <td>0.274658</td>\n",
       "      <td>-10.032654</td>\n",
       "      <td>-0.915527</td>\n",
       "      <td>41.0</td>\n",
       "      <td>sub221</td>\n",
       "      <td>LLV</td>\n",
       "      <td>3</td>\n",
       "      <td>True</td>\n",
       "      <td>28487000000</td>\n",
       "      <td>44.949636</td>\n",
       "      <td>118.662947</td>\n",
       "      <td>73.713311</td>\n",
       "      <td>None</td>\n",
       "      <td>None</td>\n",
       "      <td>None</td>\n",
       "    </tr>\n",
       "    <tr>\n",
       "      <th>81322</th>\n",
       "      <td>sub221_LLV3.mat</td>\n",
       "      <td>2.649184</td>\n",
       "      <td>0.312443</td>\n",
       "      <td>-10.043675</td>\n",
       "      <td>1.194000</td>\n",
       "      <td>-9.452820</td>\n",
       "      <td>-1.304626</td>\n",
       "      <td>41.0</td>\n",
       "      <td>sub221</td>\n",
       "      <td>LLV</td>\n",
       "      <td>3</td>\n",
       "      <td>True</td>\n",
       "      <td>28492000000</td>\n",
       "      <td>44.949636</td>\n",
       "      <td>118.662947</td>\n",
       "      <td>73.713311</td>\n",
       "      <td>None</td>\n",
       "      <td>None</td>\n",
       "      <td>None</td>\n",
       "    </tr>\n",
       "  </tbody>\n",
       "</table>\n",
       "<p>195376 rows × 19 columns</p>\n",
       "</div>"
      ],
      "text/plain": [
       "                  file        ax        ay         az        gx         gy  \\\n",
       "0      sub112_HLV1.mat -1.122880 -0.571017  -9.860519  0.362396   3.185272   \n",
       "1      sub112_HLV1.mat -1.137246 -0.603339  -9.835379  0.457764   3.463745   \n",
       "2      sub112_HLV1.mat -1.096544 -0.555455  -9.897629  0.656128   3.807068   \n",
       "3      sub112_HLV1.mat -1.104924 -0.611718  -9.907205  0.244141   3.414154   \n",
       "4      sub112_HLV1.mat -1.096544 -0.575805  -9.947907  0.442505   3.047943   \n",
       "...                ...       ...       ...        ...       ...        ...   \n",
       "81318  sub221_LLV3.mat  2.831143  0.289698  -9.898826 -6.214142  -5.847931   \n",
       "81319  sub221_LLV3.mat  2.786850  0.284910 -10.290278 -3.707886  -8.377075   \n",
       "81320  sub221_LLV3.mat  2.762908  0.308852 -10.319008 -1.396179 -10.063171   \n",
       "81321  sub221_LLV3.mat  2.650381  0.244209 -10.163385  0.274658 -10.032654   \n",
       "81322  sub221_LLV3.mat  2.649184  0.312443 -10.043675  1.194000  -9.452820   \n",
       "\n",
       "             gz  heartbeat patient test_type test_num  tsCC           ts  \\\n",
       "0     -0.434875        3.0  sub112       HLV        1  True   2699000000   \n",
       "1     -0.640869        3.0  sub112       HLV        1  True   2704000000   \n",
       "2     -0.511169        3.0  sub112       HLV        1  True   2709000000   \n",
       "3     -0.507355        3.0  sub112       HLV        1  True   2714000000   \n",
       "4     -0.320435        3.0  sub112       HLV        1  True   2719000000   \n",
       "...         ...        ...     ...       ...      ...   ...          ...   \n",
       "81318 -0.667572       41.0  sub221       LLV        3  True  28472000000   \n",
       "81319 -0.907898       41.0  sub221       LLV        3  True  28477000000   \n",
       "81320 -0.953674       41.0  sub221       LLV        3  True  28482000000   \n",
       "81321 -0.915527       41.0  sub221       LLV        3  True  28487000000   \n",
       "81322 -1.304626       41.0  sub221       LLV        3  True  28492000000   \n",
       "\n",
       "              pp         sbp        dbp test_type_bp test_num_bp patient_bp  \n",
       "0      56.675948  118.611859  61.935911          HLV           1     sub112  \n",
       "1      56.675948  118.611859  61.935911          HLV           1     sub112  \n",
       "2      56.675948  118.611859  61.935911          HLV           1     sub112  \n",
       "3      56.675948  118.611859  61.935911          HLV           1     sub112  \n",
       "4      56.675948  118.611859  61.935911          HLV           1     sub112  \n",
       "...          ...         ...        ...          ...         ...        ...  \n",
       "81318  44.949636  118.662947  73.713311         None        None       None  \n",
       "81319  44.949636  118.662947  73.713311         None        None       None  \n",
       "81320  44.949636  118.662947  73.713311         None        None       None  \n",
       "81321  44.949636  118.662947  73.713311         None        None       None  \n",
       "81322  44.949636  118.662947  73.713311         None        None       None  \n",
       "\n",
       "[195376 rows x 19 columns]"
      ]
     },
     "execution_count": 22,
     "metadata": {},
     "output_type": "execute_result"
    }
   ],
   "source": [
    "df"
   ]
  },
  {
   "cell_type": "code",
   "execution_count": null,
   "metadata": {},
   "outputs": [],
   "source": []
  }
 ],
 "metadata": {
  "kernelspec": {
   "display_name": "Python 3 (ipykernel)",
   "language": "python",
   "name": "python3"
  },
  "language_info": {
   "codemirror_mode": {
    "name": "ipython",
    "version": 3
   },
   "file_extension": ".py",
   "mimetype": "text/x-python",
   "name": "python",
   "nbconvert_exporter": "python",
   "pygments_lexer": "ipython3",
   "version": "3.8.12"
  }
 },
 "nbformat": 4,
 "nbformat_minor": 4
}
