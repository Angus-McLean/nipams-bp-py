{
 "cells": [
  {
   "cell_type": "markdown",
   "metadata": {},
   "source": [
    "# 202202_InteractiveRun"
   ]
  },
  {
   "cell_type": "markdown",
   "metadata": {},
   "source": [
    "## Setup"
   ]
  },
  {
   "cell_type": "code",
   "execution_count": null,
   "metadata": {},
   "outputs": [],
   "source": [
    "### Setup Env for Local\n",
    "import os; from importlib import reload;\n",
    "%cd {os.environ['PROJECT_PATH']}\n",
    "from utils.constants import *"
   ]
  },
  {
   "cell_type": "code",
   "execution_count": null,
   "metadata": {},
   "outputs": [],
   "source": [
    "### Python Imports\n",
    "import json, sys\n",
    "from dash import dcc, html, dash_table\n",
    "import dash_bootstrap_components as dbc\n",
    "from dash.dependencies import Input, Output, State\n",
    "import plotly.express as px\n",
    "import jupyter_dash\n",
    "\n",
    "from dash_app import cache\n",
    "from dash_app.cache import redis_store\n",
    "from utils import constants\n",
    "from data import load_data, preprocess\n",
    "\n",
    "# def log(*msg): print(*msg, file=sys.stderr)\n",
    "# def log(*msg): print(\"nipams-log\",*msg)\n",
    "# LOGS = []\n",
    "# def log(*msg): \n",
    "#     LOGS.extend(msg)\n"
   ]
  },
  {
   "cell_type": "markdown",
   "metadata": {},
   "source": [
    "## Declare JupyterApp"
   ]
  },
  {
   "cell_type": "code",
   "execution_count": null,
   "metadata": {},
   "outputs": [],
   "source": [
    "### App Setup\n",
    "app = jupyter_dash.JupyterDash(__name__, external_stylesheets=[dbc.themes.BOOTSTRAP])\n",
    "\n",
    "LAYOUT = [\n",
    "    html.H1('Data Loading', style={\"textAlign\": \"center\"})\n",
    "]\n",
    "\n",
    "app.layout = dbc.Col(LAYOUT);\n",
    "# app.run_server(mode='inline',port=8501, host=\"127.0.0.1\", debug=True, **{'width': '200px', 'height': '100px'})\n",
    "app.run_server(mode='inline',port=8501, host=\"0.0.0.0\", debug=True, **{'width': '200px', 'height': '100px'})"
   ]
  },
  {
   "cell_type": "markdown",
   "metadata": {},
   "source": [
    "# Read Data"
   ]
  },
  {
   "cell_type": "code",
   "execution_count": null,
   "metadata": {},
   "outputs": [],
   "source": [
    "### Load Data\n",
    "from data import load_data, preprocess; reload(load_data)\n",
    "# dfAll = load_data.load_dataframe_from_pickle('data/interim')\n",
    "\n",
    "app = jupyter_dash.JupyterDash(__name__, external_stylesheets=[dbc.themes.BOOTSTRAP])\n",
    "\n",
    "TEST_TYPES = ['HLV','LLV','rec','res','bre']\n",
    "LOAD_LAYOUT = [dbc.Card(\n",
    "    dbc.CardBody([\n",
    "        html.H4(\"Load VCG Data\", className=\"card-title\"),\n",
    "        html.P(\n",
    "            \"Select which types of VCG readings to work with. (Read preprocessed VCG data from local file system.)\",\n",
    "            className=\"card-text\",\n",
    "        ),\n",
    "        dbc.InputGroup([\n",
    "            dcc.Dropdown(id='input_test_types', multi=True,\n",
    "                         options=[{'value':i,'label':i} for i in TEST_TYPES], value=TEST_TYPES[:2],\n",
    "                        style={'minWidth':'400px'}),\n",
    "            dbc.Button(id='button-load', children=['Load Data'], n_clicks=0, color=\"primary\")\n",
    "        ]),\n",
    "        dbc.Alert(\"Success! Your data loaded Successfully\",id=\"data-load-success\",dismissable=True,fade=True,duration=2000,is_open=False,),\n",
    "        # html.Pre('\\n'.join(['asdf','asdf2','qwer']), style={'overflow-y':'scroll', 'max-height':'100px', 'background':'grey'}),\n",
    "        dcc.Store('raw-data'),\n",
    "    ])\n",
    ")]\n",
    "\n",
    "@app.callback(\n",
    "    [Output('raw-data','data'), Output('data-load-success','is_open')],\n",
    "    State('input_test_types','value'), Input('button-load','n_clicks') \n",
    ")\n",
    "def button_clicked(types, n):\n",
    "    print('input-file-pattern, button-load', types, n)\n",
    "    dfAll = load_data.load_dataframe_from_pickle('data/interim', '|'.join(types or []))\n",
    "    key = cache.set(dfAll)\n",
    "    print('set cache', key)\n",
    "    return key, True\n",
    "\n",
    "\n",
    "app.layout = dbc.Col(LOAD_LAYOUT);\n",
    "app.run_server(mode='inline',port=8501, host=\"0.0.0.0\", debug=True, **{'width': '600px', 'height': '400px'})"
   ]
  },
  {
   "cell_type": "markdown",
   "metadata": {},
   "source": [
    "# Dataset Overview"
   ]
  },
  {
   "cell_type": "code",
   "execution_count": null,
   "metadata": {},
   "outputs": [],
   "source": []
  },
  {
   "cell_type": "code",
   "execution_count": null,
   "metadata": {},
   "outputs": [],
   "source": []
  },
  {
   "cell_type": "code",
   "execution_count": null,
   "metadata": {},
   "outputs": [],
   "source": [
    "from dash_app.components import datatable_comp; reload(datatable_comp)\n",
    "app = jupyter_dash.JupyterDash(__name__, external_stylesheets=[dbc.themes.BOOTSTRAP])\n",
    "app.layout = dbc.Card([\n",
    "        dbc.CardBody([\n",
    "            html.H4(\"Load VCG Data\", className=\"card-title\"),\n",
    "            html.P(\n",
    "                \"Select which types of VCG readings to work with. (Read preprocessed VCG data from local file system.)\",\n",
    "                className=\"card-text\",)\n",
    "        ]),\n",
    "        html.Div(id='datatable-container'),\n",
    "        html.Div(id='graphs')\n",
    "])\n",
    "\n",
    "app.run_server(mode='inline',port=8501, host=\"0.0.0.0\", debug=True, **{'width': '800px', 'height': '600px'})"
   ]
  },
  {
   "cell_type": "code",
   "execution_count": null,
   "metadata": {},
   "outputs": [],
   "source": []
  },
  {
   "cell_type": "code",
   "execution_count": null,
   "metadata": {},
   "outputs": [],
   "source": []
  },
  {
   "cell_type": "code",
   "execution_count": null,
   "metadata": {},
   "outputs": [],
   "source": []
  },
  {
   "cell_type": "code",
   "execution_count": null,
   "metadata": {},
   "outputs": [],
   "source": [
    "### App Setup\n",
    "from dash_app.components import datatable_comp; reload(datatable_comp)\n",
    "app = jupyter_dash.JupyterDash(__name__, external_stylesheets=[dbc.themes.BOOTSTRAP])\n",
    "\n",
    "app.layout = html.Div([\n",
    "    dcc.Dropdown(\n",
    "        ['iris', 'gapminder'],\n",
    "        'iris',\n",
    "        id='dataset-selector'\n",
    "    ),\n",
    "    html.Div(id='datatable-container'),\n",
    "    html.Div(id='graphs')\n",
    "])\n",
    "\n",
    "# Display a DataTableIO based off of the dataset\n",
    "@callback(\n",
    "    Output('datatable-container', 'children'),\n",
    "    Input('dataset-selector', 'value'))\n",
    "def display_datatable(value):\n",
    "    df = getattr(px.data, value)()\n",
    "    return datatable_comp.DataTableAIO(df, aio_id='my-dataset')\n",
    "\n",
    "# Graph the filtered data\n",
    "@callback(\n",
    "    Output('graphs', 'children'),\n",
    "    Input(datatable_comp.DataTableAIO.ids.datatable('my-dataset'), 'filter_query'),\n",
    "    State(datatable_comp.DataTableAIO.ids.store('my-dataset'), 'data')\n",
    ")\n",
    "def update_graph(filter_query, store):\n",
    "    # Fetch the data that `DataTableAIO` stored in Redis\n",
    "    df = redis_store.load(store['df'])\n",
    "    # Filter the data using the method that `DataTableAIO` exposes\n",
    "    # and uses internally\n",
    "    df = datatable_comp.DataTableAIO.filter_df(df, filter_query)\n",
    "\n",
    "    # Graph each column of the data\n",
    "    divs = html.Div([\n",
    "        html.Div([\n",
    "            html.B(c),\n",
    "            dcc.Graph(figure=px.histogram(x=df[c]))\n",
    "        ]) for c in df.columns\n",
    "    ])\n",
    "    return divs\n",
    "\n",
    "\n",
    "app.run_server(mode='inline',port=8501, host=\"0.0.0.0\", debug=True, **{'width': '800px', 'height': '600px'})"
   ]
  },
  {
   "cell_type": "code",
   "execution_count": null,
   "metadata": {},
   "outputs": [],
   "source": [
    "## Dataset Overview\n",
    "\n",
    "def summarize_data_bp(df):\n",
    "    df = pd.concat([\n",
    "        df.describe(),\n",
    "        df.agg(['nunique'])\n",
    "    ], axis=0)\n",
    "    return df.round(3).reset_index()\n",
    "\n",
    "\n",
    "\n",
    "# summarize_data_bp(dfAll)"
   ]
  },
  {
   "cell_type": "code",
   "execution_count": null,
   "metadata": {},
   "outputs": [],
   "source": [
    "### Dataset Overview\n",
    "# app = jupyter_dash.JupyterDash(__name__, external_stylesheets=[dbc.themes.BOOTSTRAP])\n",
    "\n",
    "tab1_content = dbc.CardBody([\n",
    "        html.H6(\"Global Totals\", className=\"card-title\"),\n",
    "        html.P(\"Overview of IMU and BP columns.\",className=\"card-text\"),\n",
    "        html.Div(id='viz_overview',children=[dbc.Spinner(color=\"primary\")])\n",
    "    ])\n",
    "tab2_content = dbc.CardBody([\n",
    "        html.H6(\"Patient Totals\", className=\"card-title\"),\n",
    "        html.P(\"Overview of IMU and BP columns.\",className=\"card-text\"),\n",
    "        html.Div(id='viz_overview_patients',children=[dbc.Spinner(color=\"primary\")])\n",
    "    ])\n",
    "\n",
    "OVERVIEW_LAYOUT = [dbc.Card(\n",
    "    dbc.CardBody([\n",
    "        html.H4(\"Overview VCG Data\", className=\"card-title\"),\n",
    "        html.P(\"Overview of IMU and BP columns.\",className=\"card-text\",),\n",
    "        dbc.Tabs([\n",
    "                dbc.Tab(tab1_content, label=\"Overview\"),\n",
    "                dbc.Tab(tab2_content, label=\"Patient Totals\"),\n",
    "            ],id=\"tabs\"),\n",
    "        # dbc.Alert(\"Success! Your data loaded Successfully\",id=\"overview-success\",dismissable=True,fade=True,duration=2000,is_open=False,),\n",
    "        # html.Pre('\\n'.join(['asdf','asdf2','qwer']), style={'overflow-y':'scroll', 'max-height':'100px', 'background':'grey'}),\n",
    "    ])),\n",
    "]\n",
    "\n",
    "@app.callback(Output('viz_overview','children'), Input('raw-data','data'))\n",
    "def display_overview(df_key):\n",
    "    print('display_overview', df_key)\n",
    "    dfAll = cache.get(df_key)\n",
    "    df = summarize_data_bp(dfAll)\n",
    "    return dash_table.DataTable(\n",
    "        df.to_dict('records'),\n",
    "        [{\"name\": i, \"id\": i} for i in df.columns]\n",
    "    )\n",
    "\n",
    "@app.callback(Output('viz_overview_patients','children'), Input('raw-data','data'))\n",
    "def viz_overview_patients(df_key):\n",
    "    print('viz_overview_patients', df_key)\n",
    "    dfAll = cache.get(df_key)\n",
    "    df = dfAll.groupby('patient').agg(['count','nunique','min','max','mean']).round(2).reset_index()\n",
    "    return dash_table.DataTable(\n",
    "        df.to_dict('records'),\n",
    "        [{\"name\": i, \"id\": i} for i in df.columns]\n",
    "    )\n",
    "\n",
    "# FORCE_CACHE_INPUT = [dcc.Store('raw-data'),dcc.Input(id='force-cache-input', value='', placeholder='Enter CacheKey..')]\n",
    "# @app.callback(Output('raw-data','data'), Input('force-cache-input', 'value'))\n",
    "# def update_cache(key):return cache.set(cache.get(key))\n",
    "\n",
    "app.layout = dbc.Col(\n",
    "    # FORCE_CACHE_INPUT + \n",
    "    LOAD_LAYOUT +\n",
    "    OVERVIEW_LAYOUT);\n",
    "app.run_server(mode='inline',port=8501, host=\"0.0.0.0\", debug=True, verbose=True, **{'width': '800px', 'height': '400px'})"
   ]
  },
  {
   "cell_type": "markdown",
   "metadata": {},
   "source": [
    "##### "
   ]
  },
  {
   "cell_type": "code",
   "execution_count": null,
   "metadata": {},
   "outputs": [],
   "source": []
  },
  {
   "cell_type": "code",
   "execution_count": null,
   "metadata": {},
   "outputs": [],
   "source": [
    "STOP_HERE"
   ]
  },
  {
   "cell_type": "code",
   "execution_count": null,
   "metadata": {},
   "outputs": [],
   "source": [
    "app = jupyter_dash.JupyterDash(__name__, external_stylesheets=[dbc.themes.BOOTSTRAP])\n",
    "\n",
    "FORCE_CACHE_INPUT = [dcc.Store('raw-data'),dcc.Input(id='force-cache-input', value='', placeholder='Enter CacheKey..')]\n",
    "@app.callback(Output('raw-data','data'), Input('force-cache-input', 'value'))\n",
    "def update_cache(key):return cache.set(cache.get(key))\n",
    "\n",
    "app.layout = dbc.Col(FORCE_CACHE_INPUT);\n",
    "app.run_server(mode='inline',port=8501, host=\"0.0.0.0\", debug=True, **{'width': '600px', 'height': '400px'})"
   ]
  },
  {
   "cell_type": "code",
   "execution_count": null,
   "metadata": {},
   "outputs": [],
   "source": [
    "## Patient Overview\n",
    "dfAll.groupby('patient').agg(['count','nunique','min','max','mean'])\n"
   ]
  },
  {
   "cell_type": "code",
   "execution_count": null,
   "metadata": {},
   "outputs": [],
   "source": [
    "## Interactive - Load & Summarize\n",
    "\n"
   ]
  },
  {
   "cell_type": "markdown",
   "metadata": {},
   "source": [
    "# Review Dataset"
   ]
  },
  {
   "cell_type": "code",
   "execution_count": null,
   "metadata": {},
   "outputs": [],
   "source": []
  },
  {
   "cell_type": "code",
   "execution_count": null,
   "metadata": {},
   "outputs": [],
   "source": []
  },
  {
   "cell_type": "markdown",
   "metadata": {},
   "source": [
    "# Full Interactive App"
   ]
  },
  {
   "cell_type": "code",
   "execution_count": null,
   "metadata": {},
   "outputs": [],
   "source": [
    "app.layout = html.Div(APP_LAYOUT)\n",
    "app.run_server(mode='inline',port=8501, host=\"0.0.0.0\", debug=True, **{'width': '600px', 'height': '400px'})"
   ]
  },
  {
   "cell_type": "code",
   "execution_count": null,
   "metadata": {},
   "outputs": [],
   "source": []
  },
  {
   "cell_type": "code",
   "execution_count": null,
   "metadata": {},
   "outputs": [],
   "source": []
  },
  {
   "cell_type": "code",
   "execution_count": null,
   "metadata": {},
   "outputs": [],
   "source": []
  },
  {
   "cell_type": "code",
   "execution_count": null,
   "metadata": {},
   "outputs": [],
   "source": []
  },
  {
   "cell_type": "code",
   "execution_count": null,
   "metadata": {},
   "outputs": [],
   "source": []
  },
  {
   "cell_type": "code",
   "execution_count": null,
   "metadata": {},
   "outputs": [],
   "source": []
  },
  {
   "cell_type": "code",
   "execution_count": null,
   "metadata": {},
   "outputs": [],
   "source": [
    "STOP_HERE"
   ]
  },
  {
   "cell_type": "code",
   "execution_count": null,
   "metadata": {},
   "outputs": [],
   "source": [
    "### Imports\n",
    "import json, sys\n",
    "from dash import dcc, html, dash_table\n",
    "from dash.dependencies import Input, Output, State\n",
    "\n",
    "from dash_app import cache\n",
    "\n",
    "from utils import constants\n",
    "from data import load_data, preprocess\n",
    "\n",
    "# def log(*msg): print(*msg,file=sys.stderr)\n",
    "def log(*msg): print(\"nipams-log\",*msg)\n",
    "\n",
    "### App Setup\n",
    "app = jupyter_dash.JupyterDash(__name__, \n",
    "                               # assets_url_path=os.getcwd() + 'src/dash_app/assets/'\n",
    "                               external_stylesheets=[dbc.themes.BOOTSTRAP]\n",
    "                              )\n",
    "\n",
    "app.layout = html.Div([\n",
    "    html.H1('Dash & DataCaching', style={\"textAlign\": \"center\"}),\n",
    "    html.H3('Load Data', style={\"textAlign\": \"center\"}),\n",
    "    dcc.Input(id='input-file-pattern', value='LLV'),\n",
    "    html.Button(id='button-load', children=['Load Data'], n_clicks=0),\n",
    "    dcc.Store('raw-data'),\n",
    "    \n",
    "    html.H3('Visualize', style={\"textAlign\": \"center\"}),\n",
    "    dcc.Dropdown(id='file_ids', multi=True,\n",
    "                 options=[{'value':i,'label':i} for i in dfAll.file.unique()]),\n",
    "    html.Div(id='viz'),\n",
    "    dcc.Store('split-data'),\n",
    "    \n",
    "    html.H3('Modeling', style={\"textAlign\": \"center\"}),\n",
    "    html.Button(id='button-train', children=['Train Model'], n_clicks=0),\n",
    "    dcc.Store('model-binary'),\n",
    "    \n",
    "    html.Div(id='logs-div'),\n",
    "])\n",
    "\n",
    "\n",
    "### Load Data\n",
    "@app.callback(\n",
    "    Output('raw-data','data'),\n",
    "    Input('input-file-pattern','value'), Input('button-load','n_clicks') \n",
    ")\n",
    "def button_clicked(pattern, n):\n",
    "    log('input-file-pattern, button-load', pattern, n)\n",
    "    # if cache.has(pattern): return cache.set(cache.get(pattern))\n",
    "    dfBpAll, dfImuAll = load_data.load_dataframe_from_mat('data/raw_mat/', pattern)\n",
    "    dfAll = preprocess.merge_imu_vcg_with_heartbeats(dfBpAll, dfImuAll)\n",
    "    cache.set(dfAll, key=pattern)\n",
    "    return cache.set(dfAll)\n",
    "\n",
    "\n",
    "### Viz Functions\n",
    "@app.callback(\n",
    "    Output('viz','children'),\n",
    "    Input('raw-data','data'), Input('file_ids','value')\n",
    ")\n",
    "def trigger_viz(data, file_ids):\n",
    "    log('trigger_viz', data, file_ids)\n",
    "\n",
    "    dfAll = cache.get(data)\n",
    "    # dfAll = dfAll[dfAll.file.isin(file_ids)]\n",
    "    dfImu = dfAll[constants.INDICIES + constants.IMU_COLS]\n",
    "    dfBp = dfAll[constants.INDICIES + constants.BP_COLS + ['patient','test_type']]\n",
    "\n",
    "    df = summarize_data_bp(dfBp).reset_index()\n",
    "    return html.Div([\n",
    "        html.P(children=[\"BP Shape\", str(dfBpAll.shape), \"IMU Shape\", str(dfImuAll.shape),]),\n",
    "        dash_table.DataTable(\n",
    "            df.to_dict('records'),\n",
    "            [{\"name\": i, \"id\": i} for i in df.columns]\n",
    "        ),\n",
    "        # px.line(dfBpAll, y='sbp', color='file')\n",
    "    ])\n",
    "    \n",
    "    # return dcc.Graph(\n",
    "    #     figure=px.scatter_3d(dff2, 'sepal_length','petal_length','sepal_width', color='species')\n",
    "    # )\n",
    "\n",
    "\n",
    "\n",
    "### Modeling & Save\n",
    "@app.callback(\n",
    "    Output('model-binary','data'),\n",
    "    Input('button-train','n_clicks'), State('raw-data','data')\n",
    ")\n",
    "def trigger_train_model(n, data):\n",
    "    log('trigger_train_model',n, data)\n",
    "    if (n < 1) or data == None : \n",
    "        log('trigger_train_model skipping..')\n",
    "        return None\n",
    "    dff = cache.get(data)\n",
    "    \n",
    "    model = lambda x : np.rand.rand()\n",
    "    return cache.set(model)\n",
    "\n",
    "\n",
    "### Run App\n",
    "if __name__ == '__main__':\n",
    "    app.run_server(mode='inline',port=8501, host=\"0.0.0.0\", debug=True,\n",
    "        #**{'width': '1200px', 'height': '800px'}\n",
    "    )"
   ]
  },
  {
   "cell_type": "code",
   "execution_count": null,
   "metadata": {},
   "outputs": [],
   "source": [
    "dfAll = cache.CACHE['LLV']\n",
    "\n",
    "dfImu = dfAll[constants.INDICIES + constants.IMU_COLS]\n",
    "dfBp = dfAll[constants.INDICIES + constants.BP_COLS + ['patient','test_type']]"
   ]
  }
 ],
 "metadata": {
  "kernelspec": {
   "display_name": "Python 3 (ipykernel)",
   "language": "python",
   "name": "python3"
  },
  "language_info": {
   "codemirror_mode": {
    "name": "ipython",
    "version": 3
   },
   "file_extension": ".py",
   "mimetype": "text/x-python",
   "name": "python",
   "nbconvert_exporter": "python",
   "pygments_lexer": "ipython3",
   "version": "3.8.12"
  }
 },
 "nbformat": 4,
 "nbformat_minor": 4
}
