{
 "cells": [
  {
   "cell_type": "code",
   "execution_count": 3,
   "id": "5690f11c-2ae8-44a3-900c-27c74722ad50",
   "metadata": {},
   "outputs": [
    {
     "ename": "ModuleNotFoundError",
     "evalue": "No module named 'tsai'",
     "output_type": "error",
     "traceback": [
      "\u001b[0;31m---------------------------------------------------------------------------\u001b[0m",
      "\u001b[0;31mModuleNotFoundError\u001b[0m                       Traceback (most recent call last)",
      "Input \u001b[0;32mIn [3]\u001b[0m, in \u001b[0;36m<module>\u001b[0;34m\u001b[0m\n\u001b[0;32m----> 1\u001b[0m \u001b[38;5;28;01mfrom\u001b[39;00m \u001b[38;5;21;01mtsai\u001b[39;00m\u001b[38;5;21;01m.\u001b[39;00m\u001b[38;5;21;01mall\u001b[39;00m \u001b[38;5;28;01mimport\u001b[39;00m \u001b[38;5;241m*\u001b[39m\n",
      "\u001b[0;31mModuleNotFoundError\u001b[0m: No module named 'tsai'"
     ]
    }
   ],
   "source": [
    "from tsai.all import *"
   ]
  },
  {
   "cell_type": "code",
   "execution_count": 2,
   "id": "9e66fb26-ae0b-4ca0-b16d-474d5d32f8a5",
   "metadata": {},
   "outputs": [
    {
     "name": "stdout",
     "output_type": "stream",
     "text": [
      "Defaulting to user installation because normal site-packages is not writeable\n",
      "Collecting tsai\n",
      "  Using cached tsai-0.2.25-py3-none-any.whl (213 kB)\n",
      "Requirement already satisfied: nbformat>=5.1.3 in /usr/local/lib/python3.8/site-packages (from tsai) (5.1.3)\n",
      "Collecting numba<0.55,>=0.53.1\n",
      "  Downloading numba-0.54.1-cp38-cp38-manylinux2014_x86_64.manylinux_2_17_x86_64.whl (3.3 MB)\n",
      "\u001b[K     |████████████████████████████████| 3.3 MB 6.7 MB/s eta 0:00:01\n",
      "\u001b[?25hRequirement already satisfied: packaging in /usr/local/lib/python3.8/site-packages (from tsai) (21.3)\n",
      "Collecting pyts>=0.12.0\n",
      "  Using cached pyts-0.12.0-py3-none-any.whl (2.5 MB)\n",
      "Collecting PyWavelets>=1.1.1\n",
      "  Using cached PyWavelets-1.2.0-cp38-cp38-manylinux_2_5_x86_64.manylinux1_x86_64.whl (6.3 MB)\n",
      "Collecting tsfresh>=0.18.0\n",
      "  Downloading tsfresh-0.19.0-py2.py3-none-any.whl (97 kB)\n",
      "\u001b[K     |████████████████████████████████| 97 kB 5.3 MB/s  eta 0:00:01\n",
      "\u001b[?25hRequirement already satisfied: pip in /usr/local/lib/python3.8/site-packages (from tsai) (21.2.4)\n",
      "Collecting fastai>=2.5.3\n",
      "  Downloading fastai-2.5.3-py3-none-any.whl (189 kB)\n",
      "\u001b[K     |████████████████████████████████| 189 kB 12.3 MB/s eta 0:00:01\n",
      "\u001b[?25hCollecting imbalanced-learn>=0.8.0\n",
      "  Downloading imbalanced_learn-0.9.0-py3-none-any.whl (199 kB)\n",
      "\u001b[K     |████████████████████████████████| 199 kB 10.5 MB/s eta 0:00:01\n",
      "\u001b[?25hCollecting sktime<0.10.0,>=0.9.0\n",
      "  Using cached sktime-0.9.0-cp38-cp38-manylinux_2_17_x86_64.manylinux2014_x86_64.whl (6.3 MB)\n",
      "Collecting torch<1.11,>=1.7.0\n",
      "  Downloading torch-1.10.2-cp38-cp38-manylinux1_x86_64.whl (881.9 MB)\n",
      "\u001b[K     |████████████████████████████    | 773.4 MB 27 kB/s eta 1:04:43Killed██▉                       | 242.5 MB 20.5 MB/s eta 0:00:32     |█████████▌                      | 262.4 MB 24.8 MB/s eta 0:00:26     |█████████▋                      | 265.5 MB 1.4 MB/s eta 0:07:13               | 266.6 MB 1.4 MB/s eta 0:07:12     |█████████▊                      | 267.3 MB 1.4 MB/s eta 0:07:11     |████████████                    | 329.1 MB 25.8 MB/s eta 0:00:22     |████████████▊                   | 351.4 MB 11.7 MB/s eta 0:00:46     |██████████████████▋             | 511.6 MB 27.9 MB/s eta 0:00:14     |██████████████████████▋         | 622.7 MB 26.8 MB/s eta 0:00:10     |███████████████████████▊        | 653.9 MB 14.0 MB/s eta 0:00:17     |██████████████████████████▎     | 724.9 MB 16.4 MB/s eta 0:00:10     |██████████████████████████▌     | 730.1 MB 16.4 MB/s eta 0:00:10��█████████    | 768.8 MB 249 kB/s eta 0:07:34�█████████    | 769.1 MB 249 kB/s eta 0:07:32[K     |████████████████████████████    | 769.3 MB 249 kB/s eta 0:07:32K     |████████████████████████████    | 769.6 MB 249 kB/s eta 0:07:30     |████████████████████████████    | 769.9 MB 249 kB/s eta 0:07:29�████████    | 770.1 MB 249 kB/s eta 0:07:28��████    | 770.4 MB 47 kB/s eta 0:39:27��████████████████████    | 770.5 MB 47 kB/s eta 0:39:23��████    | 771.1 MB 98 kB/s eta 0:18:45��████████████████████    | 771.2 MB 98 kB/s eta 0:18:43��████████████████████    | 772.2 MB 98 kB/s eta 0:18:34kB/s eta 0:18:32██████████    | 772.5 MB 98 kB/s eta 0:18:31██████████████████████████    | 772.6 MB 98 kB/s eta 0:18:29  | 772.8 MB 98 kB/s eta 0:18:27��██████████████████    | 773.0 MB 33.0 MB/s eta 0:00:04██    | 773.1 MB 33.0 MB/s eta 0:00:04\n"
     ]
    }
   ],
   "source": [
    "!pip install tsai -U"
   ]
  },
  {
   "cell_type": "code",
   "execution_count": null,
   "id": "93772d9c-980f-46d8-9b28-a1b42cfede58",
   "metadata": {},
   "outputs": [],
   "source": []
  }
 ],
 "metadata": {
  "kernelspec": {
   "display_name": "Python 3 (ipykernel)",
   "language": "python",
   "name": "python3"
  },
  "language_info": {
   "codemirror_mode": {
    "name": "ipython",
    "version": 3
   },
   "file_extension": ".py",
   "mimetype": "text/x-python",
   "name": "python",
   "nbconvert_exporter": "python",
   "pygments_lexer": "ipython3",
   "version": "3.8.12"
  }
 },
 "nbformat": 4,
 "nbformat_minor": 5
}
