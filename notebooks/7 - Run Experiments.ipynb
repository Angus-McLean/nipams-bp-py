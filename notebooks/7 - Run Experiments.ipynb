{
 "cells": [
  {
   "cell_type": "markdown",
   "metadata": {},
   "source": [
    "# Nipams Perform Experiments & Collect Results"
   ]
  },
  {
   "cell_type": "markdown",
   "metadata": {},
   "source": [
    "# 0. Initialize"
   ]
  },
  {
   "cell_type": "code",
   "execution_count": 1,
   "metadata": {},
   "outputs": [
    {
     "name": "stdout",
     "output_type": "stream",
     "text": [
      "Not running on CoLab\n",
      "/app\n",
      "/app\n"
     ]
    }
   ],
   "source": [
    "#@title Connect to gDrive & Load Files\n",
    "ENV_COLAB = 'google.colab' in str(get_ipython())\n",
    "if ENV_COLAB:\n",
    "    print('Running on CoLab')\n",
    "    PROJECT_DRIVE_FOLDER= \"/content/drive/MyDrive/NiPAMS/BP development/analysis/nipams-bp-py-main/\" #@param {\"type\":\"string\"}\n",
    "    ## Load this for local development version of library.. Loads from GoogleDrive (changes persist)\n",
    "    from google.colab import drive, widgets, data_table; \n",
    "    drive.mount('/content/drive');\n",
    "    %cd \"$PROJECT_DRIVE_FOLDER\"\n",
    "  \n",
    "    !pip install -qr requirements.txt\n",
    "    !pip install -q envyaml\n",
    "    import os, sys; \n",
    "    from envyaml import EnvYAML; env = EnvYAML('.env/default.yaml'); \n",
    "    for k,v in env.export().items(): os.environ[k]=str(v)\n",
    "    sys.path.append(os.path.abspath(\"./src\"))\n",
    "\n",
    "else:\n",
    "    print('Not running on CoLab')\n",
    "    %cd /app\n",
    "!pwd\n",
    "\n",
    "from importlib import reload;\n",
    "from utils.constants import *"
   ]
  },
  {
   "cell_type": "code",
   "execution_count": null,
   "metadata": {},
   "outputs": [],
   "source": []
  }
 ],
 "metadata": {
  "kernelspec": {
   "display_name": "Python 3 (ipykernel)",
   "language": "python",
   "name": "python3"
  },
  "language_info": {
   "codemirror_mode": {
    "name": "ipython",
    "version": 3
   },
   "file_extension": ".py",
   "mimetype": "text/x-python",
   "name": "python",
   "nbconvert_exporter": "python",
   "pygments_lexer": "ipython3",
   "version": "3.8.13"
  },
  "orig_nbformat": 4
 },
 "nbformat": 4,
 "nbformat_minor": 2
}
