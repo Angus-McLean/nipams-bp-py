{
 "cells": [
  {
   "cell_type": "markdown",
   "metadata": {},
   "source": [
    "# Nipams SimplestRun"
   ]
  },
  {
   "cell_type": "markdown",
   "metadata": {
    "jp-MarkdownHeadingCollapsed": true,
    "tags": []
   },
   "source": [
    "# 0. Initialize"
   ]
  },
  {
   "cell_type": "code",
   "execution_count": 1,
   "metadata": {},
   "outputs": [
    {
     "name": "stdout",
     "output_type": "stream",
     "text": [
      "Not running on CoLab\n",
      "/app\n",
      "/app\n"
     ]
    }
   ],
   "source": [
    "#@title Connect to gDrive & Load Files\n",
    "ENV_COLAB = 'google.colab' in str(get_ipython())\n",
    "if ENV_COLAB:\n",
    "    print('Running on CoLab')\n",
    "    PROJECT_DRIVE_FOLDER= \"/content/drive/MyDrive/NiPAMS/BP development/analysis/nipams-bp-py-main/\" #@param {\"type\":\"string\"}\n",
    "    ## Load this for local development version of library.. Loads from GoogleDrive (changes persist)\n",
    "    from google.colab import drive, widgets, data_table; \n",
    "    drive.mount('/content/drive');\n",
    "    %cd \"$PROJECT_DRIVE_FOLDER\"\n",
    "  \n",
    "    !pip install -qr requirements.txt\n",
    "    !pip install -q envyaml\n",
    "    import os, sys; \n",
    "    from envyaml import EnvYAML; env = EnvYAML('.env/default.yaml'); \n",
    "    for k,v in env.export().items(): os.environ[k]=str(v)\n",
    "    sys.path.append(os.path.abspath(\"./src\"))\n",
    "\n",
    "else:\n",
    "    print('Not running on CoLab')\n",
    "    %cd /app\n",
    "!pwd\n",
    "\n",
    "from importlib import reload;\n",
    "from utils.constants import *"
   ]
  },
  {
   "cell_type": "code",
   "execution_count": 2,
   "metadata": {},
   "outputs": [],
   "source": [
    "import warnings\n",
    "warnings.filterwarnings('ignore')"
   ]
  },
  {
   "cell_type": "markdown",
   "metadata": {
    "tags": []
   },
   "source": [
    "# 1. Connect & Load Data"
   ]
  },
  {
   "cell_type": "code",
   "execution_count": 3,
   "metadata": {},
   "outputs": [],
   "source": [
    "from data import load_data; reload(load_data)\n",
    "\n",
    "dfBpAll, dfImuAll = load_data.load_dataframe_from_mat(folder='data/raw_mat/', pattern='LLV')"
   ]
  },
  {
   "cell_type": "markdown",
   "metadata": {},
   "source": [
    "# 2. Process Signal Data in Heartbeats"
   ]
  },
  {
   "cell_type": "code",
   "execution_count": 4,
   "metadata": {},
   "outputs": [],
   "source": [
    "from data import preprocess; reload(preprocess)\n",
    "\n",
    "dfAll = preprocess.merge_imu_vcg_with_heartbeats(dfBpAll, dfImuAll)"
   ]
  },
  {
   "cell_type": "markdown",
   "metadata": {},
   "source": [
    "# 3. Define Data Splits (Patients, Heartbeats, etc)"
   ]
  },
  {
   "cell_type": "code",
   "execution_count": 5,
   "metadata": {},
   "outputs": [],
   "source": [
    "from models import experiments; reload(experiments);\n",
    "\n",
    "dfImu = dfAll[INDICIES + IMU_COLS]\n",
    "dfBp = dfAll[INDICIES + BP_COLS]\n",
    "\n",
    "sampleRandTestInds = experiments.split_by_random(dfImu, dfBp)\n",
    "sampleExpDfs = experiments.get_experiment(sampleRandTestInds[0], dfImu, dfBp)"
   ]
  },
  {
   "cell_type": "markdown",
   "metadata": {},
   "source": [
    "# 4. Modeling Pipelines (Baselines & Analytical)"
   ]
  },
  {
   "cell_type": "markdown",
   "metadata": {},
   "source": [
    "## Initialize Pipelines"
   ]
  },
  {
   "cell_type": "code",
   "execution_count": 6,
   "metadata": {},
   "outputs": [],
   "source": [
    "import sklearn\n",
    "from sklearn.pipeline import Pipeline\n",
    "\n",
    "from features import tsfel_vectorizer, simple as features_simple\n",
    "\n",
    "tsExplodeTransform = preprocess.FunctionTransformer(partial(preprocess.explode_3d, data_cols=['az','ax']))\n",
    "tsVectorizeSimpleTransform = preprocess.FunctionTransformer(partial(features_simple.vectorize_mean_std))\n",
    "tsVectorLookupTransform = preprocess.FunctionTransformer(partial(features_simple.vectorize_mean_std))\n",
    "\n",
    "from models import baselines, analytical_mvd\n",
    "\n",
    "pipe_random = Pipeline([('transform', tsExplodeTransform), ('model', baselines.RandomRegressor())])\n",
    "pipe_mean = Pipeline([('transform', tsExplodeTransform), ('model', baselines.DummyRegressor())])\n",
    "pipe_vect_simple = Pipeline([('transform', tsVectorizeSimpleTransform), ('model', sklearn.ensemble.RandomForestRegressor())])\n",
    "# pipe_mvd = Pipeline([('scaler', tsExplodeTransform), ('rand', analytical_mvd.AnalyticalBPEstimator())])     ##TODO : Has a bug.. I think interpolation is broken?"
   ]
  },
  {
   "cell_type": "code",
   "execution_count": 7,
   "metadata": {},
   "outputs": [],
   "source": [
    "from features import tsfel_vectorizer; reload(tsfel_vectorizer)\n",
    "from sklearn import feature_selection\n",
    "\n",
    "tsVectorLookupTransform = preprocess.FunctionTransformer(partial(features_simple.vectorize_mean_std))\n",
    "# dfVects = pd.read_feather('data/vectors/dfImuVects-LLV.feather')\n",
    "# tsVectorLookupTransform = sklearn.preprocessing.FunctionTransformer(tsfel_vectorizer.VectorLookup(dfVects))\n",
    "\n",
    "pipe_vect_tsfel = Pipeline([\n",
    "    ('transform', tsVectorLookupTransform), \n",
    "    ('feature_selection_simple', feature_selection.VarianceThreshold()),\n",
    "    ('feature_selection', feature_selection.SelectFromModel(sklearn.linear_model.LinearRegression())),\n",
    "    ('model', sklearn.ensemble.GradientBoostingRegressor())])"
   ]
  },
  {
   "cell_type": "markdown",
   "metadata": {},
   "source": [
    "## Train Model Pipelines"
   ]
  },
  {
   "cell_type": "code",
   "execution_count": 8,
   "metadata": {},
   "outputs": [
    {
     "name": "stdout",
     "output_type": "stream",
     "text": [
      "Achieved Score (MAE) :  3.0303108463020427 Pipeline(steps=[('transform',\n",
      "                 FunctionTransformer(func=functools.partial(<function vectorize_mean_std at 0x7fe3b06ea310>))),\n",
      "                ('feature_selection_simple', VarianceThreshold()),\n",
      "                ('feature_selection',\n",
      "                 SelectFromModel(estimator=LinearRegression())),\n",
      "                ('model', GradientBoostingRegressor())])\n",
      "Achieved Score (MAE) :  9.489110597126768 Pipeline(steps=[('transform',\n",
      "                 FunctionTransformer(func=functools.partial(<function explode_3d at 0x7fe3b9242790>, data_cols=['az', 'ax']))),\n",
      "                ('model',\n",
      "                 <models.baselines.RandomRegressor object at 0x7fe3b05ca280>)])\n",
      "Achieved Score (MAE) :  6.64039434866914 Pipeline(steps=[('transform',\n",
      "                 FunctionTransformer(func=functools.partial(<function explode_3d at 0x7fe3b9242790>, data_cols=['az', 'ax']))),\n",
      "                ('model', DummyRegressor())])\n",
      "Achieved Score (MAE) :  2.0509797558135707 Pipeline(steps=[('transform',\n",
      "                 FunctionTransformer(func=functools.partial(<function vectorize_mean_std at 0x7fe3b06ea310>))),\n",
      "                ('model', RandomForestRegressor())])\n"
     ]
    }
   ],
   "source": [
    "from sklearn.metrics import mean_absolute_error\n",
    "\n",
    "for pipe in [pipe_vect_tsfel, pipe_random, pipe_mean, pipe_vect_simple]:\n",
    "    pipe.fit(sampleExpDfs['train_x'], sampleExpDfs['train_y'].groupby(INDICIES)['sbp'].mean())\n",
    "    score = mean_absolute_error(\n",
    "        pipe.predict(sampleExpDfs['test_x']),\n",
    "        sampleExpDfs['test_y'].groupby(INDICIES)['sbp'].mean()\n",
    "    )\n",
    "    print('Achieved Score (MAE) : ', score, pipe)"
   ]
  },
  {
   "cell_type": "markdown",
   "metadata": {},
   "source": [
    "# 5. Evaluation"
   ]
  },
  {
   "cell_type": "code",
   "execution_count": 9,
   "metadata": {},
   "outputs": [
    {
     "name": "stdout",
     "output_type": "stream",
     "text": [
      "Achieved Score (MAE) :  2.0509797558135707\n"
     ]
    }
   ],
   "source": [
    "pipe = pipe_vect_simple\n",
    "\n",
    "train_y = sampleExpDfs['train_y'].groupby(INDICIES)['dbp'].mean()\n",
    "test_y = sampleExpDfs['test_y'].groupby(INDICIES)['dbp'].mean()\n",
    "\n",
    "pipe.fit(sampleExpDfs['train_x'], train_y)\n",
    "preds = pipe.predict(sampleExpDfs['test_x'])\n",
    "\n",
    "score_mae = mean_absolute_error(preds, test_y)\n",
    "print('Achieved Score (MAE) : ', score)"
   ]
  },
  {
   "cell_type": "code",
   "execution_count": 10,
   "metadata": {},
   "outputs": [
    {
     "data": {
      "text/plain": [
       "<AxesSubplot: xlabel='target', ylabel='preds'>"
      ]
     },
     "execution_count": 10,
     "metadata": {},
     "output_type": "execute_result"
    },
    {
     "data": {
      "image/png": "[encoded data removed]",
      "text/plain": [
       "<Figure size 640x480 with 1 Axes>"
      ]
     },
     "metadata": {},
     "output_type": "display_data"
    }
   ],
   "source": [
    "pd.DataFrame([preds, test_y], ['preds','target']).T.plot.scatter(1,0)"
   ]
  },
  {
   "cell_type": "code",
   "execution_count": null,
   "metadata": {},
   "outputs": [],
   "source": []
  }
 ],
 "metadata": {
  "interpreter": {
   "hash": "31f2aee4e71d21fbe5cf8b01ff0e069b9275f58929596ceb00d14d90e3e16cd6"
  },
  "kernelspec": {
   "display_name": "Python 3 (ipykernel)",
   "language": "python",
   "name": "python3"
  },
  "language_info": {
   "codemirror_mode": {
    "name": "ipython",
    "version": 3
   },
   "file_extension": ".py",
   "mimetype": "text/x-python",
   "name": "python",
   "nbconvert_exporter": "python",
   "pygments_lexer": "ipython3",
   "version": "3.8.14"
  }
 },
 "nbformat": 4,
 "nbformat_minor": 4
}
