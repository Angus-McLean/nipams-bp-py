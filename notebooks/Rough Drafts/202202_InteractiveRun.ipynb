{
 "cells": [
  {
   "cell_type": "markdown",
   "metadata": {},
   "source": [
    "# 202202_InteractiveRun"
   ]
  },
  {
   "cell_type": "markdown",
   "metadata": {},
   "source": [
    "## Setup"
   ]
  },
  {
   "cell_type": "code",
   "execution_count": 1,
   "metadata": {},
   "outputs": [
    {
     "name": "stdout",
     "output_type": "stream",
     "text": [
      "/app\n"
     ]
    }
   ],
   "source": [
    "### Setup Env for Local\n",
    "import os; from importlib import reload;\n",
    "%cd {os.environ['PROJECT_PATH']}\n",
    "from utils.constants import *"
   ]
  },
  {
   "cell_type": "code",
   "execution_count": 2,
   "metadata": {},
   "outputs": [
    {
     "name": "stderr",
     "output_type": "stream",
     "text": [
      "/app/src/dash_app/cache.py:49: UserWarning: Using FakeRedis - Not suitable for Production Use.\n",
      "  warnings.warn('Using FakeRedis - Not suitable for Production Use.')\n"
     ]
    }
   ],
   "source": [
    "### Python Imports\n",
    "import json, sys\n",
    "from dash import dcc, html, dash_table\n",
    "import dash_bootstrap_components as dbc\n",
    "from dash.dependencies import Input, Output, State\n",
    "import plotly.express as px\n",
    "import jupyter_dash\n",
    "\n",
    "from dash_app import cache\n",
    "from dash_app.cache import redis_store\n",
    "from utils import constants\n",
    "from data import load_data, preprocess\n",
    "\n",
    "# def log(*msg): print(*msg, file=sys.stderr)\n",
    "# def log(*msg): print(\"nipams-log\",*msg)\n",
    "# LOGS = []\n",
    "# def log(*msg): \n",
    "#     LOGS.extend(msg)\n"
   ]
  },
  {
   "cell_type": "code",
   "execution_count": 6,
   "metadata": {},
   "outputs": [
    {
     "ename": "TypeError",
     "evalue": "The `dcc.Store` component (version 2.2.0) with the ID \"asdf\" received an unexpected keyword argument: `persistence`\nAllowed arguments: clear_data, data, id, modified_timestamp, storage_type",
     "output_type": "error",
     "traceback": [
      "\u001b[0;31m---------------------------------------------------------------------------\u001b[0m",
      "\u001b[0;31mTypeError\u001b[0m                                 Traceback (most recent call last)",
      "Input \u001b[0;32mIn [6]\u001b[0m, in \u001b[0;36m<module>\u001b[0;34m\u001b[0m\n\u001b[0;32m----> 1\u001b[0m \u001b[43mdcc\u001b[49m\u001b[38;5;241;43m.\u001b[39;49m\u001b[43mStore\u001b[49m\u001b[43m(\u001b[49m\u001b[38;5;28;43mid\u001b[39;49m\u001b[38;5;241;43m=\u001b[39;49m\u001b[38;5;124;43m'\u001b[39;49m\u001b[38;5;124;43masdf\u001b[39;49m\u001b[38;5;124;43m'\u001b[39;49m\u001b[43m,\u001b[49m\u001b[43mpersistence\u001b[49m\u001b[38;5;241;43m=\u001b[39;49m\u001b[38;5;28;43;01mTrue\u001b[39;49;00m\u001b[43m)\u001b[49m\n",
      "File \u001b[0;32m/usr/local/lib/python3.8/site-packages/dash/development/base_component.py:425\u001b[0m, in \u001b[0;36m_explicitize_args.<locals>.wrapper\u001b[0;34m(*args, **kwargs)\u001b[0m\n\u001b[1;32m    423\u001b[0m \u001b[38;5;28;01mif\u001b[39;00m \u001b[38;5;124m\"\u001b[39m\u001b[38;5;124mself\u001b[39m\u001b[38;5;124m\"\u001b[39m \u001b[38;5;129;01min\u001b[39;00m kwargs[\u001b[38;5;124m\"\u001b[39m\u001b[38;5;124m_explicit_args\u001b[39m\u001b[38;5;124m\"\u001b[39m]:\n\u001b[1;32m    424\u001b[0m     kwargs[\u001b[38;5;124m\"\u001b[39m\u001b[38;5;124m_explicit_args\u001b[39m\u001b[38;5;124m\"\u001b[39m]\u001b[38;5;241m.\u001b[39mremove(\u001b[38;5;124m\"\u001b[39m\u001b[38;5;124mself\u001b[39m\u001b[38;5;124m\"\u001b[39m)\n\u001b[0;32m--> 425\u001b[0m \u001b[38;5;28;01mreturn\u001b[39;00m \u001b[43mfunc\u001b[49m\u001b[43m(\u001b[49m\u001b[38;5;241;43m*\u001b[39;49m\u001b[43margs\u001b[49m\u001b[43m,\u001b[49m\u001b[43m \u001b[49m\u001b[38;5;241;43m*\u001b[39;49m\u001b[38;5;241;43m*\u001b[39;49m\u001b[43mkwargs\u001b[49m\u001b[43m)\u001b[49m\n",
      "File \u001b[0;32m/usr/local/lib/python3.8/site-packages/dash/dcc/Store.py:70\u001b[0m, in \u001b[0;36mStore.__init__\u001b[0;34m(self, id, storage_type, data, clear_data, modified_timestamp, **kwargs)\u001b[0m\n\u001b[1;32m     68\u001b[0m     \u001b[38;5;28;01mif\u001b[39;00m k \u001b[38;5;129;01mnot\u001b[39;00m \u001b[38;5;129;01min\u001b[39;00m args:\n\u001b[1;32m     69\u001b[0m         \u001b[38;5;28;01mraise\u001b[39;00m \u001b[38;5;167;01mTypeError\u001b[39;00m(\u001b[38;5;124m\"\u001b[39m\u001b[38;5;124mRequired argument `\u001b[39m\u001b[38;5;124m\"\u001b[39m \u001b[38;5;241m+\u001b[39m k \u001b[38;5;241m+\u001b[39m \u001b[38;5;124m\"\u001b[39m\u001b[38;5;124m` was not specified.\u001b[39m\u001b[38;5;124m\"\u001b[39m)\n\u001b[0;32m---> 70\u001b[0m \u001b[38;5;28;43msuper\u001b[39;49m\u001b[43m(\u001b[49m\u001b[43mStore\u001b[49m\u001b[43m,\u001b[49m\u001b[43m \u001b[49m\u001b[38;5;28;43mself\u001b[39;49m\u001b[43m)\u001b[49m\u001b[38;5;241;43m.\u001b[39;49m\u001b[38;5;21;43m__init__\u001b[39;49m\u001b[43m(\u001b[49m\u001b[38;5;241;43m*\u001b[39;49m\u001b[38;5;241;43m*\u001b[39;49m\u001b[43margs\u001b[49m\u001b[43m)\u001b[49m\n",
      "File \u001b[0;32m/usr/local/lib/python3.8/site-packages/dash/development/base_component.py:133\u001b[0m, in \u001b[0;36mComponent.__init__\u001b[0;34m(self, **kwargs)\u001b[0m\n\u001b[1;32m    127\u001b[0m     error_string_prefix \u001b[38;5;241m=\u001b[39m \u001b[38;5;124m\"\u001b[39m\u001b[38;5;124mThe `\u001b[39m\u001b[38;5;132;01m{}\u001b[39;00m\u001b[38;5;124m` component\u001b[39m\u001b[38;5;132;01m{}\u001b[39;00m\u001b[38;5;124m\"\u001b[39m\u001b[38;5;241m.\u001b[39mformat(\n\u001b[1;32m    128\u001b[0m         \u001b[38;5;28mself\u001b[39m\u001b[38;5;241m.\u001b[39m_type,\n\u001b[1;32m    129\u001b[0m         \u001b[38;5;124m'\u001b[39m\u001b[38;5;124m with the ID \u001b[39m\u001b[38;5;124m\"\u001b[39m\u001b[38;5;132;01m{}\u001b[39;00m\u001b[38;5;124m\"\u001b[39m\u001b[38;5;124m'\u001b[39m\u001b[38;5;241m.\u001b[39mformat(kwargs[\u001b[38;5;124m\"\u001b[39m\u001b[38;5;124mid\u001b[39m\u001b[38;5;124m\"\u001b[39m]) \u001b[38;5;28;01mif\u001b[39;00m \u001b[38;5;124m\"\u001b[39m\u001b[38;5;124mid\u001b[39m\u001b[38;5;124m\"\u001b[39m \u001b[38;5;129;01min\u001b[39;00m kwargs \u001b[38;5;28;01melse\u001b[39;00m \u001b[38;5;124m\"\u001b[39m\u001b[38;5;124m\"\u001b[39m,\n\u001b[1;32m    130\u001b[0m     )\n\u001b[1;32m    132\u001b[0m \u001b[38;5;28;01mif\u001b[39;00m \u001b[38;5;129;01mnot\u001b[39;00m k_in_propnames \u001b[38;5;129;01mand\u001b[39;00m \u001b[38;5;129;01mnot\u001b[39;00m k_in_wildcards:\n\u001b[0;32m--> 133\u001b[0m     \u001b[38;5;28;01mraise\u001b[39;00m \u001b[38;5;167;01mTypeError\u001b[39;00m(\n\u001b[1;32m    134\u001b[0m         \u001b[38;5;124m\"\u001b[39m\u001b[38;5;132;01m{}\u001b[39;00m\u001b[38;5;124m received an unexpected keyword argument: `\u001b[39m\u001b[38;5;132;01m{}\u001b[39;00m\u001b[38;5;124m`\u001b[39m\u001b[38;5;124m\"\u001b[39m\u001b[38;5;241m.\u001b[39mformat(\n\u001b[1;32m    135\u001b[0m             error_string_prefix, k\n\u001b[1;32m    136\u001b[0m         )\n\u001b[1;32m    137\u001b[0m         \u001b[38;5;241m+\u001b[39m \u001b[38;5;124m\"\u001b[39m\u001b[38;5;130;01m\\n\u001b[39;00m\u001b[38;5;124mAllowed arguments: \u001b[39m\u001b[38;5;132;01m{}\u001b[39;00m\u001b[38;5;124m\"\u001b[39m\u001b[38;5;241m.\u001b[39mformat(  \u001b[38;5;66;03m# pylint: disable=no-member\u001b[39;00m\n\u001b[1;32m    138\u001b[0m             \u001b[38;5;124m\"\u001b[39m\u001b[38;5;124m, \u001b[39m\u001b[38;5;124m\"\u001b[39m\u001b[38;5;241m.\u001b[39mjoin(\u001b[38;5;28msorted\u001b[39m(\u001b[38;5;28mself\u001b[39m\u001b[38;5;241m.\u001b[39m_prop_names))\n\u001b[1;32m    139\u001b[0m         )\n\u001b[1;32m    140\u001b[0m     )\n\u001b[1;32m    142\u001b[0m \u001b[38;5;28;01mif\u001b[39;00m k \u001b[38;5;241m!=\u001b[39m \u001b[38;5;124m\"\u001b[39m\u001b[38;5;124mchildren\u001b[39m\u001b[38;5;124m\"\u001b[39m \u001b[38;5;129;01mand\u001b[39;00m \u001b[38;5;28misinstance\u001b[39m(v, Component):\n\u001b[1;32m    143\u001b[0m     \u001b[38;5;28;01mraise\u001b[39;00m \u001b[38;5;167;01mTypeError\u001b[39;00m(\n\u001b[1;32m    144\u001b[0m         error_string_prefix\n\u001b[1;32m    145\u001b[0m         \u001b[38;5;241m+\u001b[39m \u001b[38;5;124m\"\u001b[39m\u001b[38;5;124m detected a Component for a prop other than `children`\u001b[39m\u001b[38;5;130;01m\\n\u001b[39;00m\u001b[38;5;124m\"\u001b[39m\n\u001b[1;32m    146\u001b[0m         \u001b[38;5;241m+\u001b[39m \u001b[38;5;124m\"\u001b[39m\u001b[38;5;124mDid you forget to wrap multiple `children` in an array?\u001b[39m\u001b[38;5;130;01m\\n\u001b[39;00m\u001b[38;5;124m\"\u001b[39m\n\u001b[1;32m    147\u001b[0m         \u001b[38;5;241m+\u001b[39m \u001b[38;5;124m\"\u001b[39m\u001b[38;5;124mProp \u001b[39m\u001b[38;5;132;01m{}\u001b[39;00m\u001b[38;5;124m has value \u001b[39m\u001b[38;5;132;01m{}\u001b[39;00m\u001b[38;5;130;01m\\n\u001b[39;00m\u001b[38;5;124m\"\u001b[39m\u001b[38;5;241m.\u001b[39mformat(k, \u001b[38;5;28mrepr\u001b[39m(v))\n\u001b[1;32m    148\u001b[0m     )\n",
      "\u001b[0;31mTypeError\u001b[0m: The `dcc.Store` component (version 2.2.0) with the ID \"asdf\" received an unexpected keyword argument: `persistence`\nAllowed arguments: clear_data, data, id, modified_timestamp, storage_type"
     ]
    }
   ],
   "source": [
    "dcc.Store(id='asdf',storage_type='session')"
   ]
  },
  {
   "cell_type": "markdown",
   "metadata": {},
   "source": [
    "## Declare JupyterApp"
   ]
  },
  {
   "cell_type": "code",
   "execution_count": null,
   "metadata": {},
   "outputs": [],
   "source": [
    "### App Setup\n",
    "app = jupyter_dash.JupyterDash(__name__, external_stylesheets=[dbc.themes.BOOTSTRAP])\n",
    "\n",
    "LAYOUT = [\n",
    "    html.H1('Data Loading', style={\"textAlign\": \"center\"})\n",
    "]\n",
    "\n",
    "app.layout = dbc.Col(LAYOUT);\n",
    "# app.run_server(mode='inline',port=8501, host=\"127.0.0.1\", debug=True, **{'width': '200px', 'height': '100px'})\n",
    "app.run_server(mode='inline',port=8501, host=\"0.0.0.0\", debug=True, **{'width': '200px', 'height': '100px'})"
   ]
  },
  {
   "cell_type": "markdown",
   "metadata": {},
   "source": [
    "# Read Data"
   ]
  },
  {
   "cell_type": "code",
   "execution_count": null,
   "metadata": {},
   "outputs": [],
   "source": [
    "### Load Data\n",
    "from data import load_data, preprocess; reload(load_data)\n",
    "# dfAll = load_data.load_dataframe_from_pickle('data/interim')\n",
    "\n",
    "app = jupyter_dash.JupyterDash(__name__, external_stylesheets=[dbc.themes.BOOTSTRAP])\n",
    "\n",
    "TEST_TYPES = ['HLV','LLV','rec','res','bre']\n",
    "LOAD_LAYOUT = [dbc.Card(\n",
    "    dbc.CardBody([\n",
    "        html.H4(\"Load VCG Data\", className=\"card-title\"),\n",
    "        html.P(\n",
    "            \"Select which types of VCG readings to work with. (Read preprocessed VCG data from local file system.)\",\n",
    "            className=\"card-text\",\n",
    "        ),\n",
    "        dbc.InputGroup([\n",
    "            dcc.Dropdown(id='input_test_types', multi=True,\n",
    "                         options=[{'value':i,'label':i} for i in TEST_TYPES], value=TEST_TYPES[:2],\n",
    "                        style={'minWidth':'400px'}),\n",
    "            dbc.Button(id='button-load', children=['Load Data'], n_clicks=0, color=\"primary\")\n",
    "        ]),\n",
    "        dbc.Alert(\"Success! Your data loaded Successfully\",id=\"data-load-success\",dismissable=True,fade=True,duration=2000,is_open=False,),\n",
    "        # html.Pre('\\n'.join(['asdf','asdf2','qwer']), style={'overflow-y':'scroll', 'max-height':'100px', 'background':'grey'}),\n",
    "        dcc.Store('raw-data'),\n",
    "    ])\n",
    ")]\n",
    "\n",
    "@app.callback(\n",
    "    [Output('raw-data','data'), Output('data-load-success','is_open')],\n",
    "    State('input_test_types','value'), Input('button-load','n_clicks') \n",
    ")\n",
    "def button_clicked(types, n):\n",
    "    print('input-file-pattern, button-load', types, n)\n",
    "    dfAll = load_data.load_dataframe_from_pickle('data/interim', '|'.join(types or []))\n",
    "    key = cache.set(dfAll)\n",
    "    print('set cache', key)\n",
    "    return key, True\n",
    "\n",
    "\n",
    "app.layout = dbc.Col(LOAD_LAYOUT);\n",
    "app.run_server(mode='inline',port=8501, host=\"0.0.0.0\", debug=True, **{'width': '600px', 'height': '400px'})"
   ]
  },
  {
   "cell_type": "markdown",
   "metadata": {},
   "source": [
    "# Dataset Overview"
   ]
  },
  {
   "cell_type": "code",
   "execution_count": null,
   "metadata": {},
   "outputs": [],
   "source": []
  },
  {
   "cell_type": "code",
   "execution_count": null,
   "metadata": {},
   "outputs": [],
   "source": []
  },
  {
   "cell_type": "code",
   "execution_count": null,
   "metadata": {},
   "outputs": [],
   "source": [
    "from dash_app.components import datatable_comp; reload(datatable_comp)\n",
    "app = jupyter_dash.JupyterDash(__name__, external_stylesheets=[dbc.themes.BOOTSTRAP])\n",
    "app.layout = dbc.Card([\n",
    "        dbc.CardBody([\n",
    "            html.H4(\"Load VCG Data\", className=\"card-title\"),\n",
    "            html.P(\n",
    "                \"Select which types of VCG readings to work with. (Read preprocessed VCG data from local file system.)\",\n",
    "                className=\"card-text\",)\n",
    "        ]),\n",
    "        html.Div(id='datatable-container'),\n",
    "        html.Div(id='graphs')\n",
    "])\n",
    "\n",
    "app.run_server(mode='inline',port=8501, host=\"0.0.0.0\", debug=True, **{'width': '800px', 'height': '600px'})"
   ]
  },
  {
   "cell_type": "code",
   "execution_count": null,
   "metadata": {},
   "outputs": [],
   "source": []
  },
  {
   "cell_type": "code",
   "execution_count": null,
   "metadata": {},
   "outputs": [],
   "source": []
  },
  {
   "cell_type": "code",
   "execution_count": null,
   "metadata": {},
   "outputs": [],
   "source": []
  },
  {
   "cell_type": "code",
   "execution_count": null,
   "metadata": {},
   "outputs": [],
   "source": [
    "### App Setup\n",
    "from dash_app.components import datatable_comp; reload(datatable_comp)\n",
    "app = jupyter_dash.JupyterDash(__name__, external_stylesheets=[dbc.themes.BOOTSTRAP])\n",
    "\n",
    "app.layout = html.Div([\n",
    "    dcc.Dropdown(\n",
    "        ['iris', 'gapminder'],\n",
    "        'iris',\n",
    "        id='dataset-selector'\n",
    "    ),\n",
    "    html.Div(id='datatable-container'),\n",
    "    html.Div(id='graphs')\n",
    "])\n",
    "\n",
    "# Display a DataTableIO based off of the dataset\n",
    "@callback(\n",
    "    Output('datatable-container', 'children'),\n",
    "    Input('dataset-selector', 'value'))\n",
    "def display_datatable(value):\n",
    "    df = getattr(px.data, value)()\n",
    "    return datatable_comp.DataTableAIO(df, aio_id='my-dataset')\n",
    "\n",
    "# Graph the filtered data\n",
    "@callback(\n",
    "    Output('graphs', 'children'),\n",
    "    Input(datatable_comp.DataTableAIO.ids.datatable('my-dataset'), 'filter_query'),\n",
    "    State(datatable_comp.DataTableAIO.ids.store('my-dataset'), 'data')\n",
    ")\n",
    "def update_graph(filter_query, store):\n",
    "    # Fetch the data that `DataTableAIO` stored in Redis\n",
    "    df = redis_store.load(store['df'])\n",
    "    # Filter the data using the method that `DataTableAIO` exposes\n",
    "    # and uses internally\n",
    "    df = datatable_comp.DataTableAIO.filter_df(df, filter_query)\n",
    "\n",
    "    # Graph each column of the data\n",
    "    divs = html.Div([\n",
    "        html.Div([\n",
    "            html.B(c),\n",
    "            dcc.Graph(figure=px.histogram(x=df[c]))\n",
    "        ]) for c in df.columns\n",
    "    ])\n",
    "    return divs\n",
    "\n",
    "\n",
    "app.run_server(mode='inline',port=8501, host=\"0.0.0.0\", debug=True, **{'width': '800px', 'height': '600px'})"
   ]
  },
  {
   "cell_type": "code",
   "execution_count": null,
   "metadata": {},
   "outputs": [],
   "source": [
    "## Dataset Overview\n",
    "\n",
    "def summarize_data_bp(df):\n",
    "    df = pd.concat([\n",
    "        df.describe(),\n",
    "        df.agg(['nunique'])\n",
    "    ], axis=0)\n",
    "    return df.round(3).reset_index()\n",
    "\n",
    "\n",
    "\n",
    "# summarize_data_bp(dfAll)"
   ]
  },
  {
   "cell_type": "code",
   "execution_count": null,
   "metadata": {},
   "outputs": [],
   "source": [
    "### Dataset Overview\n",
    "# app = jupyter_dash.JupyterDash(__name__, external_stylesheets=[dbc.themes.BOOTSTRAP])\n",
    "\n",
    "tab1_content = dbc.CardBody([\n",
    "        html.H6(\"Global Totals\", className=\"card-title\"),\n",
    "        html.P(\"Overview of IMU and BP columns.\",className=\"card-text\"),\n",
    "        html.Div(id='viz_overview',children=[dbc.Spinner(color=\"primary\")])\n",
    "    ])\n",
    "tab2_content = dbc.CardBody([\n",
    "        html.H6(\"Patient Totals\", className=\"card-title\"),\n",
    "        html.P(\"Overview of IMU and BP columns.\",className=\"card-text\"),\n",
    "        html.Div(id='viz_overview_patients',children=[dbc.Spinner(color=\"primary\")])\n",
    "    ])\n",
    "\n",
    "OVERVIEW_LAYOUT = [dbc.Card(\n",
    "    dbc.CardBody([\n",
    "        html.H4(\"Overview VCG Data\", className=\"card-title\"),\n",
    "        html.P(\"Overview of IMU and BP columns.\",className=\"card-text\",),\n",
    "        dbc.Tabs([\n",
    "                dbc.Tab(tab1_content, label=\"Overview\"),\n",
    "                dbc.Tab(tab2_content, label=\"Patient Totals\"),\n",
    "            ],id=\"tabs\"),\n",
    "        # dbc.Alert(\"Success! Your data loaded Successfully\",id=\"overview-success\",dismissable=True,fade=True,duration=2000,is_open=False,),\n",
    "        # html.Pre('\\n'.join(['asdf','asdf2','qwer']), style={'overflow-y':'scroll', 'max-height':'100px', 'background':'grey'}),\n",
    "    ])),\n",
    "]\n",
    "\n",
    "@app.callback(Output('viz_overview','children'), Input('raw-data','data'))\n",
    "def display_overview(df_key):\n",
    "    print('display_overview', df_key)\n",
    "    dfAll = cache.get(df_key)\n",
    "    df = summarize_data_bp(dfAll)\n",
    "    return dash_table.DataTable(\n",
    "        df.to_dict('records'),\n",
    "        [{\"name\": i, \"id\": i} for i in df.columns]\n",
    "    )\n",
    "\n",
    "@app.callback(Output('viz_overview_patients','children'), Input('raw-data','data'))\n",
    "def viz_overview_patients(df_key):\n",
    "    print('viz_overview_patients', df_key)\n",
    "    dfAll = cache.get(df_key)\n",
    "    df = dfAll.groupby('patient').agg(['count','nunique','min','max','mean']).round(2).reset_index()\n",
    "    return dash_table.DataTable(\n",
    "        df.to_dict('records'),\n",
    "        [{\"name\": i, \"id\": i} for i in df.columns]\n",
    "    )\n",
    "\n",
    "# FORCE_CACHE_INPUT = [dcc.Store('raw-data'),dcc.Input(id='force-cache-input', value='', placeholder='Enter CacheKey..')]\n",
    "# @app.callback(Output('raw-data','data'), Input('force-cache-input', 'value'))\n",
    "# def update_cache(key):return cache.set(cache.get(key))\n",
    "\n",
    "app.layout = dbc.Col(\n",
    "    # FORCE_CACHE_INPUT + \n",
    "    LOAD_LAYOUT +\n",
    "    OVERVIEW_LAYOUT);\n",
    "app.run_server(mode='inline',port=8501, host=\"0.0.0.0\", debug=True, verbose=True, **{'width': '800px', 'height': '400px'})"
   ]
  },
  {
   "cell_type": "markdown",
   "metadata": {},
   "source": [
    "##### "
   ]
  },
  {
   "cell_type": "code",
   "execution_count": null,
   "metadata": {},
   "outputs": [],
   "source": []
  },
  {
   "cell_type": "code",
   "execution_count": null,
   "metadata": {},
   "outputs": [],
   "source": [
    "STOP_HERE"
   ]
  },
  {
   "cell_type": "code",
   "execution_count": null,
   "metadata": {},
   "outputs": [],
   "source": [
    "app = jupyter_dash.JupyterDash(__name__, external_stylesheets=[dbc.themes.BOOTSTRAP])\n",
    "\n",
    "FORCE_CACHE_INPUT = [dcc.Store('raw-data'),dcc.Input(id='force-cache-input', value='', placeholder='Enter CacheKey..')]\n",
    "@app.callback(Output('raw-data','data'), Input('force-cache-input', 'value'))\n",
    "def update_cache(key):return cache.set(cache.get(key))\n",
    "\n",
    "app.layout = dbc.Col(FORCE_CACHE_INPUT);\n",
    "app.run_server(mode='inline',port=8501, host=\"0.0.0.0\", debug=True, **{'width': '600px', 'height': '400px'})"
   ]
  },
  {
   "cell_type": "code",
   "execution_count": null,
   "metadata": {},
   "outputs": [],
   "source": [
    "## Patient Overview\n",
    "dfAll.groupby('patient').agg(['count','nunique','min','max','mean'])\n"
   ]
  },
  {
   "cell_type": "code",
   "execution_count": null,
   "metadata": {},
   "outputs": [],
   "source": [
    "## Interactive - Load & Summarize\n",
    "\n"
   ]
  },
  {
   "cell_type": "markdown",
   "metadata": {},
   "source": [
    "# Review Dataset"
   ]
  },
  {
   "cell_type": "code",
   "execution_count": null,
   "metadata": {},
   "outputs": [],
   "source": []
  },
  {
   "cell_type": "code",
   "execution_count": null,
   "metadata": {},
   "outputs": [],
   "source": []
  },
  {
   "cell_type": "markdown",
   "metadata": {},
   "source": [
    "# Full Interactive App"
   ]
  },
  {
   "cell_type": "code",
   "execution_count": null,
   "metadata": {},
   "outputs": [],
   "source": [
    "app.layout = html.Div(APP_LAYOUT)\n",
    "app.run_server(mode='inline',port=8501, host=\"0.0.0.0\", debug=True, **{'width': '600px', 'height': '400px'})"
   ]
  },
  {
   "cell_type": "code",
   "execution_count": null,
   "metadata": {},
   "outputs": [],
   "source": []
  },
  {
   "cell_type": "code",
   "execution_count": null,
   "metadata": {},
   "outputs": [],
   "source": []
  },
  {
   "cell_type": "code",
   "execution_count": null,
   "metadata": {},
   "outputs": [],
   "source": []
  },
  {
   "cell_type": "code",
   "execution_count": null,
   "metadata": {},
   "outputs": [],
   "source": []
  },
  {
   "cell_type": "code",
   "execution_count": null,
   "metadata": {},
   "outputs": [],
   "source": []
  },
  {
   "cell_type": "code",
   "execution_count": null,
   "metadata": {},
   "outputs": [],
   "source": []
  },
  {
   "cell_type": "code",
   "execution_count": null,
   "metadata": {},
   "outputs": [],
   "source": [
    "STOP_HERE"
   ]
  },
  {
   "cell_type": "code",
   "execution_count": null,
   "metadata": {},
   "outputs": [],
   "source": [
    "### Imports\n",
    "import json, sys\n",
    "from dash import dcc, html, dash_table\n",
    "from dash.dependencies import Input, Output, State\n",
    "\n",
    "from dash_app import cache\n",
    "\n",
    "from utils import constants\n",
    "from data import load_data, preprocess\n",
    "\n",
    "# def log(*msg): print(*msg,file=sys.stderr)\n",
    "def log(*msg): print(\"nipams-log\",*msg)\n",
    "\n",
    "### App Setup\n",
    "app = jupyter_dash.JupyterDash(__name__, \n",
    "                               # assets_url_path=os.getcwd() + 'src/dash_app/assets/'\n",
    "                               external_stylesheets=[dbc.themes.BOOTSTRAP]\n",
    "                              )\n",
    "\n",
    "app.layout = html.Div([\n",
    "    html.H1('Dash & DataCaching', style={\"textAlign\": \"center\"}),\n",
    "    html.H3('Load Data', style={\"textAlign\": \"center\"}),\n",
    "    dcc.Input(id='input-file-pattern', value='LLV'),\n",
    "    html.Button(id='button-load', children=['Load Data'], n_clicks=0),\n",
    "    dcc.Store('raw-data'),\n",
    "    \n",
    "    html.H3('Visualize', style={\"textAlign\": \"center\"}),\n",
    "    dcc.Dropdown(id='file_ids', multi=True,\n",
    "                 options=[{'value':i,'label':i} for i in dfAll.file.unique()]),\n",
    "    html.Div(id='viz'),\n",
    "    dcc.Store('split-data'),\n",
    "    \n",
    "    html.H3('Modeling', style={\"textAlign\": \"center\"}),\n",
    "    html.Button(id='button-train', children=['Train Model'], n_clicks=0),\n",
    "    dcc.Store('model-binary'),\n",
    "    \n",
    "    html.Div(id='logs-div'),\n",
    "])\n",
    "\n",
    "\n",
    "### Load Data\n",
    "@app.callback(\n",
    "    Output('raw-data','data'),\n",
    "    Input('input-file-pattern','value'), Input('button-load','n_clicks') \n",
    ")\n",
    "def button_clicked(pattern, n):\n",
    "    log('input-file-pattern, button-load', pattern, n)\n",
    "    # if cache.has(pattern): return cache.set(cache.get(pattern))\n",
    "    dfBpAll, dfImuAll = load_data.load_dataframe_from_mat('data/raw_mat/', pattern)\n",
    "    dfAll = preprocess.merge_imu_vcg_with_heartbeats(dfBpAll, dfImuAll)\n",
    "    cache.set(dfAll, key=pattern)\n",
    "    return cache.set(dfAll)\n",
    "\n",
    "\n",
    "### Viz Functions\n",
    "@app.callback(\n",
    "    Output('viz','children'),\n",
    "    Input('raw-data','data'), Input('file_ids','value')\n",
    ")\n",
    "def trigger_viz(data, file_ids):\n",
    "    log('trigger_viz', data, file_ids)\n",
    "\n",
    "    dfAll = cache.get(data)\n",
    "    # dfAll = dfAll[dfAll.file.isin(file_ids)]\n",
    "    dfImu = dfAll[constants.INDICIES + constants.IMU_COLS]\n",
    "    dfBp = dfAll[constants.INDICIES + constants.BP_COLS + ['patient','test_type']]\n",
    "\n",
    "    df = summarize_data_bp(dfBp).reset_index()\n",
    "    return html.Div([\n",
    "        html.P(children=[\"BP Shape\", str(dfBpAll.shape), \"IMU Shape\", str(dfImuAll.shape),]),\n",
    "        dash_table.DataTable(\n",
    "            df.to_dict('records'),\n",
    "            [{\"name\": i, \"id\": i} for i in df.columns]\n",
    "        ),\n",
    "        # px.line(dfBpAll, y='sbp', color='file')\n",
    "    ])\n",
    "    \n",
    "    # return dcc.Graph(\n",
    "    #     figure=px.scatter_3d(dff2, 'sepal_length','petal_length','sepal_width', color='species')\n",
    "    # )\n",
    "\n",
    "\n",
    "\n",
    "### Modeling & Save\n",
    "@app.callback(\n",
    "    Output('model-binary','data'),\n",
    "    Input('button-train','n_clicks'), State('raw-data','data')\n",
    ")\n",
    "def trigger_train_model(n, data):\n",
    "    log('trigger_train_model',n, data)\n",
    "    if (n < 1) or data == None : \n",
    "        log('trigger_train_model skipping..')\n",
    "        return None\n",
    "    dff = cache.get(data)\n",
    "    \n",
    "    model = lambda x : np.rand.rand()\n",
    "    return cache.set(model)\n",
    "\n",
    "\n",
    "### Run App\n",
    "if __name__ == '__main__':\n",
    "    app.run_server(mode='inline',port=8501, host=\"0.0.0.0\", debug=True,\n",
    "        #**{'width': '1200px', 'height': '800px'}\n",
    "    )"
   ]
  },
  {
   "cell_type": "code",
   "execution_count": null,
   "metadata": {},
   "outputs": [],
   "source": [
    "dfAll = cache.CACHE['LLV']\n",
    "\n",
    "dfImu = dfAll[constants.INDICIES + constants.IMU_COLS]\n",
    "dfBp = dfAll[constants.INDICIES + constants.BP_COLS + ['patient','test_type']]"
   ]
  }
 ],
 "metadata": {
  "kernelspec": {
   "display_name": "Python 3 (ipykernel)",
   "language": "python",
   "name": "python3"
  },
  "language_info": {
   "codemirror_mode": {
    "name": "ipython",
    "version": 3
   },
   "file_extension": ".py",
   "mimetype": "text/x-python",
   "name": "python",
   "nbconvert_exporter": "python",
   "pygments_lexer": "ipython3",
   "version": "3.8.13"
  }
 },
 "nbformat": 4,
 "nbformat_minor": 4
}
